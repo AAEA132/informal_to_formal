{
  "cells": [
    {
      "cell_type": "code",
      "execution_count": null,
      "metadata": {
        "colab": {
          "base_uri": "https://localhost:8080/"
        },
        "id": "LKwcJXt7IKTL",
        "outputId": "4bdea7aa-2420-47ca-986d-84efa29eb189"
      },
      "outputs": [
        {
          "name": "stdout",
          "output_type": "stream",
          "text": [
            "Collecting jiwer\n",
            "  Downloading jiwer-4.0.0-py3-none-any.whl.metadata (3.3 kB)\n",
            "Requirement already satisfied: click>=8.1.8 in /usr/local/lib/python3.12/dist-packages (from jiwer) (8.2.1)\n",
            "Collecting rapidfuzz>=3.9.7 (from jiwer)\n",
            "  Downloading rapidfuzz-3.14.1-cp312-cp312-manylinux_2_27_x86_64.manylinux_2_28_x86_64.whl.metadata (12 kB)\n",
            "Downloading jiwer-4.0.0-py3-none-any.whl (23 kB)\n",
            "Downloading rapidfuzz-3.14.1-cp312-cp312-manylinux_2_27_x86_64.manylinux_2_28_x86_64.whl (3.2 MB)\n",
            "\u001b[2K   \u001b[90m━━━━━━━━━━━━━━━━━━━━━━━━━━━━━━━━━━━━━━━━\u001b[0m \u001b[32m3.2/3.2 MB\u001b[0m \u001b[31m13.5 MB/s\u001b[0m eta \u001b[36m0:00:00\u001b[0m\n",
            "\u001b[?25hInstalling collected packages: rapidfuzz, jiwer\n",
            "Successfully installed jiwer-4.0.0 rapidfuzz-3.14.1\n"
          ]
        }
      ],
      "source": [
        "!pip install jiwer"
      ]
    },
    {
      "cell_type": "code",
      "execution_count": null,
      "metadata": {
        "id": "CEc0yvlOHAnQ"
      },
      "outputs": [],
      "source": [
        "import os\n",
        "import time\n",
        "import random\n",
        "import numpy as np\n",
        "import pandas as pd\n",
        "import torch\n",
        "import torch.nn as nn\n",
        "import torch.optim as optim\n",
        "from torch.utils.data import Dataset, DataLoader\n",
        "from jiwer import wer, cer\n",
        "import matplotlib.pyplot as plt\n",
        "from sklearn.model_selection import train_test_split\n",
        "from tqdm import tqdm\n",
        "import pickle\n",
        "import re"
      ]
    },
    {
      "cell_type": "code",
      "execution_count": null,
      "metadata": {
        "id": "-5IX9TycHAnS"
      },
      "outputs": [],
      "source": [
        "# Set random seeds for reproducibility\n",
        "SEED = 42\n",
        "random.seed(SEED)\n",
        "np.random.seed(SEED)\n",
        "torch.manual_seed(SEED)\n",
        "torch.cuda.manual_seed_all(SEED)"
      ]
    },
    {
      "cell_type": "code",
      "execution_count": null,
      "metadata": {
        "colab": {
          "base_uri": "https://localhost:8080/"
        },
        "id": "93Dv4W5dHAnT",
        "outputId": "9e2162d0-cfbc-44bf-a7b0-4f9b5f447f76"
      },
      "outputs": [
        {
          "name": "stdout",
          "output_type": "stream",
          "text": [
            "Using device: cuda\n"
          ]
        }
      ],
      "source": [
        "# Check if GPU is available\n",
        "DEVICE = torch.device('cuda' if torch.cuda.is_available() else 'cpu')\n",
        "print(f'Using device: {DEVICE}')"
      ]
    },
    {
      "cell_type": "code",
      "execution_count": null,
      "metadata": {
        "colab": {
          "base_uri": "https://localhost:8080/"
        },
        "id": "YNTmghqjIRCC",
        "outputId": "799d6a1a-15aa-435d-d9e5-88611f104b1c"
      },
      "outputs": [
        {
          "name": "stdout",
          "output_type": "stream",
          "text": [
            "Mounted at /content/drive\n"
          ]
        }
      ],
      "source": [
        "# Create output directory\n",
        "from google.colab import drive\n",
        "drive.mount('/content/drive')\n",
        "\n",
        "OUTPUT_DIR = '/content/drive/MyDrive/output_lstm_char/'\n",
        "os.makedirs(OUTPUT_DIR, exist_ok=True)"
      ]
    },
    {
      "cell_type": "code",
      "execution_count": null,
      "metadata": {
        "id": "VRikZBBVHAnT"
      },
      "outputs": [],
      "source": [
        "# # Create output directory\n",
        "# OUTPUT_DIR = './output_lstm_char/'\n",
        "# if not os.path.exists(OUTPUT_DIR):\n",
        "#     os.makedirs(OUTPUT_DIR)"
      ]
    },
    {
      "cell_type": "code",
      "execution_count": null,
      "metadata": {
        "id": "JiYJho4fHAnU"
      },
      "outputs": [],
      "source": [
        "# Paths for saving/loading\n",
        "DATASET_PATH = './exportStatements.xlsx'\n",
        "VOCAB_PATH = os.path.join(OUTPUT_DIR, 'char_vocab.pkl')\n",
        "PREPROCESSED_DATA_PATH = os.path.join(OUTPUT_DIR, 'preprocessed_data_char.pkl')\n",
        "BEST_MODEL_PATH = os.path.join(OUTPUT_DIR, 'best_lstm_model_char.pt')\n",
        "BEST_CER_MODEL_PATH = os.path.join(OUTPUT_DIR, 'best_lstm_model_cer.pt')\n",
        "LOSS_PLOT_PATH = os.path.join(OUTPUT_DIR, 'lstm_loss_plot_char.png')\n",
        "ER_PLOT_PATH = os.path.join(OUTPUT_DIR, 'er_plot.png')"
      ]
    },
    {
      "cell_type": "code",
      "execution_count": null,
      "metadata": {
        "id": "BS_5c7xXHAnU"
      },
      "outputs": [],
      "source": [
        "# Load the dataset\n",
        "df = pd.read_excel(DATASET_PATH)"
      ]
    },
    {
      "cell_type": "code",
      "execution_count": null,
      "metadata": {
        "colab": {
          "base_uri": "https://localhost:8080/"
        },
        "id": "miXXuXpaHAnV",
        "outputId": "740f20e1-1bb7-4d70-917a-fce087ef716f"
      },
      "outputs": [
        {
          "name": "stdout",
          "output_type": "stream",
          "text": [
            "Missing values in 'inFormalForm': 0\n",
            "Missing values in 'FormalForm': 1\n",
            "Dropped 1 rows due to missing values.\n"
          ]
        }
      ],
      "source": [
        "# Check for missing values in 'inFormalForm' and 'FormalForm'\n",
        "print(\"Missing values in 'inFormalForm':\", df['inFormalForm'].isnull().sum())\n",
        "print(\"Missing values in 'FormalForm':\", df['FormalForm'].isnull().sum())\n",
        "\n",
        "# Drop rows with missing values in 'inFormalForm' and 'FormalForm'\n",
        "initial_length = len(df)\n",
        "df = df.dropna(subset=['inFormalForm', 'FormalForm']).reset_index(drop=True)\n",
        "final_length = len(df)\n",
        "\n",
        "df['inFormalForm'] = df['inFormalForm'].astype(str)\n",
        "df['FormalForm'] = df['FormalForm'].astype(str)\n",
        "\n",
        "print(f\"Dropped {initial_length - final_length} rows due to missing values.\")"
      ]
    },
    {
      "cell_type": "code",
      "execution_count": null,
      "metadata": {
        "id": "sNoZHhlpHAnV"
      },
      "outputs": [],
      "source": [
        "def clean_persian_text(text):\n",
        "    # 1. Keep only Persian letters, English letters, digits, whitespace, ZWNJ\n",
        "    text = re.sub(r\"[^\\u0600-\\u06FFa-zA-Z0-9\\u06F0-\\u06F9\\u0660-\\u0669\\u200c\\s]\", \" \", text)\n",
        "    # Remove leftover Persian punctuations explicitly (، ؛ ؟)\n",
        "    text = re.sub(r\"[،؛؟]\", \" \", text)\n",
        "    # Remove Arabic diacritics (harakat)\n",
        "    arabic_diacritics = r\"[\\u064B-\\u065F\\u0670\\u06D6-\\u06ED]\"\n",
        "    text = re.sub(arabic_diacritics, \"\", text)\n",
        "\n",
        "    # 2. Normalize Persian/Arabic digits to Western digits\n",
        "    persian_digits = \"۰۱۲۳۴۵۶۷۸۹\"\n",
        "    arabic_digits = \"٠١٢٣٤٥٦٧٨٩\"\n",
        "    for p, a, e in zip(persian_digits, arabic_digits, \"0123456789\"):\n",
        "        text = text.replace(p, e).replace(a, e)\n",
        "\n",
        "    # 3. Separate numbers stuck to Persian/English letters\n",
        "    text = re.sub(r\"(\\d+)(?=[\\u0600-\\u06FFa-zA-Z])\", r\"\\1 \", text)  # digit before letter\n",
        "    text = re.sub(r\"([\\u0600-\\u06FFa-zA-Z])(?=\\d+)\", r\"\\1 \", text)  # letter before digit\n",
        "\n",
        "    # 4. Remove underscores\n",
        "    text = re.sub(r\"_+\", \"\", text)\n",
        "\n",
        "    # 5. Normalize spaces\n",
        "    text = re.sub(r\"\\s+\", \" \", text).strip()\n",
        "\n",
        "    return text"
      ]
    },
    {
      "cell_type": "code",
      "execution_count": null,
      "metadata": {
        "id": "e0sEgRS_HAnV"
      },
      "outputs": [],
      "source": [
        "df['inFormalForm'] = df['inFormalForm'].apply(clean_persian_text)\n",
        "df['FormalForm'] = df['FormalForm'].apply(clean_persian_text)"
      ]
    },
    {
      "cell_type": "code",
      "execution_count": null,
      "metadata": {
        "id": "WMqY48CsHAnW"
      },
      "outputs": [],
      "source": [
        "# Split data into training, validation, and test sets (80%, 10%, 10%)\n",
        "train_df, temp_df = train_test_split(df, test_size=0.2, random_state=SEED)\n",
        "val_df, test_df = train_test_split(temp_df, test_size=0.5, random_state=SEED)"
      ]
    },
    {
      "cell_type": "code",
      "execution_count": null,
      "metadata": {
        "colab": {
          "base_uri": "https://localhost:8080/"
        },
        "id": "VLiq6dA7HAnX",
        "outputId": "4b8d1875-b773-4ca0-c845-cd2ae9a53a56"
      },
      "outputs": [
        {
          "name": "stdout",
          "output_type": "stream",
          "text": [
            "Loading existing character vocabulary...\n"
          ]
        }
      ],
      "source": [
        "# Build character vocabulary from training data\n",
        "if not os.path.exists(VOCAB_PATH):\n",
        "    print('Building character vocabulary...')\n",
        "    all_text = ''.join(train_df['inFormalForm'].tolist() + train_df['FormalForm'].tolist())\n",
        "    chars = sorted(list(set(all_text)))\n",
        "    # Add special tokens\n",
        "    special_tokens = ['<pad>', '<unk>', '<s>', '</s>']\n",
        "    char2idx = {char: idx + len(special_tokens) for idx, char in enumerate(chars)}\n",
        "    for idx, token in enumerate(special_tokens):\n",
        "        char2idx[token] = idx\n",
        "    idx2char = {idx: char for char, idx in char2idx.items()}\n",
        "    # Save vocabulary\n",
        "    with open(VOCAB_PATH, 'wb') as f:\n",
        "        pickle.dump({'char2idx': char2idx, 'idx2char': idx2char}, f)\n",
        "    print('Character vocabulary built and saved.')\n",
        "else:\n",
        "    print('Loading existing character vocabulary...')\n",
        "    with open(VOCAB_PATH, 'rb') as f:\n",
        "        vocab = pickle.load(f)\n",
        "        char2idx = vocab['char2idx']\n",
        "        idx2char = vocab['idx2char']"
      ]
    },
    {
      "cell_type": "code",
      "execution_count": null,
      "metadata": {
        "colab": {
          "base_uri": "https://localhost:8080/"
        },
        "id": "_wrirkmtHAnX",
        "outputId": "329c5c2c-be22-4417-fcbf-2aeeefa79178"
      },
      "outputs": [
        {
          "data": {
            "text/plain": [
              "(0, 1, 2, 3)"
            ]
          },
          "execution_count": 14,
          "metadata": {},
          "output_type": "execute_result"
        }
      ],
      "source": [
        "# Special token IDs\n",
        "PAD_IDX = char2idx['<pad>']\n",
        "UNK_IDX = char2idx['<unk>']\n",
        "BOS_IDX = char2idx['<s>']\n",
        "EOS_IDX = char2idx['</s>']\n",
        "\n",
        "PAD_IDX, UNK_IDX, BOS_IDX, EOS_IDX"
      ]
    },
    {
      "cell_type": "code",
      "execution_count": null,
      "metadata": {
        "colab": {
          "base_uri": "https://localhost:8080/"
        },
        "id": "tVyGNqGdHAnY",
        "outputId": "f6385c59-938f-4c01-9570-ad134210eb7b"
      },
      "outputs": [
        {
          "data": {
            "text/plain": [
              "406"
            ]
          },
          "execution_count": 15,
          "metadata": {},
          "output_type": "execute_result"
        }
      ],
      "source": [
        "# Maximum sequence length (based on dataset)\n",
        "def get_max_len(df_list):\n",
        "    max_len = 0\n",
        "    for df in df_list:\n",
        "        lengths_src = df['inFormalForm'].apply(lambda x: len(x) + 2)  # +2 for BOS and EOS\n",
        "        lengths_trg = df['FormalForm'].apply(lambda x: len(x) + 2)\n",
        "        max_len = max(max_len, lengths_src.max(), lengths_trg.max())\n",
        "    return max_len\n",
        "\n",
        "MAX_LEN = get_max_len([train_df, val_df, test_df])\n",
        "MAX_LEN"
      ]
    },
    {
      "cell_type": "code",
      "execution_count": null,
      "metadata": {
        "colab": {
          "base_uri": "https://localhost:8080/"
        },
        "id": "ztPvDi6HHAnY",
        "outputId": "603c65e6-14b2-4687-fa3d-ce7c00468c0b"
      },
      "outputs": [
        {
          "name": "stdout",
          "output_type": "stream",
          "text": [
            "Loading preprocessed data...\n"
          ]
        }
      ],
      "source": [
        "# Check if preprocessed data exists\n",
        "if not os.path.exists(PREPROCESSED_DATA_PATH):\n",
        "    print('Preprocessing data...')\n",
        "    # Preprocess and tokenize all sentences\n",
        "    def preprocess_data(df, char2idx, max_len=MAX_LEN):\n",
        "        src_texts = df['inFormalForm'].tolist()\n",
        "        trg_texts = df['FormalForm'].tolist()\n",
        "        src_sequences = []\n",
        "        trg_sequences = []\n",
        "        for src, trg in zip(src_texts, trg_texts):\n",
        "            src_chars = list(src)\n",
        "            trg_chars = list(trg)\n",
        "            src_ids = [BOS_IDX] + [char2idx.get(c, UNK_IDX) for c in src_chars] + [EOS_IDX]\n",
        "            trg_ids = [BOS_IDX] + [char2idx.get(c, UNK_IDX) for c in trg_chars] + [EOS_IDX]\n",
        "            # Pad or truncate sequences\n",
        "            src_ids = src_ids[:max_len] + [PAD_IDX] * max(0, max_len - len(src_ids))\n",
        "            trg_ids = trg_ids[:max_len] + [PAD_IDX] * max(0, max_len - len(trg_ids))\n",
        "            src_sequences.append(src_ids)\n",
        "            trg_sequences.append(trg_ids)\n",
        "        return src_sequences, trg_sequences\n",
        "\n",
        "    # Tokenize and preprocess data\n",
        "    train_src, train_trg = preprocess_data(train_df, char2idx)\n",
        "    val_src, val_trg = preprocess_data(val_df, char2idx)\n",
        "    test_src, test_trg = preprocess_data(test_df, char2idx)\n",
        "\n",
        "    # Save preprocessed data\n",
        "    with open(PREPROCESSED_DATA_PATH, 'wb') as f:\n",
        "        pickle.dump({\n",
        "            'train_src': train_src,\n",
        "            'train_trg': train_trg,\n",
        "            'val_src': val_src,\n",
        "            'val_trg': val_trg,\n",
        "            'test_src': test_src,\n",
        "            'test_trg': test_trg,\n",
        "            'MAX_LEN': MAX_LEN\n",
        "        }, f)\n",
        "    print('Preprocessed data saved.')\n",
        "else:\n",
        "    print('Loading preprocessed data...')\n",
        "    # Load preprocessed data\n",
        "    with open(PREPROCESSED_DATA_PATH, 'rb') as f:\n",
        "        data = pickle.load(f)\n",
        "        train_src = data['train_src']\n",
        "        train_trg = data['train_trg']\n",
        "        val_src = data['val_src']\n",
        "        val_trg = data['val_trg']\n",
        "        test_src = data['test_src']\n",
        "        test_trg = data['test_trg']\n",
        "        MAX_LEN = data['MAX_LEN']"
      ]
    },
    {
      "cell_type": "code",
      "execution_count": null,
      "metadata": {
        "id": "0qS_NckSHAnY"
      },
      "outputs": [],
      "source": [
        "# Prepare datasets\n",
        "class TranslationDataset(Dataset):\n",
        "    def __init__(self, src_sequences, trg_sequences):\n",
        "        self.src_sequences = src_sequences\n",
        "        self.trg_sequences = trg_sequences\n",
        "\n",
        "    def __len__(self):\n",
        "        return len(self.src_sequences)\n",
        "\n",
        "    def __getitem__(self, idx):\n",
        "        src_ids = torch.tensor(self.src_sequences[idx], dtype=torch.long)\n",
        "        trg_ids = torch.tensor(self.trg_sequences[idx], dtype=torch.long)\n",
        "        return src_ids, trg_ids"
      ]
    },
    {
      "cell_type": "code",
      "execution_count": null,
      "metadata": {
        "id": "voOavj0sHAnY"
      },
      "outputs": [],
      "source": [
        "# Create datasets and dataloaders\n",
        "batch_size = 32\n",
        "\n",
        "train_dataset = TranslationDataset(train_src, train_trg)\n",
        "val_dataset = TranslationDataset(val_src, val_trg)\n",
        "test_dataset = TranslationDataset(test_src, test_trg)\n",
        "\n",
        "train_loader = DataLoader(train_dataset, batch_size=batch_size, shuffle=True)\n",
        "val_loader = DataLoader(val_dataset, batch_size=batch_size, shuffle=False)\n",
        "test_loader = DataLoader(test_dataset, batch_size=batch_size, shuffle=False)"
      ]
    },
    {
      "cell_type": "code",
      "execution_count": null,
      "metadata": {
        "id": "hDm64oFPHAnZ"
      },
      "outputs": [],
      "source": [
        "# Define the LSTM-based Seq2Seq model\n",
        "class Seq2Seq(nn.Module):\n",
        "    def __init__(self, vocab_size, emb_dim, hid_dim, n_layers, dropout, pad_idx):\n",
        "        super().__init__()\n",
        "        self.vocab_size = vocab_size\n",
        "        self.pad_idx = pad_idx\n",
        "\n",
        "        self.embedding = nn.Embedding(vocab_size, emb_dim, padding_idx=pad_idx)\n",
        "        self.encoder = nn.LSTM(emb_dim, hid_dim, n_layers, dropout=dropout, batch_first=True)\n",
        "        self.decoder = nn.LSTM(emb_dim, hid_dim, n_layers, dropout=dropout, batch_first=True)\n",
        "        self.fc_out = nn.Linear(hid_dim, vocab_size)\n",
        "        self.dropout = nn.Dropout(dropout)\n",
        "\n",
        "    def forward(self, src, trg):\n",
        "        # Embed source and target sequences\n",
        "        embedded_src = self.dropout(self.embedding(src))\n",
        "        embedded_trg = self.dropout(self.embedding(trg[:, :-1]))  # Remove last token for decoder input\n",
        "\n",
        "        # Encode source sequence\n",
        "        _, (hidden, cell) = self.encoder(embedded_src)\n",
        "\n",
        "        # Decode target sequence\n",
        "        outputs, _ = self.decoder(embedded_trg, (hidden, cell))\n",
        "        predictions = self.fc_out(outputs)\n",
        "\n",
        "        return predictions\n",
        "\n",
        "    def predict(self, src, max_len=MAX_LEN):\n",
        "        # Embed source sequence\n",
        "        embedded_src = self.dropout(self.embedding(src))\n",
        "\n",
        "        # Encode source sequence\n",
        "        _, (hidden, cell) = self.encoder(embedded_src)\n",
        "\n",
        "        batch_size = src.size(0)\n",
        "        # Initialize target sequence with <s>\n",
        "        inputs = torch.tensor([BOS_IDX] * batch_size, dtype=torch.long).unsqueeze(1).to(src.device)\n",
        "        outputs = []\n",
        "        # Keep track of finished sequences\n",
        "        finished = torch.zeros(batch_size, dtype=torch.bool).to(src.device)\n",
        "        for _ in range(max_len):\n",
        "            embedded = self.dropout(self.embedding(inputs))\n",
        "            output, (hidden, cell) = self.decoder(embedded, (hidden, cell))\n",
        "            prediction = self.fc_out(output.squeeze(1))\n",
        "            top1 = prediction.argmax(dim=1)  # Shape: [batch_size]\n",
        "            outputs.append(top1.unsqueeze(1))\n",
        "            inputs = top1.unsqueeze(1)\n",
        "\n",
        "            # Update finished sequences\n",
        "            eos_found = top1 == EOS_IDX\n",
        "            finished = finished | eos_found  # Logical OR to update finished sequences\n",
        "            if finished.all():\n",
        "                break\n",
        "        outputs = torch.cat(outputs, dim=1)  # Shape: [batch_size, seq_len]\n",
        "        return outputs"
      ]
    },
    {
      "cell_type": "code",
      "execution_count": null,
      "metadata": {
        "id": "9MQ2SVzpHAnZ"
      },
      "outputs": [],
      "source": [
        "# Initialize model parameters\n",
        "VOCAB_SIZE = len(char2idx)\n",
        "EMB_DIM = 256\n",
        "HID_DIM = 512\n",
        "N_LAYERS = 2 \n",
        "DROPOUT = 0.2\n",
        "\n",
        "model = Seq2Seq(VOCAB_SIZE, EMB_DIM, HID_DIM, N_LAYERS, DROPOUT, PAD_IDX).to(DEVICE)"
      ]
    },
    {
      "cell_type": "code",
      "execution_count": null,
      "metadata": {
        "id": "rXr2RZQgHAnZ"
      },
      "outputs": [],
      "source": [
        "# Initialize optimizer and loss function\n",
        "optimizer = optim.Adam(model.parameters(), lr=0.0001, weight_decay=1e-5)\n",
        "criterion = nn.CrossEntropyLoss(ignore_index=PAD_IDX)"
      ]
    },
    {
      "cell_type": "code",
      "execution_count": null,
      "metadata": {
        "id": "IhTH28YfHAnZ"
      },
      "outputs": [],
      "source": [
        "def evaluate_wer(model, dataloader, idx2char, max_batches=None):\n",
        "    model.eval()\n",
        "    cer_scores = []\n",
        "    wer_scores = []\n",
        "    batches_processed = 0\n",
        "\n",
        "    with torch.no_grad():\n",
        "        for src, trg in dataloader:\n",
        "            src = src.to(DEVICE)\n",
        "            trg = trg.to(DEVICE)\n",
        "\n",
        "            outputs = model.predict(src, max_len=MAX_LEN)\n",
        "            outputs = outputs.cpu().tolist()\n",
        "            trg = trg.cpu().tolist()\n",
        "\n",
        "            for pred_ids, trg_ids in zip(outputs, trg):\n",
        "\n",
        "                # Remove PAD and special tokens\n",
        "                pred_ids = [idx for idx in pred_ids if idx not in [PAD_IDX, EOS_IDX, BOS_IDX]]\n",
        "                trg_ids = [idx for idx in trg_ids if idx not in [PAD_IDX, EOS_IDX, BOS_IDX]]\n",
        "\n",
        "                # Convert indices to characters\n",
        "                pred_sentence = ''.join([idx2char.get(idx, '') for idx in pred_ids])\n",
        "                trg_sentence = ''.join([idx2char.get(idx, '') for idx in trg_ids])\n",
        "\n",
        "                # Calculate CER and WER\n",
        "                cer_score = cer(trg_sentence, pred_sentence)\n",
        "                wer_score = wer(trg_sentence, pred_sentence)\n",
        "\n",
        "                cer_scores.append(cer_score)\n",
        "                wer_scores.append(wer_score)\n",
        "\n",
        "            batches_processed += 1\n",
        "            if max_batches and batches_processed >= max_batches:\n",
        "                break\n",
        "\n",
        "    avg_cer = float(np.mean(cer_scores))\n",
        "    avg_wer = float(np.mean(wer_scores))\n",
        "    return avg_cer, avg_wer"
      ]
    },
    {
      "cell_type": "code",
      "execution_count": null,
      "metadata": {
        "colab": {
          "base_uri": "https://localhost:8080/"
        },
        "id": "HkPQPHl4HAnZ",
        "outputId": "b827085a-5a7e-440f-809a-21ad6cec9faf"
      },
      "outputs": [
        {
          "name": "stdout",
          "output_type": "stream",
          "text": [
            "Training Epoch 1/100: 100%|██████████| 1251/1251 [04:42<00:00,  4.43it/s]\n",
            "Validation Epoch 1/100: 100%|██████████| 157/157 [00:13<00:00, 11.84it/s]\n",
            "\n",
            "\tTrain Loss: 2.242\n",
            "\tValid Loss: 1.910\n",
            "\tValid WER: 2.0104\n",
            "\tValid CER: 1.1557\n",
            "Validation loss improved. Model saved to /content/drive/MyDrive/output_lstm_char/best_lstm_model_char.pt.\n",
            "Validation CER improved. Model saved to /content/drive/MyDrive/output_lstm_char/best_lstm_model_cer.pt.\n",
            "Epoch: 01 | Time: 5m 8s\n",
            "Training Epoch 2/100: 100%|██████████| 1251/1251 [04:42<00:00,  4.43it/s]\n",
            "Validation Epoch 2/100: 100%|██████████| 157/157 [00:13<00:00, 11.83it/s]\n",
            "\n",
            "\tTrain Loss: 1.843\n",
            "\tValid Loss: 1.738\n",
            "\tValid WER: 12.0994\n",
            "\tValid CER: 7.8996\n",
            "Validation loss improved. Model saved to /content/drive/MyDrive/output_lstm_char/best_lstm_model_char.pt.\n",
            "Epoch: 02 | Time: 5m 30s\n",
            "Training Epoch 3/100: 100%|██████████| 1251/1251 [04:42<00:00,  4.43it/s]\n",
            "Validation Epoch 3/100: 100%|██████████| 157/157 [00:13<00:00, 11.74it/s]\n",
            "\n",
            "\tTrain Loss: 1.723\n",
            "\tValid Loss: 1.646\n",
            "\tValid WER: 9.2842\n",
            "\tValid CER: 7.9097\n",
            "Validation loss improved. Model saved to /content/drive/MyDrive/output_lstm_char/best_lstm_model_char.pt.\n",
            "Epoch: 03 | Time: 5m 31s\n",
            "Training Epoch 4/100: 100%|██████████| 1251/1251 [04:42<00:00,  4.43it/s]\n",
            "Validation Epoch 4/100: 100%|██████████| 157/157 [00:13<00:00, 11.73it/s]\n",
            "\n",
            "\tTrain Loss: 1.653\n",
            "\tValid Loss: 1.590\n",
            "\tValid WER: 10.6553\n",
            "\tValid CER: 7.8963\n",
            "Validation loss improved. Model saved to /content/drive/MyDrive/output_lstm_char/best_lstm_model_char.pt.\n",
            "Epoch: 04 | Time: 5m 30s\n",
            "Training Epoch 5/100: 100%|██████████| 1251/1251 [04:42<00:00,  4.43it/s]\n",
            "Validation Epoch 5/100: 100%|██████████| 157/157 [00:13<00:00, 11.73it/s]\n",
            "\n",
            "\tTrain Loss: 1.606\n",
            "\tValid Loss: 1.550\n",
            "\tValid WER: 1.7616\n",
            "\tValid CER: 1.1270\n",
            "Validation loss improved. Model saved to /content/drive/MyDrive/output_lstm_char/best_lstm_model_char.pt.\n",
            "Validation CER improved. Model saved to /content/drive/MyDrive/output_lstm_char/best_lstm_model_cer.pt.\n",
            "Epoch: 05 | Time: 5m 8s\n",
            "Training Epoch 6/100: 100%|██████████| 1251/1251 [04:43<00:00,  4.42it/s]\n",
            "Validation Epoch 6/100: 100%|██████████| 157/157 [00:13<00:00, 11.73it/s]\n",
            "\n",
            "\tTrain Loss: 1.571\n",
            "\tValid Loss: 1.520\n",
            "\tValid WER: 11.2439\n",
            "\tValid CER: 7.8903\n",
            "Validation loss improved. Model saved to /content/drive/MyDrive/output_lstm_char/best_lstm_model_char.pt.\n",
            "Epoch: 06 | Time: 5m 31s\n",
            "Training Epoch 7/100: 100%|██████████| 1251/1251 [04:43<00:00,  4.42it/s]\n",
            "Validation Epoch 7/100: 100%|██████████| 157/157 [00:13<00:00, 11.71it/s]\n",
            "\n",
            "\tTrain Loss: 1.543\n",
            "\tValid Loss: 1.499\n",
            "\tValid WER: 11.2442\n",
            "\tValid CER: 7.9107\n",
            "Validation loss improved. Model saved to /content/drive/MyDrive/output_lstm_char/best_lstm_model_char.pt.\n",
            "Epoch: 07 | Time: 5m 32s\n",
            "Training Epoch 8/100: 100%|██████████| 1251/1251 [04:43<00:00,  4.41it/s]\n",
            "Validation Epoch 8/100: 100%|██████████| 157/157 [00:13<00:00, 11.71it/s]\n",
            "\n",
            "\tTrain Loss: 1.520\n",
            "\tValid Loss: 1.477\n",
            "\tValid WER: 11.3872\n",
            "\tValid CER: 7.9220\n",
            "Validation loss improved. Model saved to /content/drive/MyDrive/output_lstm_char/best_lstm_model_char.pt.\n",
            "Epoch: 08 | Time: 5m 31s\n",
            "Training Epoch 9/100: 100%|██████████| 1251/1251 [04:42<00:00,  4.42it/s]\n",
            "Validation Epoch 9/100: 100%|██████████| 157/157 [00:13<00:00, 11.66it/s]\n",
            "\n",
            "\tTrain Loss: 1.500\n",
            "\tValid Loss: 1.461\n",
            "\tValid WER: 11.3616\n",
            "\tValid CER: 7.9171\n",
            "Validation loss improved. Model saved to /content/drive/MyDrive/output_lstm_char/best_lstm_model_char.pt.\n",
            "Epoch: 09 | Time: 5m 31s\n",
            "Training Epoch 10/100: 100%|██████████| 1251/1251 [04:42<00:00,  4.42it/s]\n",
            "Validation Epoch 10/100: 100%|██████████| 157/157 [00:13<00:00, 11.70it/s]\n",
            "\n",
            "\tTrain Loss: 1.483\n",
            "\tValid Loss: 1.448\n",
            "\tValid WER: 11.3824\n",
            "\tValid CER: 7.9245\n",
            "Validation loss improved. Model saved to /content/drive/MyDrive/output_lstm_char/best_lstm_model_char.pt.\n",
            "Epoch: 10 | Time: 5m 31s\n",
            "Training Epoch 11/100: 100%|██████████| 1251/1251 [04:43<00:00,  4.42it/s]\n",
            "Validation Epoch 11/100: 100%|██████████| 157/157 [00:13<00:00, 11.66it/s]\n",
            "\n",
            "\tTrain Loss: 1.466\n",
            "\tValid Loss: 1.434\n",
            "\tValid WER: 2.4378\n",
            "\tValid CER: 1.6063\n",
            "Validation loss improved. Model saved to /content/drive/MyDrive/output_lstm_char/best_lstm_model_char.pt.\n",
            "Epoch: 11 | Time: 5m 10s\n",
            "Training Epoch 12/100: 100%|██████████| 1251/1251 [04:42<00:00,  4.42it/s]\n",
            "Validation Epoch 12/100: 100%|██████████| 157/157 [00:13<00:00, 11.68it/s]\n",
            "\n",
            "\tTrain Loss: 1.453\n",
            "\tValid Loss: 1.423\n",
            "\tValid WER: 11.2561\n",
            "\tValid CER: 7.8806\n",
            "Validation loss improved. Model saved to /content/drive/MyDrive/output_lstm_char/best_lstm_model_char.pt.\n",
            "Epoch: 12 | Time: 5m 31s\n",
            "Training Epoch 13/100: 100%|██████████| 1251/1251 [04:43<00:00,  4.42it/s]\n",
            "Validation Epoch 13/100: 100%|██████████| 157/157 [00:13<00:00, 11.71it/s]\n",
            "\n",
            "\tTrain Loss: 1.440\n",
            "\tValid Loss: 1.413\n",
            "\tValid WER: 11.2580\n",
            "\tValid CER: 7.9137\n",
            "Validation loss improved. Model saved to /content/drive/MyDrive/output_lstm_char/best_lstm_model_char.pt.\n",
            "Epoch: 13 | Time: 5m 31s\n",
            "Training Epoch 14/100: 100%|██████████| 1251/1251 [04:42<00:00,  4.43it/s]\n",
            "Validation Epoch 14/100: 100%|██████████| 157/157 [00:13<00:00, 11.71it/s]\n",
            "\n",
            "\tTrain Loss: 1.428\n",
            "\tValid Loss: 1.404\n",
            "\tValid WER: 11.2673\n",
            "\tValid CER: 7.9129\n",
            "Validation loss improved. Model saved to /content/drive/MyDrive/output_lstm_char/best_lstm_model_char.pt.\n",
            "Epoch: 14 | Time: 5m 31s\n",
            "Training Epoch 15/100: 100%|██████████| 1251/1251 [04:42<00:00,  4.42it/s]\n",
            "Validation Epoch 15/100: 100%|██████████| 157/157 [00:13<00:00, 11.73it/s]\n",
            "\n",
            "\tTrain Loss: 1.418\n",
            "\tValid Loss: 1.394\n",
            "\tValid WER: 10.6272\n",
            "\tValid CER: 7.8252\n",
            "Validation loss improved. Model saved to /content/drive/MyDrive/output_lstm_char/best_lstm_model_char.pt.\n",
            "Epoch: 15 | Time: 5m 31s\n",
            "Training Epoch 16/100: 100%|██████████| 1251/1251 [04:43<00:00,  4.42it/s]\n",
            "Validation Epoch 16/100: 100%|██████████| 157/157 [00:13<00:00, 11.71it/s]\n",
            "\n",
            "\tTrain Loss: 1.407\n",
            "\tValid Loss: 1.387\n",
            "\tValid WER: 11.3648\n",
            "\tValid CER: 7.8952\n",
            "Validation loss improved. Model saved to /content/drive/MyDrive/output_lstm_char/best_lstm_model_char.pt.\n",
            "Epoch: 16 | Time: 5m 31s\n",
            "Training Epoch 17/100: 100%|██████████| 1251/1251 [04:43<00:00,  4.42it/s]\n",
            "Validation Epoch 17/100: 100%|██████████| 157/157 [00:13<00:00, 11.68it/s]\n",
            "\n",
            "\tTrain Loss: 1.398\n",
            "\tValid Loss: 1.381\n",
            "\tValid WER: 1.3884\n",
            "\tValid CER: 0.8728\n",
            "Validation loss improved. Model saved to /content/drive/MyDrive/output_lstm_char/best_lstm_model_char.pt.\n",
            "Validation CER improved. Model saved to /content/drive/MyDrive/output_lstm_char/best_lstm_model_cer.pt.\n",
            "Epoch: 17 | Time: 5m 7s\n",
            "Training Epoch 18/100: 100%|██████████| 1251/1251 [04:43<00:00,  4.42it/s]\n",
            "Validation Epoch 18/100: 100%|██████████| 157/157 [00:13<00:00, 11.65it/s]\n",
            "\n",
            "\tTrain Loss: 1.390\n",
            "\tValid Loss: 1.374\n",
            "\tValid WER: 2.6873\n",
            "\tValid CER: 1.7869\n",
            "Validation loss improved. Model saved to /content/drive/MyDrive/output_lstm_char/best_lstm_model_char.pt.\n",
            "Epoch: 18 | Time: 5m 11s\n",
            "Training Epoch 19/100: 100%|██████████| 1251/1251 [04:43<00:00,  4.42it/s]\n",
            "Validation Epoch 19/100: 100%|██████████| 157/157 [00:13<00:00, 11.66it/s]\n",
            "\n",
            "\tTrain Loss: 1.382\n",
            "\tValid Loss: 1.368\n",
            "\tValid WER: 2.1185\n",
            "\tValid CER: 1.4167\n",
            "Validation loss improved. Model saved to /content/drive/MyDrive/output_lstm_char/best_lstm_model_char.pt.\n",
            "Epoch: 19 | Time: 5m 9s\n",
            "Training Epoch 20/100: 100%|██████████| 1251/1251 [04:43<00:00,  4.41it/s]\n",
            "Validation Epoch 20/100: 100%|██████████| 157/157 [00:13<00:00, 11.67it/s]\n",
            "\n",
            "\tTrain Loss: 1.375\n",
            "\tValid Loss: 1.363\n",
            "\tValid WER: 1.3201\n",
            "\tValid CER: 0.9557\n",
            "Validation loss improved. Model saved to /content/drive/MyDrive/output_lstm_char/best_lstm_model_char.pt.\n",
            "Epoch: 20 | Time: 5m 7s\n",
            "Training Epoch 21/100: 100%|██████████| 1251/1251 [04:43<00:00,  4.41it/s]\n",
            "Validation Epoch 21/100: 100%|██████████| 157/157 [00:13<00:00, 11.67it/s]\n",
            "\n",
            "\tTrain Loss: 1.367\n",
            "\tValid Loss: 1.360\n",
            "\tValid WER: 1.5871\n",
            "\tValid CER: 1.1129\n",
            "Validation loss improved. Model saved to /content/drive/MyDrive/output_lstm_char/best_lstm_model_char.pt.\n",
            "Epoch: 21 | Time: 5m 8s\n",
            "Training Epoch 22/100: 100%|██████████| 1251/1251 [04:43<00:00,  4.41it/s]\n",
            "Validation Epoch 22/100: 100%|██████████| 157/157 [00:13<00:00, 11.67it/s]\n",
            "\n",
            "\tTrain Loss: 1.361\n",
            "\tValid Loss: 1.354\n",
            "\tValid WER: 11.3822\n",
            "\tValid CER: 7.9208\n",
            "Validation loss improved. Model saved to /content/drive/MyDrive/output_lstm_char/best_lstm_model_char.pt.\n",
            "Epoch: 22 | Time: 5m 32s\n",
            "Training Epoch 23/100: 100%|██████████| 1251/1251 [04:43<00:00,  4.41it/s]\n",
            "Validation Epoch 23/100: 100%|██████████| 157/157 [00:13<00:00, 11.65it/s]\n",
            "\n",
            "\tTrain Loss: 1.354\n",
            "\tValid Loss: 1.349\n",
            "\tValid WER: 11.3914\n",
            "\tValid CER: 7.9272\n",
            "Validation loss improved. Model saved to /content/drive/MyDrive/output_lstm_char/best_lstm_model_char.pt.\n",
            "Epoch: 23 | Time: 5m 32s\n",
            "Training Epoch 24/100: 100%|██████████| 1251/1251 [04:43<00:00,  4.41it/s]\n",
            "Validation Epoch 24/100: 100%|██████████| 157/157 [00:13<00:00, 11.66it/s]\n",
            "\n",
            "\tTrain Loss: 1.348\n",
            "\tValid Loss: 1.345\n",
            "\tValid WER: 11.3914\n",
            "\tValid CER: 7.9272\n",
            "Validation loss improved. Model saved to /content/drive/MyDrive/output_lstm_char/best_lstm_model_char.pt.\n",
            "Epoch: 24 | Time: 5m 32s\n",
            "Training Epoch 25/100: 100%|██████████| 1251/1251 [04:43<00:00,  4.42it/s]\n",
            "Validation Epoch 25/100: 100%|██████████| 157/157 [00:13<00:00, 11.69it/s]\n",
            "\n",
            "\tTrain Loss: 1.342\n",
            "\tValid Loss: 1.342\n",
            "\tValid WER: 10.6558\n",
            "\tValid CER: 7.9211\n",
            "Validation loss improved. Model saved to /content/drive/MyDrive/output_lstm_char/best_lstm_model_char.pt.\n",
            "Epoch: 25 | Time: 5m 31s\n",
            "Training Epoch 26/100: 100%|██████████| 1251/1251 [04:43<00:00,  4.41it/s]\n",
            "Validation Epoch 26/100: 100%|██████████| 157/157 [00:13<00:00, 11.66it/s]\n",
            "\n",
            "\tTrain Loss: 1.336\n",
            "\tValid Loss: 1.337\n",
            "\tValid WER: 2.7673\n",
            "\tValid CER: 1.5747\n",
            "Validation loss improved. Model saved to /content/drive/MyDrive/output_lstm_char/best_lstm_model_char.pt.\n",
            "Epoch: 26 | Time: 5m 10s\n",
            "Training Epoch 27/100: 100%|██████████| 1251/1251 [04:43<00:00,  4.42it/s]\n",
            "Validation Epoch 27/100: 100%|██████████| 157/157 [00:13<00:00, 11.68it/s]\n",
            "\n",
            "\tTrain Loss: 1.331\n",
            "\tValid Loss: 1.336\n",
            "\tValid WER: 11.3824\n",
            "\tValid CER: 7.9211\n",
            "Validation loss improved. Model saved to /content/drive/MyDrive/output_lstm_char/best_lstm_model_char.pt.\n",
            "Epoch: 27 | Time: 5m 32s\n",
            "Training Epoch 28/100: 100%|██████████| 1251/1251 [04:43<00:00,  4.42it/s]\n",
            "Validation Epoch 28/100: 100%|██████████| 157/157 [00:13<00:00, 11.66it/s]\n",
            "\n",
            "\tTrain Loss: 1.326\n",
            "\tValid Loss: 1.331\n",
            "\tValid WER: 11.3804\n",
            "\tValid CER: 7.9189\n",
            "Validation loss improved. Model saved to /content/drive/MyDrive/output_lstm_char/best_lstm_model_char.pt.\n",
            "Epoch: 28 | Time: 5m 31s\n",
            "Training Epoch 29/100: 100%|██████████| 1251/1251 [04:42<00:00,  4.42it/s]\n",
            "Validation Epoch 29/100: 100%|██████████| 157/157 [00:13<00:00, 11.65it/s]\n",
            "\n",
            "\tTrain Loss: 1.321\n",
            "\tValid Loss: 1.330\n",
            "\tValid WER: 11.3849\n",
            "\tValid CER: 7.9246\n",
            "Validation loss improved. Model saved to /content/drive/MyDrive/output_lstm_char/best_lstm_model_char.pt.\n",
            "Epoch: 29 | Time: 5m 31s\n",
            "Training Epoch 30/100: 100%|██████████| 1251/1251 [04:43<00:00,  4.42it/s]\n",
            "Validation Epoch 30/100: 100%|██████████| 157/157 [00:13<00:00, 11.64it/s]\n",
            "\n",
            "\tTrain Loss: 1.316\n",
            "\tValid Loss: 1.327\n",
            "\tValid WER: 1.6698\n",
            "\tValid CER: 1.0470\n",
            "Validation loss improved. Model saved to /content/drive/MyDrive/output_lstm_char/best_lstm_model_char.pt.\n",
            "Epoch: 30 | Time: 5m 7s\n",
            "Training Epoch 31/100: 100%|██████████| 1251/1251 [04:43<00:00,  4.42it/s]\n",
            "Validation Epoch 31/100: 100%|██████████| 157/157 [00:13<00:00, 11.63it/s]\n",
            "\n",
            "\tTrain Loss: 1.312\n",
            "\tValid Loss: 1.324\n",
            "\tValid WER: 11.3824\n",
            "\tValid CER: 7.9211\n",
            "Validation loss improved. Model saved to /content/drive/MyDrive/output_lstm_char/best_lstm_model_char.pt.\n",
            "Epoch: 31 | Time: 5m 31s\n",
            "Training Epoch 32/100: 100%|██████████| 1251/1251 [04:43<00:00,  4.42it/s]\n",
            "Validation Epoch 32/100: 100%|██████████| 157/157 [00:13<00:00, 11.64it/s]\n",
            "\n",
            "\tTrain Loss: 1.307\n",
            "\tValid Loss: 1.321\n",
            "\tValid WER: 11.3824\n",
            "\tValid CER: 7.9211\n",
            "Validation loss improved. Model saved to /content/drive/MyDrive/output_lstm_char/best_lstm_model_char.pt.\n",
            "Epoch: 32 | Time: 5m 32s\n",
            "Training Epoch 33/100: 100%|██████████| 1251/1251 [04:43<00:00,  4.42it/s]\n",
            "Validation Epoch 33/100: 100%|██████████| 157/157 [00:13<00:00, 11.68it/s]\n",
            "\n",
            "\tTrain Loss: 1.303\n",
            "\tValid Loss: 1.319\n",
            "\tValid WER: 2.1013\n",
            "\tValid CER: 1.2807\n",
            "Validation loss improved. Model saved to /content/drive/MyDrive/output_lstm_char/best_lstm_model_char.pt.\n",
            "Epoch: 33 | Time: 5m 8s\n",
            "Training Epoch 34/100: 100%|██████████| 1251/1251 [04:43<00:00,  4.42it/s]\n",
            "Validation Epoch 34/100: 100%|██████████| 157/157 [00:13<00:00, 11.68it/s]\n",
            "\n",
            "\tTrain Loss: 1.298\n",
            "\tValid Loss: 1.317\n",
            "\tValid WER: 11.3824\n",
            "\tValid CER: 7.9211\n",
            "Validation loss improved. Model saved to /content/drive/MyDrive/output_lstm_char/best_lstm_model_char.pt.\n",
            "Epoch: 34 | Time: 5m 32s\n",
            "Training Epoch 35/100: 100%|██████████| 1251/1251 [04:43<00:00,  4.42it/s]\n",
            "Validation Epoch 35/100: 100%|██████████| 157/157 [00:13<00:00, 11.67it/s]\n",
            "\n",
            "\tTrain Loss: 1.295\n",
            "\tValid Loss: 1.315\n",
            "\tValid WER: 11.3802\n",
            "\tValid CER: 7.9187\n",
            "Validation loss improved. Model saved to /content/drive/MyDrive/output_lstm_char/best_lstm_model_char.pt.\n",
            "Epoch: 35 | Time: 5m 32s\n",
            "Training Epoch 36/100: 100%|██████████| 1251/1251 [04:43<00:00,  4.41it/s]\n",
            "Validation Epoch 36/100: 100%|██████████| 157/157 [00:13<00:00, 11.65it/s]\n",
            "\n",
            "\tTrain Loss: 1.291\n",
            "\tValid Loss: 1.314\n",
            "\tValid WER: 1.5573\n",
            "\tValid CER: 0.9261\n",
            "Validation loss improved. Model saved to /content/drive/MyDrive/output_lstm_char/best_lstm_model_char.pt.\n",
            "Epoch: 36 | Time: 5m 7s\n",
            "Training Epoch 37/100: 100%|██████████| 1251/1251 [04:43<00:00,  4.42it/s]\n",
            "Validation Epoch 37/100: 100%|██████████| 157/157 [00:13<00:00, 11.63it/s]\n",
            "\n",
            "\tTrain Loss: 1.287\n",
            "\tValid Loss: 1.310\n",
            "\tValid WER: 1.5584\n",
            "\tValid CER: 1.0695\n",
            "Validation loss improved. Model saved to /content/drive/MyDrive/output_lstm_char/best_lstm_model_char.pt.\n",
            "Epoch: 37 | Time: 5m 7s\n",
            "Training Epoch 38/100: 100%|██████████| 1251/1251 [04:43<00:00,  4.42it/s]\n",
            "Validation Epoch 38/100: 100%|██████████| 157/157 [00:13<00:00, 11.73it/s]\n",
            "\n",
            "\tTrain Loss: 1.283\n",
            "\tValid Loss: 1.311\n",
            "\tValid WER: 1.5514\n",
            "\tValid CER: 0.9266\n",
            "Epoch: 38 | Time: 5m 6s\n",
            "Training Epoch 39/100: 100%|██████████| 1251/1251 [04:43<00:00,  4.42it/s]\n",
            "Validation Epoch 39/100: 100%|██████████| 157/157 [00:13<00:00, 11.67it/s]\n",
            "\n",
            "\tTrain Loss: 1.279\n",
            "\tValid Loss: 1.309\n",
            "\tValid WER: 1.7380\n",
            "\tValid CER: 1.0683\n",
            "Validation loss improved. Model saved to /content/drive/MyDrive/output_lstm_char/best_lstm_model_char.pt.\n",
            "Epoch: 39 | Time: 5m 7s\n",
            "Training Epoch 40/100: 100%|██████████| 1251/1251 [04:43<00:00,  4.41it/s]\n",
            "Validation Epoch 40/100: 100%|██████████| 157/157 [00:13<00:00, 11.71it/s]\n",
            "\n",
            "\tTrain Loss: 1.276\n",
            "\tValid Loss: 1.307\n",
            "\tValid WER: 1.5590\n",
            "\tValid CER: 0.8991\n",
            "Validation loss improved. Model saved to /content/drive/MyDrive/output_lstm_char/best_lstm_model_char.pt.\n",
            "Epoch: 40 | Time: 5m 7s\n",
            "Training Epoch 41/100: 100%|██████████| 1251/1251 [04:42<00:00,  4.42it/s]\n",
            "Validation Epoch 41/100: 100%|██████████| 157/157 [00:13<00:00, 11.67it/s]\n",
            "\n",
            "\tTrain Loss: 1.272\n",
            "\tValid Loss: 1.307\n",
            "\tValid WER: 2.1091\n",
            "\tValid CER: 1.2819\n",
            "Validation loss improved. Model saved to /content/drive/MyDrive/output_lstm_char/best_lstm_model_char.pt.\n",
            "Epoch: 41 | Time: 5m 8s\n",
            "Training Epoch 42/100: 100%|██████████| 1251/1251 [04:43<00:00,  4.42it/s]\n",
            "Validation Epoch 42/100: 100%|██████████| 157/157 [00:13<00:00, 11.66it/s]\n",
            "\n",
            "\tTrain Loss: 1.269\n",
            "\tValid Loss: 1.304\n",
            "\tValid WER: 2.6364\n",
            "\tValid CER: 1.9172\n",
            "Validation loss improved. Model saved to /content/drive/MyDrive/output_lstm_char/best_lstm_model_char.pt.\n",
            "Epoch: 42 | Time: 5m 11s\n",
            "Training Epoch 43/100: 100%|██████████| 1251/1251 [04:43<00:00,  4.42it/s]\n",
            "Validation Epoch 43/100: 100%|██████████| 157/157 [00:13<00:00, 11.65it/s]\n",
            "\n",
            "\tTrain Loss: 1.266\n",
            "\tValid Loss: 1.303\n",
            "\tValid WER: 2.5032\n",
            "\tValid CER: 1.6742\n",
            "Validation loss improved. Model saved to /content/drive/MyDrive/output_lstm_char/best_lstm_model_char.pt.\n",
            "Epoch: 43 | Time: 5m 10s\n",
            "Training Epoch 44/100: 100%|██████████| 1251/1251 [04:43<00:00,  4.41it/s]\n",
            "Validation Epoch 44/100: 100%|██████████| 157/157 [00:13<00:00, 11.65it/s]\n",
            "\n",
            "\tTrain Loss: 1.262\n",
            "\tValid Loss: 1.303\n",
            "\tValid WER: 1.5511\n",
            "\tValid CER: 0.9234\n",
            "Epoch: 44 | Time: 5m 7s\n",
            "Training Epoch 45/100: 100%|██████████| 1251/1251 [04:43<00:00,  4.42it/s]\n",
            "Validation Epoch 45/100: 100%|██████████| 157/157 [00:13<00:00, 11.63it/s]\n",
            "\n",
            "\tTrain Loss: 1.259\n",
            "\tValid Loss: 1.301\n",
            "\tValid WER: 1.6426\n",
            "\tValid CER: 0.9942\n",
            "Validation loss improved. Model saved to /content/drive/MyDrive/output_lstm_char/best_lstm_model_char.pt.\n",
            "Epoch: 45 | Time: 5m 7s\n",
            "Training Epoch 46/100: 100%|██████████| 1251/1251 [04:43<00:00,  4.41it/s]\n",
            "Validation Epoch 46/100: 100%|██████████| 157/157 [00:13<00:00, 11.63it/s]\n",
            "\n",
            "\tTrain Loss: 1.256\n",
            "\tValid Loss: 1.300\n",
            "\tValid WER: 1.5590\n",
            "\tValid CER: 0.8991\n",
            "Validation loss improved. Model saved to /content/drive/MyDrive/output_lstm_char/best_lstm_model_char.pt.\n",
            "Epoch: 46 | Time: 5m 7s\n",
            "Training Epoch 47/100: 100%|██████████| 1251/1251 [04:43<00:00,  4.42it/s]\n",
            "Validation Epoch 47/100: 100%|██████████| 157/157 [00:13<00:00, 11.62it/s]\n",
            "\n",
            "\tTrain Loss: 1.253\n",
            "\tValid Loss: 1.300\n",
            "\tValid WER: 2.4027\n",
            "\tValid CER: 1.4796\n",
            "Validation loss improved. Model saved to /content/drive/MyDrive/output_lstm_char/best_lstm_model_char.pt.\n",
            "Epoch: 47 | Time: 5m 10s\n",
            "Training Epoch 48/100: 100%|██████████| 1251/1251 [04:43<00:00,  4.42it/s]\n",
            "Validation Epoch 48/100: 100%|██████████| 157/157 [00:13<00:00, 11.65it/s]\n",
            "\n",
            "\tTrain Loss: 1.250\n",
            "\tValid Loss: 1.299\n",
            "\tValid WER: 1.9233\n",
            "\tValid CER: 1.3228\n",
            "Validation loss improved. Model saved to /content/drive/MyDrive/output_lstm_char/best_lstm_model_char.pt.\n",
            "Epoch: 48 | Time: 5m 9s\n",
            "Training Epoch 49/100: 100%|██████████| 1251/1251 [04:42<00:00,  4.42it/s]\n",
            "Validation Epoch 49/100: 100%|██████████| 157/157 [00:13<00:00, 11.66it/s]\n",
            "\n",
            "\tTrain Loss: 1.247\n",
            "\tValid Loss: 1.297\n",
            "\tValid WER: 1.5572\n",
            "\tValid CER: 0.9183\n",
            "Validation loss improved. Model saved to /content/drive/MyDrive/output_lstm_char/best_lstm_model_char.pt.\n",
            "Epoch: 49 | Time: 5m 7s\n",
            "Training Epoch 50/100: 100%|██████████| 1251/1251 [04:43<00:00,  4.41it/s]\n",
            "Validation Epoch 50/100: 100%|██████████| 157/157 [00:13<00:00, 11.63it/s]\n",
            "\n",
            "\tTrain Loss: 1.244\n",
            "\tValid Loss: 1.299\n",
            "\tValid WER: 1.5511\n",
            "\tValid CER: 0.9234\n",
            "Epoch: 50 | Time: 5m 7s\n",
            "Training Epoch 51/100: 100%|██████████| 1251/1251 [04:43<00:00,  4.42it/s]\n",
            "Validation Epoch 51/100: 100%|██████████| 157/157 [00:13<00:00, 11.68it/s]\n",
            "\n",
            "\tTrain Loss: 1.241\n",
            "\tValid Loss: 1.297\n",
            "\tValid WER: 1.5513\n",
            "\tValid CER: 0.9159\n",
            "Validation loss improved. Model saved to /content/drive/MyDrive/output_lstm_char/best_lstm_model_char.pt.\n",
            "Epoch: 51 | Time: 5m 7s\n",
            "\n",
            "\n",
            "--- Resuming training from epoch 52 ---\n",
            "\n"
          ]
        },
        {
          "name": "stderr",
          "output_type": "stream",
          "text": [
            "Training Epoch 52/100: 100%|██████████| 1251/1251 [04:34<00:00,  4.55it/s]\n",
            "Validation Epoch 52/100: 100%|██████████| 157/157 [00:13<00:00, 11.51it/s]\n"
          ]
        },
        {
          "name": "stdout",
          "output_type": "stream",
          "text": [
            "\n",
            "\tTrain Loss: 1.238\n",
            "\tValid Loss: 1.294\n",
            "\tValid WER: 1.6636\n",
            "\tValid CER: 1.1461\n",
            "\n",
            "Validation loss improved. Model saved to /content/drive/MyDrive/output_lstm_char/best_lstm_model_char.pt.\n",
            "Epoch: 52 | Time: 5m 2s\n",
            "Epoch: 52 | Time: 5m 2s\n"
          ]
        },
        {
          "name": "stderr",
          "output_type": "stream",
          "text": [
            "Training Epoch 53/100: 100%|██████████| 1251/1251 [04:46<00:00,  4.36it/s]\n",
            "Validation Epoch 53/100: 100%|██████████| 157/157 [00:13<00:00, 11.45it/s]\n"
          ]
        },
        {
          "name": "stdout",
          "output_type": "stream",
          "text": [
            "\n",
            "\tTrain Loss: 1.236\n",
            "\tValid Loss: 1.295\n",
            "\tValid WER: 2.9289\n",
            "\tValid CER: 2.0360\n",
            "\n",
            "Epoch: 53 | Time: 5m 16s\n",
            "Epoch: 53 | Time: 5m 16s\n"
          ]
        },
        {
          "name": "stderr",
          "output_type": "stream",
          "text": [
            "Training Epoch 54/100: 100%|██████████| 1251/1251 [04:46<00:00,  4.36it/s]\n",
            "Validation Epoch 54/100: 100%|██████████| 157/157 [00:13<00:00, 11.48it/s]\n"
          ]
        },
        {
          "name": "stdout",
          "output_type": "stream",
          "text": [
            "\n",
            "\tTrain Loss: 1.233\n",
            "\tValid Loss: 1.294\n",
            "\tValid WER: 1.7513\n",
            "\tValid CER: 1.2512\n",
            "\n",
            "Epoch: 54 | Time: 5m 12s\n",
            "Epoch: 54 | Time: 5m 12s\n"
          ]
        },
        {
          "name": "stderr",
          "output_type": "stream",
          "text": [
            "Training Epoch 55/100: 100%|██████████| 1251/1251 [04:46<00:00,  4.37it/s]\n",
            "Validation Epoch 55/100: 100%|██████████| 157/157 [00:13<00:00, 11.47it/s]\n"
          ]
        },
        {
          "name": "stdout",
          "output_type": "stream",
          "text": [
            "\n",
            "\tTrain Loss: 1.230\n",
            "\tValid Loss: 1.296\n",
            "\tValid WER: 2.3182\n",
            "\tValid CER: 1.6237\n",
            "\n",
            "Epoch: 55 | Time: 5m 13s\n",
            "Epoch: 55 | Time: 5m 13s\n"
          ]
        },
        {
          "name": "stderr",
          "output_type": "stream",
          "text": [
            "Training Epoch 56/100: 100%|██████████| 1251/1251 [04:45<00:00,  4.37it/s]\n",
            "Validation Epoch 56/100: 100%|██████████| 157/157 [00:13<00:00, 11.45it/s]\n"
          ]
        },
        {
          "name": "stdout",
          "output_type": "stream",
          "text": [
            "\n",
            "\tTrain Loss: 1.227\n",
            "\tValid Loss: 1.293\n",
            "\tValid WER: 1.6459\n",
            "\tValid CER: 1.0930\n",
            "\n",
            "Validation loss improved. Model saved to /content/drive/MyDrive/output_lstm_char/best_lstm_model_char.pt.\n",
            "Epoch: 56 | Time: 5m 11s\n",
            "Epoch: 56 | Time: 5m 11s\n"
          ]
        },
        {
          "name": "stderr",
          "output_type": "stream",
          "text": [
            "Training Epoch 57/100: 100%|██████████| 1251/1251 [04:46<00:00,  4.37it/s]\n",
            "Validation Epoch 57/100: 100%|██████████| 157/157 [00:13<00:00, 11.42it/s]\n"
          ]
        },
        {
          "name": "stdout",
          "output_type": "stream",
          "text": [
            "\n",
            "\tTrain Loss: 1.225\n",
            "\tValid Loss: 1.294\n",
            "\tValid WER: 1.1195\n",
            "\tValid CER: 0.8133\n",
            "\n",
            "Validation CER improved. Model saved to /content/drive/MyDrive/output_lstm_char/best_lstm_model_cer.pt.\n",
            "Epoch: 57 | Time: 5m 12s\n",
            "Epoch: 57 | Time: 5m 12s\n"
          ]
        },
        {
          "name": "stderr",
          "output_type": "stream",
          "text": [
            "Training Epoch 58/100: 100%|██████████| 1251/1251 [04:46<00:00,  4.37it/s]\n",
            "Validation Epoch 58/100: 100%|██████████| 157/157 [00:13<00:00, 11.46it/s]\n"
          ]
        },
        {
          "name": "stdout",
          "output_type": "stream",
          "text": [
            "\n",
            "\tTrain Loss: 1.222\n",
            "\tValid Loss: 1.294\n",
            "\tValid WER: 11.2940\n",
            "\tValid CER: 7.7787\n",
            "\n",
            "Epoch: 58 | Time: 5m 36s\n",
            "Epoch: 58 | Time: 5m 36s\n"
          ]
        },
        {
          "name": "stderr",
          "output_type": "stream",
          "text": [
            "Training Epoch 59/100: 100%|██████████| 1251/1251 [04:46<00:00,  4.37it/s]\n",
            "Validation Epoch 59/100: 100%|██████████| 157/157 [00:13<00:00, 11.44it/s]\n"
          ]
        },
        {
          "name": "stdout",
          "output_type": "stream",
          "text": [
            "\n",
            "\tTrain Loss: 1.219\n",
            "\tValid Loss: 1.293\n",
            "\tValid WER: 2.6035\n",
            "\tValid CER: 1.5828\n",
            "\n",
            "Epoch: 59 | Time: 5m 13s\n",
            "Epoch: 59 | Time: 5m 13s\n"
          ]
        },
        {
          "name": "stderr",
          "output_type": "stream",
          "text": [
            "Training Epoch 60/100: 100%|██████████| 1251/1251 [04:45<00:00,  4.38it/s]\n",
            "Validation Epoch 60/100: 100%|██████████| 157/157 [00:13<00:00, 11.46it/s]\n"
          ]
        },
        {
          "name": "stdout",
          "output_type": "stream",
          "text": [
            "\n",
            "\tTrain Loss: 1.217\n",
            "\tValid Loss: 1.294\n",
            "\tValid WER: 1.6472\n",
            "\tValid CER: 1.0939\n",
            "\n",
            "Epoch: 60 | Time: 5m 11s\n",
            "Epoch: 60 | Time: 5m 11s\n"
          ]
        },
        {
          "name": "stderr",
          "output_type": "stream",
          "text": [
            "Training Epoch 61/100: 100%|██████████| 1251/1251 [04:45<00:00,  4.38it/s]\n",
            "Validation Epoch 61/100: 100%|██████████| 157/157 [00:13<00:00, 11.45it/s]\n"
          ]
        },
        {
          "name": "stdout",
          "output_type": "stream",
          "text": [
            "\n",
            "\tTrain Loss: 1.215\n",
            "\tValid Loss: 1.292\n",
            "\tValid WER: 1.1793\n",
            "\tValid CER: 0.7917\n",
            "\n",
            "Validation loss improved. Model saved to /content/drive/MyDrive/output_lstm_char/best_lstm_model_char.pt.\n",
            "Validation CER improved. Model saved to /content/drive/MyDrive/output_lstm_char/best_lstm_model_cer.pt.\n",
            "Epoch: 61 | Time: 5m 8s\n",
            "Epoch: 61 | Time: 5m 8s\n"
          ]
        },
        {
          "name": "stderr",
          "output_type": "stream",
          "text": [
            "Training Epoch 62/100: 100%|██████████| 1251/1251 [04:45<00:00,  4.38it/s]\n",
            "Validation Epoch 62/100: 100%|██████████| 157/157 [00:13<00:00, 11.46it/s]\n"
          ]
        },
        {
          "name": "stdout",
          "output_type": "stream",
          "text": [
            "\n",
            "\tTrain Loss: 1.212\n",
            "\tValid Loss: 1.293\n",
            "\tValid WER: 1.1847\n",
            "\tValid CER: 0.8571\n",
            "\n",
            "Epoch: 62 | Time: 5m 9s\n",
            "Epoch: 62 | Time: 5m 9s\n"
          ]
        },
        {
          "name": "stderr",
          "output_type": "stream",
          "text": [
            "Training Epoch 63/100: 100%|██████████| 1251/1251 [04:45<00:00,  4.38it/s]\n",
            "Validation Epoch 63/100: 100%|██████████| 157/157 [00:13<00:00, 11.48it/s]\n"
          ]
        },
        {
          "name": "stdout",
          "output_type": "stream",
          "text": [
            "\n",
            "\tTrain Loss: 1.210\n",
            "\tValid Loss: 1.291\n",
            "\tValid WER: 2.2119\n",
            "\tValid CER: 1.4880\n",
            "\n",
            "Validation loss improved. Model saved to /content/drive/MyDrive/output_lstm_char/best_lstm_model_char.pt.\n",
            "Epoch: 63 | Time: 5m 12s\n",
            "Epoch: 63 | Time: 5m 12s\n"
          ]
        },
        {
          "name": "stderr",
          "output_type": "stream",
          "text": [
            "Training Epoch 64/100: 100%|██████████| 1251/1251 [04:45<00:00,  4.38it/s]\n",
            "Validation Epoch 64/100: 100%|██████████| 157/157 [00:13<00:00, 11.44it/s]\n"
          ]
        },
        {
          "name": "stdout",
          "output_type": "stream",
          "text": [
            "\n",
            "\tTrain Loss: 1.208\n",
            "\tValid Loss: 1.291\n",
            "\tValid WER: 1.8544\n",
            "\tValid CER: 1.0727\n",
            "\n",
            "Epoch: 64 | Time: 5m 10s\n",
            "Epoch: 64 | Time: 5m 10s\n"
          ]
        },
        {
          "name": "stderr",
          "output_type": "stream",
          "text": [
            "Training Epoch 65/100: 100%|██████████| 1251/1251 [04:46<00:00,  4.37it/s]\n",
            "Validation Epoch 65/100: 100%|██████████| 157/157 [00:13<00:00, 11.45it/s]\n"
          ]
        },
        {
          "name": "stdout",
          "output_type": "stream",
          "text": [
            "\n",
            "\tTrain Loss: 1.205\n",
            "\tValid Loss: 1.291\n",
            "\tValid WER: 1.5585\n",
            "\tValid CER: 1.0679\n",
            "\n",
            "Validation loss improved. Model saved to /content/drive/MyDrive/output_lstm_char/best_lstm_model_char.pt.\n",
            "Epoch: 65 | Time: 5m 11s\n",
            "Epoch: 65 | Time: 5m 11s\n"
          ]
        },
        {
          "name": "stderr",
          "output_type": "stream",
          "text": [
            "Training Epoch 66/100: 100%|██████████| 1251/1251 [04:46<00:00,  4.37it/s]\n",
            "Validation Epoch 66/100: 100%|██████████| 157/157 [00:13<00:00, 11.47it/s]\n"
          ]
        },
        {
          "name": "stdout",
          "output_type": "stream",
          "text": [
            "\n",
            "\tTrain Loss: 1.203\n",
            "\tValid Loss: 1.291\n",
            "\tValid WER: 1.7375\n",
            "\tValid CER: 1.1623\n",
            "\n",
            "Epoch: 66 | Time: 5m 11s\n",
            "Epoch: 66 | Time: 5m 11s\n"
          ]
        },
        {
          "name": "stderr",
          "output_type": "stream",
          "text": [
            "Training Epoch 67/100: 100%|██████████| 1251/1251 [04:46<00:00,  4.37it/s]\n",
            "Validation Epoch 67/100: 100%|██████████| 157/157 [00:13<00:00, 11.43it/s]\n"
          ]
        },
        {
          "name": "stdout",
          "output_type": "stream",
          "text": [
            "\n",
            "\tTrain Loss: 1.200\n",
            "\tValid Loss: 1.292\n",
            "\tValid WER: 2.6008\n",
            "\tValid CER: 1.7258\n",
            "\n",
            "Epoch: 67 | Time: 5m 13s\n",
            "Epoch: 67 | Time: 5m 13s\n"
          ]
        },
        {
          "name": "stderr",
          "output_type": "stream",
          "text": [
            "Training Epoch 68/100: 100%|██████████| 1251/1251 [04:46<00:00,  4.37it/s]\n",
            "Validation Epoch 68/100: 100%|██████████| 157/157 [00:13<00:00, 11.46it/s]\n"
          ]
        },
        {
          "name": "stdout",
          "output_type": "stream",
          "text": [
            "\n",
            "\tTrain Loss: 1.198\n",
            "\tValid Loss: 1.292\n",
            "\tValid WER: 1.6459\n",
            "\tValid CER: 1.0930\n",
            "\n",
            "Epoch: 68 | Time: 5m 11s\n",
            "Epoch: 68 | Time: 5m 11s\n"
          ]
        },
        {
          "name": "stderr",
          "output_type": "stream",
          "text": [
            "Training Epoch 69/100: 100%|██████████| 1251/1251 [04:46<00:00,  4.37it/s]\n",
            "Validation Epoch 69/100: 100%|██████████| 157/157 [00:13<00:00, 11.48it/s]\n"
          ]
        },
        {
          "name": "stdout",
          "output_type": "stream",
          "text": [
            "\n",
            "\tTrain Loss: 1.196\n",
            "\tValid Loss: 1.292\n",
            "\tValid WER: 2.5225\n",
            "\tValid CER: 1.4667\n",
            "\n",
            "Epoch: 69 | Time: 5m 13s\n",
            "Epoch: 69 | Time: 5m 13s\n"
          ]
        },
        {
          "name": "stderr",
          "output_type": "stream",
          "text": [
            "Training Epoch 70/100: 100%|██████████| 1251/1251 [04:46<00:00,  4.37it/s]\n",
            "Validation Epoch 70/100: 100%|██████████| 157/157 [00:13<00:00, 11.50it/s]\n"
          ]
        },
        {
          "name": "stdout",
          "output_type": "stream",
          "text": [
            "\n",
            "\tTrain Loss: 1.193\n",
            "\tValid Loss: 1.292\n",
            "\tValid WER: 2.0254\n",
            "\tValid CER: 1.3265\n",
            "\n",
            "Early stopping triggered.\n"
          ]
        }
      ],
      "source": [
        "# === Paths ===\n",
        "CHECKPOINT_PATH = \"/content/drive/MyDrive/output_lstm_char/checkpoint.pth\"\n",
        "LOG_FILE = \"/content/drive/MyDrive/output_lstm_char/train_log.txt\"\n",
        "\n",
        "# === Settings ===\n",
        "N_EPOCHS = 100\n",
        "best_valid_loss = float('inf')\n",
        "best_valid_cer = float('inf')\n",
        "patience = 5\n",
        "counter = 0\n",
        "\n",
        "# === Resume variables ===\n",
        "start_epoch = 1\n",
        "\n",
        "# ==== Load checkpoint if available ====\n",
        "if os.path.exists(CHECKPOINT_PATH):\n",
        "    checkpoint = torch.load(CHECKPOINT_PATH, map_location=DEVICE, weights_only=False)\n",
        "    model.load_state_dict(checkpoint['model_state_dict'])\n",
        "    optimizer.load_state_dict(checkpoint['optimizer_state_dict'])\n",
        "    start_epoch = checkpoint['epoch'] + 1\n",
        "    best_valid_loss = checkpoint['best_valid_loss']\n",
        "    best_valid_cer = checkpoint['best_valid_cer']\n",
        "    counter = checkpoint['counter']\n",
        "\n",
        "    if os.path.exists(LOG_FILE):\n",
        "      with open(LOG_FILE, \"r\") as f:\n",
        "          print(f.read())  # prints all previous logs\n",
        "\n",
        "    resume_msg = f\"--- Resuming training from epoch {start_epoch} ---\"\n",
        "    print(\"\\n\" + resume_msg + \"\\n\")\n",
        "    with open(LOG_FILE, \"a\") as f:\n",
        "        f.write(\"\\n\" + resume_msg + \"\\n\")\n",
        "\n",
        "\n",
        "train_losses = []\n",
        "valid_losses = []\n",
        "\n",
        "train_wers = []\n",
        "valid_wers = []\n",
        "train_cers = []\n",
        "valid_cers = []\n",
        "\n",
        "# ==== Training Loop ====\n",
        "for epoch in range(start_epoch, N_EPOCHS + 1):\n",
        "    start_time = time.time()\n",
        "\n",
        "    # Training\n",
        "    model.train()\n",
        "    epoch_train_loss = 0\n",
        "    train_bar = tqdm(train_loader, desc=f'Training Epoch {epoch}/{N_EPOCHS}')\n",
        "    for src, trg in train_bar:\n",
        "        src = src.to(DEVICE)\n",
        "        trg = trg.to(DEVICE)\n",
        "\n",
        "        optimizer.zero_grad()\n",
        "        output = model(src, trg)\n",
        "\n",
        "        # Reshape for loss computation\n",
        "        output = output.reshape(-1, VOCAB_SIZE)\n",
        "        trg = trg[:, 1:].reshape(-1)  # Remove first token (<s>) for target\n",
        "\n",
        "        loss = criterion(output, trg)\n",
        "        loss.backward()\n",
        "\n",
        "        optimizer.step()\n",
        "\n",
        "        epoch_train_loss += loss.item()\n",
        "\n",
        "    with open(LOG_FILE, \"a\") as f:\n",
        "        f.write(str(train_bar) + \"\\n\")\n",
        "\n",
        "    epoch_train_loss /= len(train_loader)\n",
        "    train_losses.append(epoch_train_loss)\n",
        "\n",
        "    # Validation\n",
        "    model.eval()\n",
        "    epoch_valid_loss = 0\n",
        "    with torch.no_grad():\n",
        "        val_bar = tqdm(val_loader, desc=f'Validation Epoch {epoch}/{N_EPOCHS}')\n",
        "        for src, trg in val_bar:\n",
        "            src = src.to(DEVICE)\n",
        "            trg = trg.to(DEVICE)\n",
        "\n",
        "            output = model(src, trg)\n",
        "\n",
        "            output = output.reshape(-1, VOCAB_SIZE)\n",
        "            trg = trg[:, 1:].reshape(-1)  # Remove first token (<s>) for target\n",
        "\n",
        "            loss = criterion(output, trg)\n",
        "            epoch_valid_loss += loss.item()\n",
        "\n",
        "    with open(LOG_FILE, \"a\") as f:\n",
        "        f.write(str(val_bar) + \"\\n\")\n",
        "\n",
        "    epoch_valid_loss /= len(val_loader)\n",
        "    valid_losses.append(epoch_valid_loss)\n",
        "\n",
        "    valid_cer, valid_wer = evaluate_wer(model, val_loader, idx2char)\n",
        "    valid_wers.append(valid_wer)\n",
        "    valid_cers.append(valid_cer)\n",
        "\n",
        "    # === Log metrics ===\n",
        "    log_text = (\n",
        "        f\"\\n\\tTrain Loss: {epoch_train_loss:.3f}\\n\"\n",
        "        f\"\\tValid Loss: {epoch_valid_loss:.3f}\\n\"\n",
        "        f\"\\tValid WER: {valid_wer:.4f}\\n\"\n",
        "        f\"\\tValid CER: {valid_cer:.4f}\\n\"\n",
        "    )\n",
        "    print(log_text)\n",
        "    with open(LOG_FILE, \"a\") as f:\n",
        "        f.write(log_text)\n",
        "\n",
        "    # === Save best models ===\n",
        "    # Early stopping check\n",
        "    if epoch_valid_loss < best_valid_loss:\n",
        "        best_valid_loss = epoch_valid_loss\n",
        "        torch.save(model.state_dict(), BEST_MODEL_PATH)\n",
        "        msg = f\"Validation loss improved. Model saved to {BEST_MODEL_PATH}.\"\n",
        "        print(msg)\n",
        "        with open(LOG_FILE, \"a\") as f:\n",
        "            f.write(msg + \"\\n\")\n",
        "        counter = 0\n",
        "    else:\n",
        "        counter += 1\n",
        "        if counter >= patience:\n",
        "            msg = \"Early stopping triggered.\"\n",
        "            print(msg)\n",
        "            with open(LOG_FILE, \"a\") as f:\n",
        "                f.write(msg + \"\\n\")\n",
        "            break\n",
        "\n",
        "    if valid_cer < best_valid_cer:\n",
        "        best_valid_cer = valid_cer\n",
        "        torch.save(model.state_dict(), BEST_CER_MODEL_PATH)\n",
        "        msg = f\"Validation CER improved. Model saved to {BEST_CER_MODEL_PATH}.\"\n",
        "        print(msg)\n",
        "        with open(LOG_FILE, \"a\") as f:\n",
        "            f.write(msg + \"\\n\")\n",
        "\n",
        "    # === Save checkpoint ===\n",
        "    torch.save({\n",
        "        'epoch': epoch,\n",
        "        'model_state_dict': model.state_dict(),\n",
        "        'optimizer_state_dict': optimizer.state_dict(),\n",
        "        'best_valid_loss': best_valid_loss,\n",
        "        'best_valid_cer': best_valid_cer,\n",
        "        'counter': counter\n",
        "    }, CHECKPOINT_PATH)\n",
        "\n",
        "\n",
        "    # === Epoch timing ===\n",
        "    end_time = time.time()\n",
        "    epoch_mins, epoch_secs = divmod(int(end_time - start_time), 60)\n",
        "    time_msg = f\"Epoch: {epoch:02} | Time: {epoch_mins}m {epoch_secs}s\"\n",
        "\n",
        "    print(time_msg)\n",
        "    with open(LOG_FILE, \"a\") as f:\n",
        "        f.write(time_msg + \"\\n\")\n",
        "\n",
        "    print(f'Epoch: {epoch:02} | Time: {epoch_mins}m {epoch_secs}s')"
      ]
    },
    {
      "cell_type": "code",
      "execution_count": null,
      "metadata": {
        "id": "gwQxULpRWrEG"
      },
      "outputs": [],
      "source": [
        "# Initialize empty lists\n",
        "train_losses = []\n",
        "valid_losses = []\n",
        "valid_wers = []\n",
        "valid_cers = []\n",
        "\n",
        "# Parse log file\n",
        "if os.path.exists(LOG_FILE):\n",
        "    with open(LOG_FILE, \"r\") as f:\n",
        "        for line in f:\n",
        "            if line.strip().startswith(\"Train Loss:\"):\n",
        "                train_losses.append(float(line.strip().split()[-1]))\n",
        "            elif line.strip().startswith(\"Valid Loss:\"):\n",
        "                valid_losses.append(float(line.strip().split()[-1]))\n",
        "            elif line.strip().startswith(\"Valid WER:\"):\n",
        "                valid_wers.append(float(line.strip().split()[-1]))\n",
        "            elif line.strip().startswith(\"Valid CER:\"):\n",
        "                valid_cers.append(float(line.strip().split()[-1]))"
      ]
    },
    {
      "cell_type": "code",
      "execution_count": null,
      "metadata": {
        "colab": {
          "base_uri": "https://localhost:8080/",
          "height": 504
        },
        "id": "bZVBAm1CHAna",
        "outputId": "58fd5ab8-c258-46df-f27c-3f2a61395b65"
      },
      "outputs": [
        {
          "data": {
            "image/png": "[encoded data removed]",
            "text/plain": [
              "<Figure size 1000x500 with 1 Axes>"
            ]
          },
          "metadata": {},
          "output_type": "display_data"
        },
        {
          "name": "stdout",
          "output_type": "stream",
          "text": [
            "Loss plot saved to /content/drive/MyDrive/output_lstm_char/lstm_loss_plot_char.png.\n"
          ]
        }
      ],
      "source": [
        "# Plot training and validation loss\n",
        "plt.figure(figsize=(10, 5))\n",
        "plt.plot(range(1, len(train_losses) + 1), train_losses, label='Train Loss')\n",
        "plt.plot(range(1, len(valid_losses) + 1), valid_losses, label='Validation Loss')\n",
        "plt.xlabel('Epoch')\n",
        "plt.ylabel('Loss')\n",
        "plt.legend()\n",
        "plt.title('Training and Validation Loss')\n",
        "plt.savefig(LOSS_PLOT_PATH)\n",
        "plt.show()\n",
        "print(f'Loss plot saved to {LOSS_PLOT_PATH}.')"
      ]
    },
    {
      "cell_type": "code",
      "execution_count": null,
      "metadata": {
        "colab": {
          "base_uri": "https://localhost:8080/",
          "height": 504
        },
        "id": "ohGpUQdDHAna",
        "outputId": "20579fc3-d57f-40c9-f567-b36e877e2a92"
      },
      "outputs": [
        {
          "data": {
            "image/png": "[encoded data removed]",
            "text/plain": [
              "<Figure size 1000x500 with 1 Axes>"
            ]
          },
          "metadata": {},
          "output_type": "display_data"
        },
        {
          "name": "stdout",
          "output_type": "stream",
          "text": [
            "Plot saved to /content/drive/MyDrive/output_lstm_char/er_plot.png.\n"
          ]
        }
      ],
      "source": [
        "# Plot validation CER & WER over epochs\n",
        "plt.figure(figsize=(10, 5))\n",
        "plt.plot(range(1, len(valid_wers) + 1), valid_wers, label='Validation WER')\n",
        "plt.plot(range(1, len(valid_cers) + 1), valid_cers, label='Validation CER')\n",
        "plt.xlabel('Epoch')\n",
        "plt.ylabel('WER & CER')\n",
        "plt.legend()\n",
        "plt.title('Validation WER & CER Over Epochs')\n",
        "plt.savefig(ER_PLOT_PATH)\n",
        "\n",
        "plt.show()\n",
        "print(f'Plot saved to {ER_PLOT_PATH}.')"
      ]
    },
    {
      "cell_type": "code",
      "execution_count": null,
      "metadata": {
        "id": "RYQpIVhAHAna"
      },
      "outputs": [],
      "source": [
        "def translate_sentence(sentence, model, char2idx, idx2char, device, max_len=MAX_LEN):\n",
        "    model.eval()\n",
        "    chars = list(sentence)\n",
        "    tokens = [BOS_IDX] + [char2idx.get(c, UNK_IDX) for c in chars] + [EOS_IDX]\n",
        "    tokens = tokens[:max_len]\n",
        "    src_tensor = torch.tensor(tokens, dtype=torch.long).unsqueeze(0).to(device)\n",
        "\n",
        "    with torch.no_grad():\n",
        "        outputs = model.predict(src_tensor, max_len)\n",
        "    outputs = outputs.squeeze(0).tolist()\n",
        "    # Stop at EOS token\n",
        "    if EOS_IDX in outputs:\n",
        "        eos_index = outputs.index(EOS_IDX)\n",
        "        outputs = outputs[:eos_index]\n",
        "    translation = ''.join([idx2char[idx] for idx in outputs if idx not in [PAD_IDX, BOS_IDX, EOS_IDX]])\n",
        "    return translation"
      ]
    },
    {
      "cell_type": "code",
      "execution_count": null,
      "metadata": {
        "id": "0pqyNtY4HAnb"
      },
      "outputs": [],
      "source": [
        "def evaluate_and_save(model, df, src_sequences, trg_sequences, char2idx, idx2char, file_name):\n",
        "    model.eval()\n",
        "    predictions = []\n",
        "    cer_scores = []\n",
        "    wer_scores = []\n",
        "\n",
        "    for src_ids, trg_ids in tqdm(zip(src_sequences, trg_sequences), total=len(src_sequences), desc=f'Evaluating {file_name}'):\n",
        "        src_sentence = ''.join([idx2char[idx] for idx in src_ids if idx not in [BOS_IDX, EOS_IDX, PAD_IDX]])\n",
        "        trg_sentence = ''.join([idx2char[idx] for idx in trg_ids if idx not in [BOS_IDX, EOS_IDX, PAD_IDX]])\n",
        "\n",
        "        pred_sentence = translate_sentence(src_sentence, model, char2idx, idx2char, DEVICE)\n",
        "        predictions.append(pred_sentence)\n",
        "        cer_score = cer(trg_sentence, pred_sentence)\n",
        "        wer_score = wer(trg_sentence, pred_sentence)\n",
        "        cer_scores.append(cer_score)\n",
        "        wer_scores.append(wer_score)\n",
        "\n",
        "    results_df = pd.DataFrame({\n",
        "        'Source': df['inFormalForm'],\n",
        "        'Target': df['FormalForm'],\n",
        "        'Prediction': predictions,\n",
        "        'CER': cer_scores,\n",
        "        'WER': wer_scores\n",
        "    })\n",
        "\n",
        "    results_df = results_df.sort_values(by=['CER', 'WER'], ascending=[True, True])\n",
        "\n",
        "    results_path = os.path.join(OUTPUT_DIR, file_name)\n",
        "    results_df.to_csv(results_path, index=False)\n",
        "    avg_cer = np.mean(cer_scores)\n",
        "    avg_wer = np.mean(wer_scores)\n",
        "    print(f'Results saved to {results_path}')\n",
        "    print(f'Average CER: {avg_cer:.4f}')\n",
        "    print(f'Average WER: {avg_wer:.4f}')\n",
        "    return results_df"
      ]
    },
    {
      "cell_type": "code",
      "execution_count": null,
      "metadata": {
        "colab": {
          "base_uri": "https://localhost:8080/"
        },
        "id": "E7hT7YbQHAnb",
        "outputId": "91fb9e31-2c65-4bcb-bfab-58be4bcb3fc9"
      },
      "outputs": [
        {
          "name": "stdout",
          "output_type": "stream",
          "text": [
            "Best model loaded.\n",
            "Evaluating on training data...\n"
          ]
        },
        {
          "name": "stderr",
          "output_type": "stream",
          "text": [
            "Evaluating train_results_char.csv: 100%|██████████| 40008/40008 [14:42<00:00, 45.35it/s]\n"
          ]
        },
        {
          "name": "stdout",
          "output_type": "stream",
          "text": [
            "Results saved to /content/drive/MyDrive/output_lstm_char/train_results_char.csv\n",
            "Average CER: 0.9844\n",
            "Average WER: 1.2503\n",
            "Evaluating on validation data...\n"
          ]
        },
        {
          "name": "stderr",
          "output_type": "stream",
          "text": [
            "Evaluating val_results_char.csv: 100%|██████████| 5001/5001 [01:49<00:00, 45.87it/s]\n"
          ]
        },
        {
          "name": "stdout",
          "output_type": "stream",
          "text": [
            "Results saved to /content/drive/MyDrive/output_lstm_char/val_results_char.csv\n",
            "Average CER: 0.9883\n",
            "Average WER: 1.2546\n",
            "Evaluating on test data...\n"
          ]
        },
        {
          "name": "stderr",
          "output_type": "stream",
          "text": [
            "Evaluating test_results_char.csv: 100%|██████████| 5002/5002 [01:50<00:00, 45.29it/s]"
          ]
        },
        {
          "name": "stdout",
          "output_type": "stream",
          "text": [
            "Results saved to /content/drive/MyDrive/output_lstm_char/test_results_char.csv\n",
            "Average CER: 0.9875\n",
            "Average WER: 1.2603\n"
          ]
        },
        {
          "name": "stderr",
          "output_type": "stream",
          "text": [
            "\n"
          ]
        }
      ],
      "source": [
        "model.load_state_dict(torch.load(BEST_MODEL_PATH))\n",
        "print('Best model loaded.')\n",
        "\n",
        "print('Evaluating on training data...')\n",
        "train_results = evaluate_and_save(model, train_df, train_src, train_trg, char2idx, idx2char, 'train_results_char.csv')\n",
        "\n",
        "print('Evaluating on validation data...')\n",
        "val_results = evaluate_and_save(model, val_df, val_src, val_trg, char2idx, idx2char, 'val_results_char.csv')\n",
        "\n",
        "print('Evaluating on test data...')\n",
        "test_results = evaluate_and_save(model, test_df, test_src, test_trg, char2idx, idx2char, 'test_results_char.csv')"
      ]
    },
    {
      "cell_type": "code",
      "execution_count": null,
      "metadata": {
        "colab": {
          "base_uri": "https://localhost:8080/"
        },
        "id": "HXXrzS8jHAnb",
        "outputId": "37d07e2f-220e-4a9a-b20d-0014c53e3279"
      },
      "outputs": [
        {
          "name": "stdout",
          "output_type": "stream",
          "text": [
            "Best CER model loaded.\n",
            "Evaluating on training data using best CER model...\n"
          ]
        },
        {
          "name": "stderr",
          "output_type": "stream",
          "text": [
            "Evaluating train_results_best_cer.csv: 100%|██████████| 40008/40008 [31:38<00:00, 21.08it/s]\n"
          ]
        },
        {
          "name": "stdout",
          "output_type": "stream",
          "text": [
            "Results saved to /content/drive/MyDrive/output_lstm_char/train_results_best_cer.csv\n",
            "Average CER: 1.9607\n",
            "Average WER: 1.3655\n",
            "Evaluating on validation data using best CER model...\n"
          ]
        },
        {
          "name": "stderr",
          "output_type": "stream",
          "text": [
            "Evaluating val_results_best_cer.csv: 100%|██████████| 5001/5001 [03:56<00:00, 21.12it/s]\n"
          ]
        },
        {
          "name": "stdout",
          "output_type": "stream",
          "text": [
            "Results saved to /content/drive/MyDrive/output_lstm_char/val_results_best_cer.csv\n",
            "Average CER: 1.9709\n",
            "Average WER: 1.3702\n",
            "Evaluating on test data using best CER model...\n"
          ]
        },
        {
          "name": "stderr",
          "output_type": "stream",
          "text": [
            "Evaluating test_results_best_cer.csv: 100%|██████████| 5002/5002 [03:54<00:00, 21.36it/s]"
          ]
        },
        {
          "name": "stdout",
          "output_type": "stream",
          "text": [
            "Results saved to /content/drive/MyDrive/output_lstm_char/test_results_best_cer.csv\n",
            "Average CER: 1.9313\n",
            "Average WER: 1.3894\n"
          ]
        },
        {
          "name": "stderr",
          "output_type": "stream",
          "text": [
            "\n"
          ]
        }
      ],
      "source": [
        "model.load_state_dict(torch.load(BEST_CER_MODEL_PATH))\n",
        "print('Best CER model loaded.')\n",
        "\n",
        "print('Evaluating on training data using best CER model...')\n",
        "train_results = evaluate_and_save(model, train_df, train_src, train_trg, char2idx, idx2char, 'train_results_best_cer.csv')\n",
        "\n",
        "print('Evaluating on validation data using best CER model...')\n",
        "val_results = evaluate_and_save(model, val_df, val_src, val_trg, char2idx, idx2char, 'val_results_best_cer.csv')\n",
        "\n",
        "print('Evaluating on test data using best CER model...')\n",
        "test_results = evaluate_and_save(model, test_df, test_src, test_trg, char2idx, idx2char, 'test_results_best_cer.csv')"
      ]
    }
  ],
  "metadata": {
    "accelerator": "GPU",
    "colab": {
      "gpuType": "T4",
      "provenance": []
    },
    "kernelspec": {
      "display_name": "quera",
      "language": "python",
      "name": "python3"
    },
    "language_info": {
      "codemirror_mode": {
        "name": "ipython",
        "version": 3
      },
      "file_extension": ".py",
      "mimetype": "text/x-python",
      "name": "python",
      "nbconvert_exporter": "python",
      "pygments_lexer": "ipython3",
      "version": "3.9.19"
    }
  },
  "nbformat": 4,
  "nbformat_minor": 0
}
