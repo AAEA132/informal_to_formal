{
  "cells": [
    {
      "cell_type": "code",
      "execution_count": 1,
      "metadata": {
        "colab": {
          "base_uri": "https://localhost:8080/"
        },
        "id": "ffoSBgx6wKlk",
        "outputId": "db5a9842-2a82-43af-e6c6-36c6bb0444d6"
      },
      "outputs": [
        {
          "name": "stdout",
          "output_type": "stream",
          "text": [
            "Collecting jiwer\n",
            "  Downloading jiwer-4.0.0-py3-none-any.whl.metadata (3.3 kB)\n",
            "Requirement already satisfied: click>=8.1.8 in /usr/local/lib/python3.12/dist-packages (from jiwer) (8.2.1)\n",
            "Collecting rapidfuzz>=3.9.7 (from jiwer)\n",
            "  Downloading rapidfuzz-3.13.0-cp312-cp312-manylinux_2_17_x86_64.manylinux2014_x86_64.whl.metadata (12 kB)\n",
            "Downloading jiwer-4.0.0-py3-none-any.whl (23 kB)\n",
            "Downloading rapidfuzz-3.13.0-cp312-cp312-manylinux_2_17_x86_64.manylinux2014_x86_64.whl (3.1 MB)\n",
            "\u001b[2K   \u001b[90m━━━━━━━━━━━━━━━━━━━━━━━━━━━━━━━━━━━━━━━━\u001b[0m \u001b[32m3.1/3.1 MB\u001b[0m \u001b[31m67.8 MB/s\u001b[0m eta \u001b[36m0:00:00\u001b[0m\n",
            "\u001b[?25hInstalling collected packages: rapidfuzz, jiwer\n",
            "Successfully installed jiwer-4.0.0 rapidfuzz-3.13.0\n"
          ]
        }
      ],
      "source": [
        "!pip install jiwer"
      ]
    },
    {
      "cell_type": "code",
      "execution_count": null,
      "metadata": {
        "id": "C3lK9XCtuv26"
      },
      "outputs": [],
      "source": [
        "import os\n",
        "import time\n",
        "import random\n",
        "import numpy as np\n",
        "import pandas as pd\n",
        "import torch\n",
        "import torch.nn as nn\n",
        "import torch.optim as optim\n",
        "from torch.utils.data import Dataset, DataLoader\n",
        "from jiwer import wer, cer\n",
        "import matplotlib.pyplot as plt\n",
        "from sklearn.model_selection import train_test_split\n",
        "from tqdm import tqdm\n",
        "import pickle\n",
        "import re\n",
        "import math"
      ]
    },
    {
      "cell_type": "code",
      "execution_count": 3,
      "metadata": {
        "id": "6NTcQfnxuv28"
      },
      "outputs": [],
      "source": [
        "# Set random seeds for reproducibility\n",
        "SEED = 42\n",
        "random.seed(SEED)\n",
        "np.random.seed(SEED)\n",
        "torch.manual_seed(SEED)\n",
        "torch.cuda.manual_seed_all(SEED)"
      ]
    },
    {
      "cell_type": "code",
      "execution_count": 4,
      "metadata": {
        "colab": {
          "base_uri": "https://localhost:8080/"
        },
        "id": "cMsn8lhDuv28",
        "outputId": "6a2086d2-b00f-4c77-cd56-f2e2d5a8634e"
      },
      "outputs": [
        {
          "name": "stdout",
          "output_type": "stream",
          "text": [
            "Using device: cuda\n"
          ]
        }
      ],
      "source": [
        "# Check if GPU is available\n",
        "DEVICE = torch.device('cuda' if torch.cuda.is_available() else 'cpu')\n",
        "print(f'Using device: {DEVICE}')"
      ]
    },
    {
      "cell_type": "code",
      "execution_count": 5,
      "metadata": {
        "colab": {
          "base_uri": "https://localhost:8080/"
        },
        "id": "7hXzKMWOIOV0",
        "outputId": "3b74bc73-5dbd-4c5f-e26c-0a35d82ec255"
      },
      "outputs": [
        {
          "name": "stdout",
          "output_type": "stream",
          "text": [
            "Mounted at /content/drive\n"
          ]
        }
      ],
      "source": [
        "# Create output directory\n",
        "from google.colab import drive\n",
        "drive.mount('/content/drive')\n",
        "\n",
        "OUTPUT_DIR = '/content/drive/MyDrive/output_transformer_word/'\n",
        "os.makedirs(OUTPUT_DIR, exist_ok=True)"
      ]
    },
    {
      "cell_type": "code",
      "execution_count": null,
      "metadata": {
        "id": "6KVHbmY6uv29"
      },
      "outputs": [],
      "source": [
        "# # Create output directory\n",
        "# OUTPUT_DIR = './output_transformer_word/'\n",
        "# if not os.path.exists(OUTPUT_DIR):\n",
        "#     os.makedirs(OUTPUT_DIR)"
      ]
    },
    {
      "cell_type": "code",
      "execution_count": null,
      "metadata": {
        "id": "UqguMGgbuv29"
      },
      "outputs": [],
      "source": [
        "# Paths for saving/loading\n",
        "DATASET_PATH = './exportStatements.xlsx'\n",
        "VOCAB_PATH = os.path.join(OUTPUT_DIR, 'word_vocab.pkl')\n",
        "PREPROCESSED_DATA_PATH = os.path.join(OUTPUT_DIR, 'preprocessed_data_word.pkl')\n",
        "BEST_MODEL_PATH = os.path.join(OUTPUT_DIR, 'best_transformer_model_word.pt')\n",
        "BEST_CER_MODEL_PATH = os.path.join(OUTPUT_DIR, 'best_transformer_model_cer.pt')\n",
        "LOSS_PLOT_PATH = os.path.join(OUTPUT_DIR, 'transformer_loss_plot_char.png')\n",
        "ER_PLOT_PATH = os.path.join(OUTPUT_DIR, 'er_plot.png')"
      ]
    },
    {
      "cell_type": "code",
      "execution_count": 10,
      "metadata": {
        "id": "4cTpRxxquv29"
      },
      "outputs": [],
      "source": [
        "# Load the dataset\n",
        "df = pd.read_excel(DATASET_PATH)"
      ]
    },
    {
      "cell_type": "code",
      "execution_count": 11,
      "metadata": {
        "colab": {
          "base_uri": "https://localhost:8080/"
        },
        "id": "c1QXdJ2Ouv2-",
        "outputId": "41c2393f-71eb-4933-b823-c0f364a2cdb1"
      },
      "outputs": [
        {
          "name": "stdout",
          "output_type": "stream",
          "text": [
            "Missing values in 'inFormalForm': 0\n",
            "Missing values in 'FormalForm': 1\n",
            "Dropped 1 rows due to missing values.\n"
          ]
        }
      ],
      "source": [
        "# Check for missing values in 'inFormalForm' and 'FormalForm'\n",
        "print(\"Missing values in 'inFormalForm':\", df['inFormalForm'].isnull().sum())\n",
        "print(\"Missing values in 'FormalForm':\", df['FormalForm'].isnull().sum())\n",
        "\n",
        "# Drop rows with missing values in 'inFormalForm' and 'FormalForm'\n",
        "initial_length = len(df)\n",
        "df = df.dropna(subset=['inFormalForm', 'FormalForm']).reset_index(drop=True)\n",
        "final_length = len(df)\n",
        "\n",
        "df['inFormalForm'] = df['inFormalForm'].astype(str)\n",
        "df['FormalForm'] = df['FormalForm'].astype(str)\n",
        "\n",
        "print(f\"Dropped {initial_length - final_length} rows due to missing values.\")"
      ]
    },
    {
      "cell_type": "code",
      "execution_count": 12,
      "metadata": {
        "id": "H4dh2fZIk8M2"
      },
      "outputs": [],
      "source": [
        "def clean_persian_text(text):\n",
        "    # 1. Keep only Persian letters, English letters, digits, whitespace, ZWNJ\n",
        "    text = re.sub(r\"[^\\u0600-\\u06FFa-zA-Z0-9\\u06F0-\\u06F9\\u0660-\\u0669\\u200c\\s]\", \" \", text)\n",
        "    # Remove leftover Persian punctuations explicitly (، ؛ ؟)\n",
        "    text = re.sub(r\"[،؛؟]\", \" \", text)\n",
        "    # Remove Arabic diacritics (harakat)\n",
        "    arabic_diacritics = r\"[\\u064B-\\u065F\\u0670\\u06D6-\\u06ED]\"\n",
        "    text = re.sub(arabic_diacritics, \"\", text)\n",
        "\n",
        "    # 2. Normalize Persian/Arabic digits to Western digits\n",
        "    persian_digits = \"۰۱۲۳۴۵۶۷۸۹\"\n",
        "    arabic_digits = \"٠١٢٣٤٥٦٧٨٩\"\n",
        "    for p, a, e in zip(persian_digits, arabic_digits, \"0123456789\"):\n",
        "        text = text.replace(p, e).replace(a, e)\n",
        "\n",
        "    # 3. Separate numbers stuck to Persian/English letters\n",
        "    text = re.sub(r\"(\\d+)(?=[\\u0600-\\u06FFa-zA-Z])\", r\"\\1 \", text)  # digit before letter\n",
        "    text = re.sub(r\"([\\u0600-\\u06FFa-zA-Z])(?=\\d+)\", r\"\\1 \", text)  # letter before digit\n",
        "\n",
        "    # 4. Remove underscores\n",
        "    text = re.sub(r\"_+\", \"\", text)\n",
        "\n",
        "    # 5. Normalize spaces\n",
        "    text = re.sub(r\"\\s+\", \" \", text).strip()\n",
        "\n",
        "    return text"
      ]
    },
    {
      "cell_type": "code",
      "execution_count": 13,
      "metadata": {
        "id": "ARLSjJtyk8M2"
      },
      "outputs": [],
      "source": [
        "df['inFormalForm'] = df['inFormalForm'].apply(clean_persian_text)\n",
        "df['FormalForm'] = df['FormalForm'].apply(clean_persian_text)"
      ]
    },
    {
      "cell_type": "code",
      "execution_count": 14,
      "metadata": {
        "id": "xH4g2Fj_uv2-"
      },
      "outputs": [],
      "source": [
        "# Split data into training, validation, and test sets (80%, 10%, 10%)\n",
        "train_df, temp_df = train_test_split(df, test_size=0.2, random_state=SEED)\n",
        "val_df, test_df = train_test_split(temp_df, test_size=0.5, random_state=SEED)"
      ]
    },
    {
      "cell_type": "code",
      "execution_count": null,
      "metadata": {
        "id": "oh6skkQd9qXK"
      },
      "outputs": [],
      "source": [
        "# Simple tokenizer function\n",
        "def tokenize(text):\n",
        "    # Split on whitespace and punctuation\n",
        "    token_pattern = r'\\w+|[^\\s\\w]+'\n",
        "    tokens = re.findall(token_pattern, text)\n",
        "\n",
        "    return tokens"
      ]
    },
    {
      "cell_type": "code",
      "execution_count": 16,
      "metadata": {
        "colab": {
          "base_uri": "https://localhost:8080/"
        },
        "id": "CtZ1wsaAuv2_",
        "outputId": "96d02f77-9b42-43f4-ce76-1ccc0a4d138f"
      },
      "outputs": [
        {
          "name": "stdout",
          "output_type": "stream",
          "text": [
            "Building word vocabulary...\n",
            "Word vocabulary built and saved.\n"
          ]
        }
      ],
      "source": [
        "# Build word vocabulary from training data\n",
        "if not os.path.exists(VOCAB_PATH):\n",
        "    print('Building word vocabulary...')\n",
        "    from collections import Counter\n",
        "\n",
        "    # Collect all words from the training data\n",
        "    all_words = []\n",
        "    for text in train_df['inFormalForm'].tolist() + train_df['FormalForm'].tolist():\n",
        "        tokens = tokenize(text)\n",
        "        all_words.extend(tokens)\n",
        "\n",
        "    # Build vocabulary\n",
        "    word_counts = Counter(all_words)\n",
        "    words = sorted(word_counts.keys())\n",
        "\n",
        "    # Add special tokens\n",
        "    special_tokens = ['<pad>', '<unk>', '<s>', '</s>']\n",
        "    word2idx = {word: idx + len(special_tokens) for idx, word in enumerate(words)}\n",
        "    for idx, token in enumerate(special_tokens):\n",
        "        word2idx[token] = idx\n",
        "    idx2word = {idx: word for word, idx in word2idx.items()}\n",
        "\n",
        "    # Save vocabulary\n",
        "    with open(VOCAB_PATH, 'wb') as f:\n",
        "        pickle.dump({'word2idx': word2idx, 'idx2word': idx2word}, f)\n",
        "    print('Word vocabulary built and saved.')\n",
        "else:\n",
        "    print('Loading existing word vocabulary...')\n",
        "    with open(VOCAB_PATH, 'rb') as f:\n",
        "        vocab = pickle.load(f)\n",
        "        word2idx = vocab['word2idx']\n",
        "        idx2word = vocab['idx2word']"
      ]
    },
    {
      "cell_type": "code",
      "execution_count": 17,
      "metadata": {
        "colab": {
          "base_uri": "https://localhost:8080/"
        },
        "id": "2LHA5Zb-uv3A",
        "outputId": "db3ea7d5-db61-4ec5-88e5-1df6f091a4b0"
      },
      "outputs": [
        {
          "data": {
            "text/plain": [
              "(0, 1, 2, 3)"
            ]
          },
          "execution_count": 17,
          "metadata": {},
          "output_type": "execute_result"
        }
      ],
      "source": [
        "# Special token IDs\n",
        "PAD_IDX = word2idx['<pad>']\n",
        "UNK_IDX = word2idx['<unk>']\n",
        "BOS_IDX = word2idx['<s>']\n",
        "EOS_IDX = word2idx['</s>']\n",
        "\n",
        "PAD_IDX, UNK_IDX, BOS_IDX, EOS_IDX"
      ]
    },
    {
      "cell_type": "code",
      "execution_count": 18,
      "metadata": {
        "colab": {
          "base_uri": "https://localhost:8080/"
        },
        "id": "5hkCFmnZuv3A",
        "outputId": "e95d5dfd-11ec-4347-fe90-8fd6b5bee6c4"
      },
      "outputs": [
        {
          "data": {
            "text/plain": [
              "108"
            ]
          },
          "execution_count": 18,
          "metadata": {},
          "output_type": "execute_result"
        }
      ],
      "source": [
        "# Maximum sequence length (based on dataset)\n",
        "def get_max_len(df_list):\n",
        "    max_len = 0\n",
        "    for df in df_list:\n",
        "        lengths_src = df['inFormalForm'].apply(lambda x: len(tokenize(x)) + 2)  # +2 for BOS and EOS\n",
        "        lengths_trg = df['FormalForm'].apply(lambda x: len(tokenize(x)) + 2)\n",
        "        max_len = max(max_len, lengths_src.max(), lengths_trg.max())\n",
        "    return max_len\n",
        "\n",
        "MAX_LEN = get_max_len([train_df, val_df, test_df])\n",
        "\n",
        "MAX_LEN"
      ]
    },
    {
      "cell_type": "code",
      "execution_count": 19,
      "metadata": {
        "colab": {
          "base_uri": "https://localhost:8080/"
        },
        "id": "7b-KEGziuv3A",
        "outputId": "68c65834-0b0e-46ea-bd0f-9a1f7e22fc0d"
      },
      "outputs": [
        {
          "name": "stdout",
          "output_type": "stream",
          "text": [
            "Preprocessing data...\n",
            "Preprocessed data saved.\n"
          ]
        }
      ],
      "source": [
        "# Check if preprocessed data exists\n",
        "if not os.path.exists(PREPROCESSED_DATA_PATH):\n",
        "    print('Preprocessing data...')\n",
        "    # Preprocess and tokenize all sentences\n",
        "    def preprocess_data(df, word2idx, max_len=MAX_LEN):\n",
        "        src_texts = df['inFormalForm'].tolist()\n",
        "        trg_texts = df['FormalForm'].tolist()\n",
        "        src_sequences = []\n",
        "        trg_sequences = []\n",
        "        for src, trg in zip(src_texts, trg_texts):\n",
        "            src_tokens = tokenize(src)\n",
        "            trg_tokens = tokenize(trg)\n",
        "            src_ids = [BOS_IDX] + [word2idx.get(w, UNK_IDX) for w in src_tokens] + [EOS_IDX]\n",
        "            trg_ids = [BOS_IDX] + [word2idx.get(w, UNK_IDX) for w in trg_tokens] + [EOS_IDX]\n",
        "            # Pad or truncate sequences\n",
        "            src_ids = src_ids[:max_len] + [PAD_IDX] * max(0, max_len - len(src_ids))\n",
        "            trg_ids = trg_ids[:max_len] + [PAD_IDX] * max(0, max_len - len(trg_ids))\n",
        "            src_sequences.append(src_ids)\n",
        "            trg_sequences.append(trg_ids)\n",
        "        return src_sequences, trg_sequences\n",
        "\n",
        "    # Tokenize and preprocess data\n",
        "    train_src, train_trg = preprocess_data(train_df, word2idx)\n",
        "    val_src, val_trg = preprocess_data(val_df, word2idx)\n",
        "    test_src, test_trg = preprocess_data(test_df, word2idx)\n",
        "\n",
        "    # Save preprocessed data\n",
        "    with open(PREPROCESSED_DATA_PATH, 'wb') as f:\n",
        "        pickle.dump({\n",
        "            'train_src': train_src,\n",
        "            'train_trg': train_trg,\n",
        "            'val_src': val_src,\n",
        "            'val_trg': val_trg,\n",
        "            'test_src': test_src,\n",
        "            'test_trg': test_trg,\n",
        "            'MAX_LEN': MAX_LEN\n",
        "        }, f)\n",
        "    print('Preprocessed data saved.')\n",
        "else:\n",
        "    print('Loading preprocessed data...')\n",
        "    # Load preprocessed data\n",
        "    with open(PREPROCESSED_DATA_PATH, 'rb') as f:\n",
        "        data = pickle.load(f)\n",
        "        train_src = data['train_src']\n",
        "        train_trg = data['train_trg']\n",
        "        val_src = data['val_src']\n",
        "        val_trg = data['val_trg']\n",
        "        test_src = data['test_src']\n",
        "        test_trg = data['test_trg']\n",
        "        MAX_LEN = data['MAX_LEN']"
      ]
    },
    {
      "cell_type": "code",
      "execution_count": 20,
      "metadata": {
        "id": "GOOFtP3Puv3B"
      },
      "outputs": [],
      "source": [
        "# Prepare datasets\n",
        "class TranslationDataset(Dataset):\n",
        "    def __init__(self, src_sequences, trg_sequences):\n",
        "        self.src_sequences = src_sequences\n",
        "        self.trg_sequences = trg_sequences\n",
        "\n",
        "    def __len__(self):\n",
        "        return len(self.src_sequences)\n",
        "\n",
        "    def __getitem__(self, idx):\n",
        "        src_ids = torch.tensor(self.src_sequences[idx], dtype=torch.long)\n",
        "        trg_ids = torch.tensor(self.trg_sequences[idx], dtype=torch.long)\n",
        "        return src_ids, trg_ids"
      ]
    },
    {
      "cell_type": "code",
      "execution_count": 21,
      "metadata": {
        "id": "le7FROtbuv3B"
      },
      "outputs": [],
      "source": [
        "# Collate function to create masks and pad sequences\n",
        "def collate_fn(batch, pad_idx):\n",
        "    src_batch, trg_batch = zip(*batch)\n",
        "    src_batch = torch.nn.utils.rnn.pad_sequence(src_batch, padding_value=pad_idx, batch_first=True)\n",
        "    trg_batch = torch.nn.utils.rnn.pad_sequence(trg_batch, padding_value=pad_idx, batch_first=True)\n",
        "    return src_batch, trg_batch"
      ]
    },
    {
      "cell_type": "code",
      "execution_count": null,
      "metadata": {
        "id": "kO8bSSMPuv3B"
      },
      "outputs": [],
      "source": [
        "# Create datasets and dataloaders\n",
        "batch_size = 32\n",
        "\n",
        "train_dataset = TranslationDataset(train_src, train_trg)\n",
        "val_dataset = TranslationDataset(val_src, val_trg)\n",
        "test_dataset = TranslationDataset(test_src, test_trg)\n",
        "\n",
        "train_loader = DataLoader(train_dataset, batch_size=batch_size, shuffle=True, collate_fn=lambda x: collate_fn(x, PAD_IDX))\n",
        "val_loader = DataLoader(val_dataset, batch_size=batch_size, collate_fn=lambda x: collate_fn(x, PAD_IDX))\n",
        "test_loader = DataLoader(test_dataset, batch_size=batch_size, collate_fn=lambda x: collate_fn(x, PAD_IDX))"
      ]
    },
    {
      "cell_type": "code",
      "execution_count": null,
      "metadata": {
        "id": "cYrtnW9zuv3B"
      },
      "outputs": [],
      "source": [
        "# Function to generate subsequent masks for target\n",
        "def generate_square_subsequent_mask(sz):\n",
        "    mask = torch.triu(torch.ones((sz, sz), device=DEVICE), diagonal=1).bool()\n",
        "    return mask.float().masked_fill(mask, float('-inf'))"
      ]
    },
    {
      "cell_type": "code",
      "execution_count": null,
      "metadata": {
        "id": "W4MkozEKuv3B"
      },
      "outputs": [],
      "source": [
        "# Function to create padding masks\n",
        "def create_mask(src, tgt, pad_idx):\n",
        "    src_seq_len = src.size(1)\n",
        "    tgt_seq_len = tgt.size(1)\n",
        "\n",
        "    src_mask = torch.zeros((src_seq_len, src_seq_len), device=DEVICE).float()\n",
        "    tgt_mask = generate_square_subsequent_mask(tgt_seq_len)\n",
        "\n",
        "    src_padding_mask = (src == pad_idx)\n",
        "    tgt_padding_mask = (tgt == pad_idx)\n",
        "\n",
        "    return src_mask, tgt_mask, src_padding_mask, tgt_padding_mask"
      ]
    },
    {
      "cell_type": "code",
      "execution_count": null,
      "metadata": {
        "id": "sM-stgnuuv3B"
      },
      "outputs": [],
      "source": [
        "# Transformer Model Definition\n",
        "class Seq2SeqTransformer(nn.Module):\n",
        "    def __init__(self, num_encoder_layers, num_decoder_layers, emb_size,\n",
        "                 nhead, src_vocab_size, tgt_vocab_size, dim_feedforward=512,\n",
        "                 dropout=0.1, max_len=MAX_LEN, pad_idx=PAD_IDX):\n",
        "        super(Seq2SeqTransformer, self).__init__()\n",
        "        self.src_vocab_size = src_vocab_size\n",
        "        self.tgt_vocab_size = tgt_vocab_size\n",
        "        self.emb_size = emb_size\n",
        "        self.pad_idx = pad_idx\n",
        "        self.max_len = max_len\n",
        "\n",
        "        # Token embedding layers\n",
        "        self.src_embedding = nn.Embedding(src_vocab_size, emb_size, padding_idx=pad_idx)\n",
        "        self.tgt_embedding = nn.Embedding(tgt_vocab_size, emb_size, padding_idx=pad_idx)\n",
        "\n",
        "        # Learned positional embeddings\n",
        "        self.src_pos_embedding = nn.Embedding(max_len, emb_size)\n",
        "        self.tgt_pos_embedding = nn.Embedding(max_len, emb_size)\n",
        "\n",
        "        # Transformer\n",
        "        self.transformer = nn.Transformer(d_model=emb_size, nhead=nhead,\n",
        "                                          num_encoder_layers=num_encoder_layers,\n",
        "                                          num_decoder_layers=num_decoder_layers,\n",
        "                                          dim_feedforward=dim_feedforward,\n",
        "                                          dropout=dropout)\n",
        "\n",
        "        # Output layer\n",
        "        self.generator = nn.Linear(emb_size, tgt_vocab_size)\n",
        "\n",
        "    def forward(self, src, tgt, src_mask, tgt_mask, src_padding_mask, tgt_padding_mask, memory_key_padding_mask):\n",
        "        # src and tgt shape: [batch_size, seq_len]\n",
        "        src_seq_len = src.size(1)\n",
        "        tgt_seq_len = tgt.size(1)\n",
        "        src_positions = torch.arange(0, src_seq_len, device=src.device).unsqueeze(0).expand(src.size(0), -1)\n",
        "        tgt_positions = torch.arange(0, tgt_seq_len, device=tgt.device).unsqueeze(0).expand(tgt.size(0), -1)\n",
        "\n",
        "\n",
        "        # Embed and encode source\n",
        "        src_tok = self.src_embedding(src) * math.sqrt(self.emb_size)\n",
        "        src_emb = src_tok + self.src_pos_embedding(src_positions)\n",
        "\n",
        "        # Embed and encode target\n",
        "        tgt_tok = self.tgt_embedding(tgt) * math.sqrt(self.emb_size)\n",
        "        tgt_emb = tgt_tok + self.tgt_pos_embedding(tgt_positions)\n",
        "\n",
        "        # Transformer\n",
        "        output = self.transformer(\n",
        "            src_emb.transpose(0, 1), tgt_emb.transpose(0, 1),\n",
        "            src_mask=src_mask, tgt_mask=tgt_mask, memory_mask=None,\n",
        "            src_key_padding_mask=src_padding_mask,\n",
        "            tgt_key_padding_mask=tgt_padding_mask,\n",
        "            memory_key_padding_mask=memory_key_padding_mask\n",
        "        )\n",
        "\n",
        "        output = output.transpose(0,1)\n",
        "        logits = self.generator(output)\n",
        "        return logits\n",
        "\n",
        "    def encode(self, src, src_mask, src_key_padding_mask=None):\n",
        "        src_seq_len = src.size(1)\n",
        "        src_positions = torch.arange(0, src_seq_len, device=src.device).unsqueeze(0).expand(src.size(0), -1)\n",
        "        src_tok = self.src_embedding(src) * math.sqrt(self.emb_size)\n",
        "        src_emb = src_tok + self.src_pos_embedding(src_positions)\n",
        "        return self.transformer.encoder(\n",
        "            src_emb.transpose(0, 1),\n",
        "            mask=src_mask,\n",
        "            src_key_padding_mask=src_key_padding_mask\n",
        "        )\n",
        "\n",
        "    def decode(self, tgt, memory, tgt_mask, tgt_key_padding_mask=None, memory_key_padding_mask=None):\n",
        "        tgt_seq_len = tgt.size(1)\n",
        "        tgt_positions = torch.arange(0, tgt_seq_len, device=tgt.device).unsqueeze(0).expand(tgt.size(0), -1)\n",
        "        tgt_tok = self.tgt_embedding(tgt) * math.sqrt(self.emb_size)\n",
        "        tgt_emb = tgt_tok + self.tgt_pos_embedding(tgt_positions)\n",
        "        return self.transformer.decoder(\n",
        "            tgt_emb.transpose(0, 1), memory,\n",
        "            tgt_mask=tgt_mask,\n",
        "            tgt_key_padding_mask=tgt_key_padding_mask,\n",
        "            memory_key_padding_mask=memory_key_padding_mask\n",
        "        )"
      ]
    },
    {
      "cell_type": "code",
      "execution_count": null,
      "metadata": {
        "colab": {
          "base_uri": "https://localhost:8080/"
        },
        "id": "xeMUVgx7uv3C",
        "outputId": "91c41990-d49c-44db-9767-c7bea3958306"
      },
      "outputs": [
        {
          "name": "stderr",
          "output_type": "stream",
          "text": [
            "/usr/local/lib/python3.12/dist-packages/torch/nn/modules/transformer.py:392: UserWarning: enable_nested_tensor is True, but self.use_nested_tensor is False because encoder_layer.self_attn.batch_first was not True(use batch_first for better inference performance)\n",
            "  warnings.warn(\n"
          ]
        }
      ],
      "source": [
        "# Initialize model parameters\n",
        "VOCAB_SIZE = len(word2idx)\n",
        "SRC_VOCAB_SIZE = VOCAB_SIZE\n",
        "TGT_VOCAB_SIZE = VOCAB_SIZE\n",
        "\n",
        "# Hyperparameters\n",
        "num_encoder_layers = 3\n",
        "num_decoder_layers = 3\n",
        "emb_size = 256\n",
        "nhead = 8\n",
        "dim_feedforward = 256\n",
        "dropout = 0.1\n",
        "\n",
        "\n",
        "model = Seq2SeqTransformer(num_encoder_layers, num_decoder_layers, emb_size,\n",
        "                           nhead, SRC_VOCAB_SIZE, TGT_VOCAB_SIZE,\n",
        "                           dim_feedforward, dropout, MAX_LEN, PAD_IDX).to(DEVICE)"
      ]
    },
    {
      "cell_type": "code",
      "execution_count": null,
      "metadata": {
        "id": "xKoLmyRXuv3C"
      },
      "outputs": [],
      "source": [
        "# Initialize optimizer and loss function\n",
        "optimizer = optim.Adam(model.parameters(), lr=0.0005, weight_decay=1e-5)\n",
        "criterion = nn.CrossEntropyLoss(ignore_index=PAD_IDX)"
      ]
    },
    {
      "cell_type": "code",
      "execution_count": null,
      "metadata": {
        "colab": {
          "base_uri": "https://localhost:8080/"
        },
        "id": "83sT2e5ZOPei",
        "outputId": "c120d0f5-cfce-4e08-88f5-4d69edbf8422"
      },
      "outputs": [
        {
          "name": "stderr",
          "output_type": "stream",
          "text": [
            "<>:5: SyntaxWarning: \"is\" with 'str' literal. Did you mean \"==\"?\n",
            "<>:5: SyntaxWarning: \"is\" with 'str' literal. Did you mean \"==\"?\n",
            "/tmp/ipython-input-3816964553.py:5: SyntaxWarning: \"is\" with 'str' literal. Did you mean \"==\"?\n",
            "  if len(t) == 1 and t is \"\\u200c\":\n"
          ]
        }
      ],
      "source": [
        "def detokenize(ids, idx2word):\n",
        "    toks = [idx2word.get(i, '') for i in ids if i not in (PAD_IDX, BOS_IDX, EOS_IDX)]\n",
        "    s = \"\"\n",
        "    for t in toks:\n",
        "        if len(t) == 1 and t is \"\\u200c\":\n",
        "            s += t\n",
        "        elif s == \"\":\n",
        "            s += t\n",
        "        else:\n",
        "            s += \" \" + t\n",
        "    return s.strip()"
      ]
    },
    {
      "cell_type": "code",
      "execution_count": null,
      "metadata": {
        "id": "sXG_LHdMOP_z"
      },
      "outputs": [],
      "source": [
        "@torch.no_grad()\n",
        "def greedy_decode_train(model, src, pad_idx, bos_idx, eos_idx, max_len):\n",
        "    model.eval()\n",
        "    device = src.device\n",
        "    # masks\n",
        "    src_seq_len = src.size(1)\n",
        "    src_mask = torch.zeros((src_seq_len, src_seq_len), device=device).float()\n",
        "    src_padding_mask = (src == pad_idx)\n",
        "\n",
        "    # encode\n",
        "    memory = model.encode(src, src_mask, src_key_padding_mask=src_padding_mask)\n",
        "\n",
        "    # start with BOS\n",
        "    ys = torch.full((src.size(0), 1), bos_idx, dtype=torch.long, device=device)\n",
        "\n",
        "    for _ in range(max_len - 1):\n",
        "        tgt_mask = generate_square_subsequent_mask(ys.size(1)).to(device)\n",
        "        out = model.decode(\n",
        "            ys, memory, tgt_mask,\n",
        "            tgt_key_padding_mask=None,\n",
        "            memory_key_padding_mask=src_padding_mask\n",
        "        )  # shape: (tgt_len, batch, emb)\n",
        "        out = out.transpose(0, 1)                       # (batch, tgt_len, emb)\n",
        "        logits = model.generator(out[:, -1, :])         # (batch, vocab)\n",
        "        next_token = logits.argmax(dim=-1, keepdim=True)  # (batch, 1)\n",
        "        ys = torch.cat([ys, next_token], dim=1)\n",
        "        if (next_token.squeeze(1) == eos_idx).all():\n",
        "            break\n",
        "\n",
        "    return ys  # (batch, decoded_len)"
      ]
    },
    {
      "cell_type": "code",
      "execution_count": null,
      "metadata": {
        "id": "ReSMOfgBOsMT"
      },
      "outputs": [],
      "source": [
        "def evaluate_wer(model, dataloader, idx2word, max_batches=None):\n",
        "    model.eval()\n",
        "    cer_scores = []\n",
        "    wer_scores = []\n",
        "    batches = 0\n",
        "    with torch.no_grad():\n",
        "        for src, trg in dataloader:\n",
        "            src = src.to(DEVICE)\n",
        "            trg = trg.to(DEVICE)\n",
        "            preds = greedy_decode_train(model, src, PAD_IDX, BOS_IDX, EOS_IDX, MAX_LEN)\n",
        "\n",
        "            # strip BOS for text\n",
        "            pred_ids = preds[:, 1:].tolist()\n",
        "            gold_ids = trg[:, 1:].tolist()\n",
        "\n",
        "            for p_ids, g_ids in zip(pred_ids, gold_ids):\n",
        "                pred_sentence = detokenize(p_ids, idx2word)\n",
        "                gold_sentence = detokenize(g_ids, idx2word)\n",
        "                cer_scores.append(cer(gold_sentence, pred_sentence))\n",
        "                wer_scores.append(wer(gold_sentence, pred_sentence))\n",
        "\n",
        "            batches += 1\n",
        "            if max_batches and batches >= max_batches:\n",
        "                break\n",
        "\n",
        "    return float(np.mean(cer_scores)), float(np.mean(wer_scores))"
      ]
    },
    {
      "cell_type": "code",
      "execution_count": null,
      "metadata": {
        "colab": {
          "base_uri": "https://localhost:8080/"
        },
        "id": "poxVhrjouv3C",
        "outputId": "7c3d2d63-3268-43e4-91af-2581f3f8925f"
      },
      "outputs": [
        {
          "name": "stderr",
          "output_type": "stream",
          "text": [
            "Training Epoch 1/100:   0%|          | 0/1251 [00:00<?, ?it/s]/usr/local/lib/python3.12/dist-packages/torch/nn/functional.py:6041: UserWarning: Support for mismatched src_key_padding_mask and mask is deprecated. Use same type for both instead.\n",
            "  warnings.warn(\n",
            "/usr/local/lib/python3.12/dist-packages/torch/nn/functional.py:6041: UserWarning: Support for mismatched key_padding_mask and attn_mask is deprecated. Use same type for both instead.\n",
            "  warnings.warn(\n",
            "Training Epoch 1/100: 100%|██████████| 1251/1251 [03:22<00:00,  6.18it/s]\n",
            "Validation Epoch 1/100: 100%|██████████| 157/157 [00:08<00:00, 17.95it/s]\n"
          ]
        },
        {
          "name": "stdout",
          "output_type": "stream",
          "text": [
            "\tTrain Loss: 5.297\n",
            "\tValid Loss: 4.572\n",
            "\tValid WER: 1.1538\n",
            "\tValid CER: 0.8373\n",
            "Validation loss improved. Model saved to /content/drive/MyDrive/output_transformer_word/best_transformer_model_word.pt.\n",
            "Validation CER improved. Model saved to /content/drive/MyDrive/output_transformer_word/best_transformer_model_cer.pt.\n",
            "Epoch: 01 | Time: 4m 44s\n"
          ]
        },
        {
          "name": "stderr",
          "output_type": "stream",
          "text": [
            "Training Epoch 2/100: 100%|██████████| 1251/1251 [03:26<00:00,  6.07it/s]\n",
            "Validation Epoch 2/100: 100%|██████████| 157/157 [00:08<00:00, 17.92it/s]\n"
          ]
        },
        {
          "name": "stdout",
          "output_type": "stream",
          "text": [
            "\tTrain Loss: 4.247\n",
            "\tValid Loss: 3.949\n",
            "\tValid WER: 1.7670\n",
            "\tValid CER: 1.4063\n",
            "Validation loss improved. Model saved to /content/drive/MyDrive/output_transformer_word/best_transformer_model_word.pt.\n",
            "Epoch: 02 | Time: 5m 0s\n"
          ]
        },
        {
          "name": "stderr",
          "output_type": "stream",
          "text": [
            "Training Epoch 3/100: 100%|██████████| 1251/1251 [03:26<00:00,  6.06it/s]\n",
            "Validation Epoch 3/100: 100%|██████████| 157/157 [00:08<00:00, 17.83it/s]\n"
          ]
        },
        {
          "name": "stdout",
          "output_type": "stream",
          "text": [
            "\tTrain Loss: 3.621\n",
            "\tValid Loss: 3.532\n",
            "\tValid WER: 2.5011\n",
            "\tValid CER: 2.1625\n",
            "Validation loss improved. Model saved to /content/drive/MyDrive/output_transformer_word/best_transformer_model_word.pt.\n",
            "Epoch: 03 | Time: 5m 17s\n"
          ]
        },
        {
          "name": "stderr",
          "output_type": "stream",
          "text": [
            "Training Epoch 4/100: 100%|██████████| 1251/1251 [03:26<00:00,  6.05it/s]\n",
            "Validation Epoch 4/100: 100%|██████████| 157/157 [00:08<00:00, 17.85it/s]\n"
          ]
        },
        {
          "name": "stdout",
          "output_type": "stream",
          "text": [
            "\tTrain Loss: 3.093\n",
            "\tValid Loss: 3.215\n",
            "\tValid WER: 2.3897\n",
            "\tValid CER: 2.0808\n",
            "Validation loss improved. Model saved to /content/drive/MyDrive/output_transformer_word/best_transformer_model_word.pt.\n",
            "Epoch: 04 | Time: 5m 16s\n"
          ]
        },
        {
          "name": "stderr",
          "output_type": "stream",
          "text": [
            "Training Epoch 5/100: 100%|██████████| 1251/1251 [03:26<00:00,  6.06it/s]\n",
            "Validation Epoch 5/100: 100%|██████████| 157/157 [00:08<00:00, 17.88it/s]\n"
          ]
        },
        {
          "name": "stdout",
          "output_type": "stream",
          "text": [
            "\tTrain Loss: 2.643\n",
            "\tValid Loss: 2.991\n",
            "\tValid WER: 1.8667\n",
            "\tValid CER: 1.6480\n",
            "Validation loss improved. Model saved to /content/drive/MyDrive/output_transformer_word/best_transformer_model_word.pt.\n",
            "Epoch: 05 | Time: 5m 5s\n"
          ]
        },
        {
          "name": "stderr",
          "output_type": "stream",
          "text": [
            "Training Epoch 6/100: 100%|██████████| 1251/1251 [03:26<00:00,  6.05it/s]\n",
            "Validation Epoch 6/100: 100%|██████████| 157/157 [00:08<00:00, 17.86it/s]\n"
          ]
        },
        {
          "name": "stdout",
          "output_type": "stream",
          "text": [
            "\tTrain Loss: 2.250\n",
            "\tValid Loss: 2.850\n",
            "\tValid WER: 0.9876\n",
            "\tValid CER: 0.8152\n",
            "Validation loss improved. Model saved to /content/drive/MyDrive/output_transformer_word/best_transformer_model_word.pt.\n",
            "Validation CER improved. Model saved to /content/drive/MyDrive/output_transformer_word/best_transformer_model_cer.pt.\n",
            "Epoch: 06 | Time: 4m 25s\n"
          ]
        },
        {
          "name": "stderr",
          "output_type": "stream",
          "text": [
            "Training Epoch 7/100: 100%|██████████| 1251/1251 [03:26<00:00,  6.05it/s]\n",
            "Validation Epoch 7/100: 100%|██████████| 157/157 [00:08<00:00, 17.93it/s]\n"
          ]
        },
        {
          "name": "stdout",
          "output_type": "stream",
          "text": [
            "\tTrain Loss: 1.909\n",
            "\tValid Loss: 2.677\n",
            "\tValid WER: 1.7619\n",
            "\tValid CER: 1.5592\n",
            "Validation loss improved. Model saved to /content/drive/MyDrive/output_transformer_word/best_transformer_model_word.pt.\n",
            "Epoch: 07 | Time: 5m 0s\n"
          ]
        },
        {
          "name": "stderr",
          "output_type": "stream",
          "text": [
            "Training Epoch 8/100: 100%|██████████| 1251/1251 [03:26<00:00,  6.06it/s]\n",
            "Validation Epoch 8/100: 100%|██████████| 157/157 [00:08<00:00, 17.80it/s]\n"
          ]
        },
        {
          "name": "stdout",
          "output_type": "stream",
          "text": [
            "\tTrain Loss: 1.620\n",
            "\tValid Loss: 2.596\n",
            "\tValid WER: 2.2703\n",
            "\tValid CER: 2.0805\n",
            "Validation loss improved. Model saved to /content/drive/MyDrive/output_transformer_word/best_transformer_model_word.pt.\n",
            "Epoch: 08 | Time: 5m 12s\n"
          ]
        },
        {
          "name": "stderr",
          "output_type": "stream",
          "text": [
            "Training Epoch 9/100: 100%|██████████| 1251/1251 [03:26<00:00,  6.04it/s]\n",
            "Validation Epoch 9/100: 100%|██████████| 157/157 [00:08<00:00, 17.85it/s]\n"
          ]
        },
        {
          "name": "stdout",
          "output_type": "stream",
          "text": [
            "\tTrain Loss: 1.386\n",
            "\tValid Loss: 2.514\n",
            "\tValid WER: 1.1262\n",
            "\tValid CER: 0.9618\n",
            "Validation loss improved. Model saved to /content/drive/MyDrive/output_transformer_word/best_transformer_model_word.pt.\n",
            "Epoch: 09 | Time: 4m 22s\n"
          ]
        },
        {
          "name": "stderr",
          "output_type": "stream",
          "text": [
            "Training Epoch 10/100: 100%|██████████| 1251/1251 [03:26<00:00,  6.05it/s]\n",
            "Validation Epoch 10/100: 100%|██████████| 157/157 [00:08<00:00, 17.88it/s]\n"
          ]
        },
        {
          "name": "stdout",
          "output_type": "stream",
          "text": [
            "\tTrain Loss: 1.199\n",
            "\tValid Loss: 2.493\n",
            "\tValid WER: 1.3637\n",
            "\tValid CER: 1.1720\n",
            "Validation loss improved. Model saved to /content/drive/MyDrive/output_transformer_word/best_transformer_model_word.pt.\n",
            "Epoch: 10 | Time: 4m 33s\n"
          ]
        },
        {
          "name": "stderr",
          "output_type": "stream",
          "text": [
            "Training Epoch 11/100: 100%|██████████| 1251/1251 [03:26<00:00,  6.05it/s]\n",
            "Validation Epoch 11/100: 100%|██████████| 157/157 [00:08<00:00, 17.81it/s]\n"
          ]
        },
        {
          "name": "stdout",
          "output_type": "stream",
          "text": [
            "\tTrain Loss: 1.053\n",
            "\tValid Loss: 2.440\n",
            "\tValid WER: 0.9474\n",
            "\tValid CER: 0.7944\n",
            "Validation loss improved. Model saved to /content/drive/MyDrive/output_transformer_word/best_transformer_model_word.pt.\n",
            "Validation CER improved. Model saved to /content/drive/MyDrive/output_transformer_word/best_transformer_model_cer.pt.\n",
            "Epoch: 11 | Time: 4m 27s\n"
          ]
        },
        {
          "name": "stderr",
          "output_type": "stream",
          "text": [
            "Training Epoch 12/100: 100%|██████████| 1251/1251 [03:26<00:00,  6.05it/s]\n",
            "Validation Epoch 12/100: 100%|██████████| 157/157 [00:08<00:00, 17.87it/s]\n"
          ]
        },
        {
          "name": "stdout",
          "output_type": "stream",
          "text": [
            "\tTrain Loss: 0.931\n",
            "\tValid Loss: 2.414\n",
            "\tValid WER: 0.7992\n",
            "\tValid CER: 0.6753\n",
            "Validation loss improved. Model saved to /content/drive/MyDrive/output_transformer_word/best_transformer_model_word.pt.\n",
            "Validation CER improved. Model saved to /content/drive/MyDrive/output_transformer_word/best_transformer_model_cer.pt.\n",
            "Epoch: 12 | Time: 4m 19s\n"
          ]
        },
        {
          "name": "stderr",
          "output_type": "stream",
          "text": [
            "Training Epoch 13/100: 100%|██████████| 1251/1251 [03:26<00:00,  6.05it/s]\n",
            "Validation Epoch 13/100: 100%|██████████| 157/157 [00:08<00:00, 17.93it/s]\n"
          ]
        },
        {
          "name": "stdout",
          "output_type": "stream",
          "text": [
            "\tTrain Loss: 0.835\n",
            "\tValid Loss: 2.427\n",
            "\tValid WER: 0.9263\n",
            "\tValid CER: 0.7885\n",
            "Epoch: 13 | Time: 4m 18s\n"
          ]
        },
        {
          "name": "stderr",
          "output_type": "stream",
          "text": [
            "Training Epoch 14/100: 100%|██████████| 1251/1251 [03:26<00:00,  6.07it/s]\n",
            "Validation Epoch 14/100: 100%|██████████| 157/157 [00:08<00:00, 17.93it/s]\n"
          ]
        },
        {
          "name": "stdout",
          "output_type": "stream",
          "text": [
            "\tTrain Loss: 0.747\n",
            "\tValid Loss: 2.382\n",
            "\tValid WER: 0.8485\n",
            "\tValid CER: 0.7197\n",
            "Validation loss improved. Model saved to /content/drive/MyDrive/output_transformer_word/best_transformer_model_word.pt.\n",
            "Epoch: 14 | Time: 4m 25s\n"
          ]
        },
        {
          "name": "stderr",
          "output_type": "stream",
          "text": [
            "Training Epoch 15/100: 100%|██████████| 1251/1251 [03:26<00:00,  6.07it/s]\n",
            "Validation Epoch 15/100: 100%|██████████| 157/157 [00:08<00:00, 17.90it/s]\n"
          ]
        },
        {
          "name": "stdout",
          "output_type": "stream",
          "text": [
            "\tTrain Loss: 0.681\n",
            "\tValid Loss: 2.375\n",
            "\tValid WER: 1.0655\n",
            "\tValid CER: 0.9297\n",
            "Validation loss improved. Model saved to /content/drive/MyDrive/output_transformer_word/best_transformer_model_word.pt.\n",
            "Epoch: 15 | Time: 4m 33s\n"
          ]
        },
        {
          "name": "stderr",
          "output_type": "stream",
          "text": [
            "Training Epoch 16/100: 100%|██████████| 1251/1251 [03:25<00:00,  6.08it/s]\n",
            "Validation Epoch 16/100: 100%|██████████| 157/157 [00:08<00:00, 17.94it/s]\n"
          ]
        },
        {
          "name": "stdout",
          "output_type": "stream",
          "text": [
            "\tTrain Loss: 0.620\n",
            "\tValid Loss: 2.411\n",
            "\tValid WER: 1.0519\n",
            "\tValid CER: 0.9221\n",
            "Epoch: 16 | Time: 4m 38s\n"
          ]
        },
        {
          "name": "stderr",
          "output_type": "stream",
          "text": [
            "Training Epoch 17/100: 100%|██████████| 1251/1251 [03:25<00:00,  6.08it/s]\n",
            "Validation Epoch 17/100: 100%|██████████| 157/157 [00:08<00:00, 17.95it/s]\n"
          ]
        },
        {
          "name": "stdout",
          "output_type": "stream",
          "text": [
            "\tTrain Loss: 0.571\n",
            "\tValid Loss: 2.375\n",
            "\tValid WER: 1.0898\n",
            "\tValid CER: 0.9404\n",
            "Validation loss improved. Model saved to /content/drive/MyDrive/output_transformer_word/best_transformer_model_word.pt.\n",
            "Epoch: 17 | Time: 4m 43s\n"
          ]
        },
        {
          "name": "stderr",
          "output_type": "stream",
          "text": [
            "Training Epoch 18/100: 100%|██████████| 1251/1251 [03:25<00:00,  6.07it/s]\n",
            "Validation Epoch 18/100: 100%|██████████| 157/157 [00:08<00:00, 18.02it/s]\n"
          ]
        },
        {
          "name": "stdout",
          "output_type": "stream",
          "text": [
            "\tTrain Loss: 0.527\n",
            "\tValid Loss: 2.383\n",
            "\tValid WER: 0.8397\n",
            "\tValid CER: 0.7183\n",
            "Epoch: 18 | Time: 4m 23s\n"
          ]
        },
        {
          "name": "stderr",
          "output_type": "stream",
          "text": [
            "Training Epoch 19/100: 100%|██████████| 1251/1251 [03:25<00:00,  6.09it/s]\n",
            "Validation Epoch 19/100: 100%|██████████| 157/157 [00:08<00:00, 17.92it/s]\n"
          ]
        },
        {
          "name": "stdout",
          "output_type": "stream",
          "text": [
            "\tTrain Loss: 0.489\n",
            "\tValid Loss: 2.406\n",
            "\tValid WER: 0.7647\n",
            "\tValid CER: 0.6365\n",
            "Validation CER improved. Model saved to /content/drive/MyDrive/output_transformer_word/best_transformer_model_cer.pt.\n",
            "Epoch: 19 | Time: 4m 15s\n"
          ]
        },
        {
          "name": "stderr",
          "output_type": "stream",
          "text": [
            "Training Epoch 20/100: 100%|██████████| 1251/1251 [03:25<00:00,  6.08it/s]\n",
            "Validation Epoch 20/100: 100%|██████████| 157/157 [00:08<00:00, 17.86it/s]\n"
          ]
        },
        {
          "name": "stdout",
          "output_type": "stream",
          "text": [
            "\tTrain Loss: 0.456\n",
            "\tValid Loss: 2.443\n",
            "\tValid WER: 0.8655\n",
            "\tValid CER: 0.7760\n",
            "Epoch: 20 | Time: 4m 23s\n"
          ]
        },
        {
          "name": "stderr",
          "output_type": "stream",
          "text": [
            "Training Epoch 21/100: 100%|██████████| 1251/1251 [03:25<00:00,  6.08it/s]\n",
            "Validation Epoch 21/100: 100%|██████████| 157/157 [00:08<00:00, 17.93it/s]\n"
          ]
        },
        {
          "name": "stdout",
          "output_type": "stream",
          "text": [
            "\tTrain Loss: 0.425\n",
            "\tValid Loss: 2.410\n",
            "\tValid WER: 1.0563\n",
            "\tValid CER: 0.9373\n",
            "Epoch: 21 | Time: 4m 37s\n"
          ]
        },
        {
          "name": "stderr",
          "output_type": "stream",
          "text": [
            "Training Epoch 22/100: 100%|██████████| 1251/1251 [03:25<00:00,  6.08it/s]\n",
            "Validation Epoch 22/100: 100%|██████████| 157/157 [00:08<00:00, 17.96it/s]\n"
          ]
        },
        {
          "name": "stdout",
          "output_type": "stream",
          "text": [
            "\tTrain Loss: 0.398\n",
            "\tValid Loss: 2.395\n",
            "\tValid WER: 0.6743\n",
            "\tValid CER: 0.5671\n",
            "Early stopping triggered.\n"
          ]
        }
      ],
      "source": [
        "# Training loop with WER calculation\n",
        "N_EPOCHS = 100\n",
        "best_valid_loss = float('inf')\n",
        "best_valid_cer = float('inf')\n",
        "patience = 5\n",
        "counter = 0\n",
        "\n",
        "train_losses = []\n",
        "valid_losses = []\n",
        "\n",
        "train_wers = []\n",
        "valid_wers = []\n",
        "train_cers = []\n",
        "valid_cers = []\n",
        "\n",
        "for epoch in range(1, N_EPOCHS + 1):\n",
        "    start_time = time.time()\n",
        "\n",
        "    # Training\n",
        "    model.train()\n",
        "    epoch_train_loss = 0\n",
        "    for src, trg in tqdm(train_loader, desc=f'Training Epoch {epoch}/{N_EPOCHS}'):\n",
        "        src = src.to(DEVICE)\n",
        "        trg = trg.to(DEVICE)\n",
        "\n",
        "        # Create masks\n",
        "        src_mask, tgt_mask, src_padding_mask, tgt_padding_mask = create_mask(src, trg[:, :-1], PAD_IDX)\n",
        "\n",
        "        optimizer.zero_grad()\n",
        "        output = model(src, trg[:, :-1], src_mask, tgt_mask, src_padding_mask, tgt_padding_mask, src_padding_mask)\n",
        "\n",
        "        trg_out = trg[:, 1:]\n",
        "\n",
        "        output = output.reshape(-1, TGT_VOCAB_SIZE)\n",
        "        trg_out = trg_out.reshape(-1)\n",
        "\n",
        "        loss = criterion(output, trg_out)\n",
        "        loss.backward()\n",
        "\n",
        "        optimizer.step()\n",
        "\n",
        "        epoch_train_loss += loss.item()\n",
        "\n",
        "    epoch_train_loss /= len(train_loader)\n",
        "    train_losses.append(epoch_train_loss)\n",
        "\n",
        "\n",
        "    # Validation\n",
        "    model.eval()\n",
        "    epoch_valid_loss = 0\n",
        "    with torch.no_grad():\n",
        "        for src, trg in tqdm(val_loader, desc=f'Validation Epoch {epoch}/{N_EPOCHS}'):\n",
        "            src = src.to(DEVICE)\n",
        "            trg = trg.to(DEVICE)\n",
        "\n",
        "            src_mask, tgt_mask, src_padding_mask, tgt_padding_mask = create_mask(src, trg[:, :-1], PAD_IDX)\n",
        "\n",
        "            output = model(src, trg[:, :-1], src_mask, tgt_mask, src_padding_mask, tgt_padding_mask, src_padding_mask)\n",
        "\n",
        "            trg_out = trg[:, 1:]\n",
        "\n",
        "            output = output.reshape(-1, TGT_VOCAB_SIZE)\n",
        "            trg_out = trg_out.reshape(-1)\n",
        "\n",
        "            loss = criterion(output, trg_out)\n",
        "            epoch_valid_loss += loss.item()\n",
        "\n",
        "    epoch_valid_loss /= len(val_loader)\n",
        "    valid_losses.append(epoch_valid_loss)\n",
        "\n",
        "    # Evaluate WER\n",
        "    valid_cer, valid_wer = evaluate_wer(model, val_loader, idx2word)\n",
        "    valid_wers.append(valid_wer)\n",
        "    valid_cers.append(valid_cer)\n",
        "\n",
        "    print(f'\\tTrain Loss: {epoch_train_loss:.3f}')\n",
        "    print(f'\\tValid Loss: {epoch_valid_loss:.3f}')\n",
        "    print(f'\\tValid WER: {valid_wer:.4f}')\n",
        "    print(f'\\tValid CER: {valid_cer:.4f}')\n",
        "\n",
        "    # Early stopping check\n",
        "    if epoch_valid_loss < best_valid_loss:\n",
        "        best_valid_loss = epoch_valid_loss\n",
        "        torch.save(model.state_dict(), BEST_MODEL_PATH)\n",
        "        print(f'Validation loss improved. Model saved to {BEST_MODEL_PATH}.')\n",
        "        counter = 0\n",
        "    else:\n",
        "        counter += 1\n",
        "        if counter >= patience:\n",
        "            print('Early stopping triggered.')\n",
        "            break\n",
        "\n",
        "    if valid_cer < best_valid_cer:\n",
        "        best_valid_cer = valid_cer\n",
        "        torch.save(model.state_dict(), BEST_CER_MODEL_PATH)\n",
        "        print(f'Validation CER improved. Model saved to {BEST_CER_MODEL_PATH}.')\n",
        "\n",
        "    end_time = time.time()\n",
        "    epoch_mins, epoch_secs = divmod(int(end_time - start_time), 60)\n",
        "\n",
        "    print(f'Epoch: {epoch:02} | Time: {epoch_mins}m {epoch_secs}s')"
      ]
    },
    {
      "cell_type": "code",
      "execution_count": null,
      "metadata": {
        "colab": {
          "base_uri": "https://localhost:8080/",
          "height": 504
        },
        "id": "vsilXzkWuv3C",
        "outputId": "2ab7938f-1f81-4f0c-99f2-a7956f6e3507"
      },
      "outputs": [
        {
          "data": {
            "image/png": "[encoded data removed]",
            "text/plain": [
              "<Figure size 1000x500 with 1 Axes>"
            ]
          },
          "metadata": {},
          "output_type": "display_data"
        },
        {
          "name": "stdout",
          "output_type": "stream",
          "text": [
            "Loss plot saved to /content/drive/MyDrive/output_transformer_word/transformer_loss_plot_char.png.\n"
          ]
        }
      ],
      "source": [
        "# Plot training and validation loss\n",
        "plt.figure(figsize=(10, 5))\n",
        "plt.plot(range(1, len(train_losses) + 1), train_losses, label='Train Loss')\n",
        "plt.plot(range(1, len(valid_losses) + 1), valid_losses, label='Validation Loss')\n",
        "plt.xlabel('Epoch')\n",
        "plt.ylabel('Loss')\n",
        "plt.legend()\n",
        "plt.title('Training and Validation Loss')\n",
        "plt.savefig(LOSS_PLOT_PATH)\n",
        "plt.show()\n",
        "print(f'Loss plot saved to {LOSS_PLOT_PATH}.')"
      ]
    },
    {
      "cell_type": "code",
      "execution_count": null,
      "metadata": {
        "colab": {
          "base_uri": "https://localhost:8080/",
          "height": 504
        },
        "id": "MMs1xI-2k8M7",
        "outputId": "158b872f-9e5b-4331-c915-107edd6a00e7"
      },
      "outputs": [
        {
          "data": {
            "image/png": "[encoded data removed]",
            "text/plain": [
              "<Figure size 1000x500 with 1 Axes>"
            ]
          },
          "metadata": {},
          "output_type": "display_data"
        },
        {
          "name": "stdout",
          "output_type": "stream",
          "text": [
            "Plot saved to /content/drive/MyDrive/output_transformer_word/er_plot.png.\n"
          ]
        }
      ],
      "source": [
        "# Plot validation CER & WER over epochs\n",
        "plt.figure(figsize=(10, 5))\n",
        "plt.plot(range(1, len(valid_wers) + 1), valid_wers, label='Validation WER')\n",
        "plt.plot(range(1, len(valid_cers) + 1), valid_cers, label='Validation CER')\n",
        "plt.xlabel('Epoch')\n",
        "plt.ylabel('WER & CER')\n",
        "plt.legend()\n",
        "plt.title('Validation WER & CER Over Epochs')\n",
        "plt.savefig(ER_PLOT_PATH)\n",
        "\n",
        "plt.show()\n",
        "print(f'Plot saved to {ER_PLOT_PATH}.')"
      ]
    },
    {
      "cell_type": "code",
      "execution_count": null,
      "metadata": {
        "id": "ipOha0ORuv3D"
      },
      "outputs": [],
      "source": [
        "def greedy_decode_inference(model, src, src_mask, max_len, bos_idx):\n",
        "    src = src.to(DEVICE)\n",
        "    src_mask = src_mask.to(DEVICE)\n",
        "    src_padding_mask = (src == PAD_IDX)\n",
        "\n",
        "    memory = model.encode(src, src_mask, src_key_padding_mask=src_padding_mask)\n",
        "\n",
        "    ys = torch.ones(1, 1).fill_(bos_idx).type(torch.long).to(DEVICE)\n",
        "    for i in range(max_len-1):\n",
        "        tgt_mask = generate_square_subsequent_mask(ys.size(1)).to(DEVICE)\n",
        "        out = model.decode(ys, memory, tgt_mask, tgt_key_padding_mask=None, memory_key_padding_mask=src_padding_mask)\n",
        "        out = out.transpose(0,1)\n",
        "        prob = model.generator(out[:, -1])\n",
        "        next_word = torch.argmax(prob, dim=1).item()\n",
        "        ys = torch.cat([ys, torch.ones(1, 1).type_as(src.data).fill_(next_word)], dim=1)\n",
        "        if next_word == EOS_IDX:\n",
        "            break\n",
        "    return ys"
      ]
    },
    {
      "cell_type": "code",
      "execution_count": null,
      "metadata": {
        "id": "yvKJFS1Auv3D"
      },
      "outputs": [],
      "source": [
        "def translate_sentence(sentence, model, word2idx, idx2word, device, max_len=MAX_LEN, decoding_strategy='greedy'):\n",
        "    model.eval()\n",
        "    tokens = tokenize(sentence)\n",
        "    tokens = [BOS_IDX] + [word2idx.get(w, UNK_IDX) for w in tokens] + [EOS_IDX]\n",
        "    tokens = tokens[:max_len]\n",
        "    src = torch.tensor(tokens, dtype=torch.long).unsqueeze(0).to(device)\n",
        "    src_mask = torch.zeros((src.shape[1], src.shape[1]), device=device).float()\n",
        "\n",
        "    if decoding_strategy == 'greedy':\n",
        "        tgt_tokens = greedy_decode_inference(model, src, src_mask, max_len, BOS_IDX).flatten()\n",
        "    else:\n",
        "        raise ValueError(\"Invalid decoding strategy\")\n",
        "    tgt_tokens = tgt_tokens.cpu().numpy()\n",
        "    # Remove BOS token\n",
        "    tgt_tokens = tgt_tokens[1:]\n",
        "    # Stop at EOS token\n",
        "    if EOS_IDX in tgt_tokens:\n",
        "        eos_index = np.where(tgt_tokens == EOS_IDX)[0][0]\n",
        "        tgt_tokens = tgt_tokens[:eos_index]\n",
        "    translation = ' '.join([idx2word.get(idx, '') for idx in tgt_tokens if idx not in [PAD_IDX, BOS_IDX, EOS_IDX, UNK_IDX]])\n",
        "    return translation"
      ]
    },
    {
      "cell_type": "code",
      "execution_count": null,
      "metadata": {
        "id": "dAG7U8dzuv3D"
      },
      "outputs": [],
      "source": [
        "def evaluate_and_save(model, df, src_sequences, trg_sequences, word2idx, idx2word, file_name):\n",
        "    model.eval()\n",
        "    predictions = []\n",
        "    cer_scores = []\n",
        "    wer_scores = []\n",
        "\n",
        "    for src_ids, trg_ids in tqdm(zip(src_sequences, trg_sequences), total=len(src_sequences), desc=f'Evaluating {file_name}'):\n",
        "        src_sentence = ' '.join([idx2word.get(idx, '') for idx in src_ids if idx not in [BOS_IDX, EOS_IDX, PAD_IDX]])\n",
        "        trg_sentence = ' '.join([idx2word.get(idx, '') for idx in trg_ids if idx not in [BOS_IDX, EOS_IDX, PAD_IDX]])\n",
        "\n",
        "        pred_sentence = translate_sentence(src_sentence, model, word2idx, idx2word, DEVICE)\n",
        "        predictions.append(pred_sentence)\n",
        "        cer_score = cer(trg_sentence, pred_sentence)\n",
        "        wer_score = wer(trg_sentence, pred_sentence)\n",
        "        cer_scores.append(cer_score)\n",
        "        wer_scores.append(wer_score)\n",
        "\n",
        "    results_df = pd.DataFrame({\n",
        "        'Source': df['inFormalForm'],\n",
        "        'Target': df['FormalForm'],\n",
        "        'Prediction': predictions,\n",
        "        'CER': cer_scores,\n",
        "        'WER': wer_scores\n",
        "    })\n",
        "\n",
        "    results_df = results_df.sort_values(by=['CER', 'WER'], ascending=[True, True])\n",
        "\n",
        "    results_path = os.path.join(OUTPUT_DIR, file_name)\n",
        "    results_df.to_csv(results_path, index=False)\n",
        "    avg_cer = np.mean(cer_scores)\n",
        "    avg_wer = np.mean(wer_scores)\n",
        "    print(f'Results saved to {results_path}')\n",
        "    print(f'Average CER: {avg_cer:.4f}')\n",
        "    print(f'Average WER: {avg_wer:.4f}')\n",
        "    return results_df"
      ]
    },
    {
      "cell_type": "code",
      "execution_count": null,
      "metadata": {
        "colab": {
          "background_save": true,
          "base_uri": "https://localhost:8080/"
        },
        "id": "1banzxM6uv3D",
        "outputId": "cb97fc00-5bc2-4a2e-b611-a122e6101788"
      },
      "outputs": [
        {
          "name": "stdout",
          "output_type": "stream",
          "text": [
            "Best model loaded.\n",
            "Evaluating on training data...\n"
          ]
        },
        {
          "name": "stderr",
          "output_type": "stream",
          "text": [
            "Evaluating train_results_word_transformer.csv: 100%|██████████| 40008/40008 [51:01<00:00, 13.07it/s]\n"
          ]
        },
        {
          "name": "stdout",
          "output_type": "stream",
          "text": [
            "Results saved to /content/drive/MyDrive/output_transformer_word/train_results_word_transformer.csv\n",
            "Average CER: 0.1276\n",
            "Average WER: 0.1529\n",
            "Evaluating on validation data...\n"
          ]
        },
        {
          "name": "stderr",
          "output_type": "stream",
          "text": [
            "Evaluating val_results_word_transformer.csv: 100%|██████████| 5001/5001 [07:18<00:00, 11.40it/s]\n"
          ]
        },
        {
          "name": "stdout",
          "output_type": "stream",
          "text": [
            "Results saved to /content/drive/MyDrive/output_transformer_word/val_results_word_transformer.csv\n",
            "Average CER: 0.5150\n",
            "Average WER: 0.6339\n",
            "Evaluating on test data...\n"
          ]
        },
        {
          "name": "stderr",
          "output_type": "stream",
          "text": [
            "Evaluating test_results_word_transformer.csv: 100%|██████████| 5002/5002 [07:10<00:00, 11.63it/s]\n"
          ]
        },
        {
          "name": "stdout",
          "output_type": "stream",
          "text": [
            "Results saved to /content/drive/MyDrive/output_transformer_word/test_results_word_transformer.csv\n",
            "Average CER: 0.5047\n",
            "Average WER: 0.6239\n"
          ]
        }
      ],
      "source": [
        "model.load_state_dict(torch.load(BEST_MODEL_PATH))\n",
        "print('Best model loaded.')\n",
        "\n",
        "print('Evaluating on training data...')\n",
        "train_results = evaluate_and_save(model, train_df, train_src, train_trg, word2idx, idx2word, 'train_results_word_transformer.csv')\n",
        "\n",
        "print('Evaluating on validation data...')\n",
        "val_results = evaluate_and_save(model, val_df, val_src, val_trg, word2idx, idx2word, 'val_results_word_transformer.csv')\n",
        "\n",
        "print('Evaluating on test data...')\n",
        "test_results = evaluate_and_save(model, test_df, test_src, test_trg, word2idx, idx2word, 'test_results_word_transformer.csv')"
      ]
    },
    {
      "cell_type": "code",
      "execution_count": null,
      "metadata": {
        "colab": {
          "base_uri": "https://localhost:8080/"
        },
        "id": "mtIRdt3Zuv3E",
        "outputId": "fc96f345-c486-4e86-fc12-2931c84075b0"
      },
      "outputs": [
        {
          "name": "stdout",
          "output_type": "stream",
          "text": [
            "Best CER model loaded.\n",
            "Evaluating on training data using best CER model...\n"
          ]
        },
        {
          "name": "stderr",
          "output_type": "stream",
          "text": [
            "\rEvaluating train_results_best_cer.csv:   0%|          | 0/40008 [00:00<?, ?it/s]/usr/local/lib/python3.12/dist-packages/torch/nn/functional.py:6041: UserWarning: Support for mismatched src_key_padding_mask and mask is deprecated. Use same type for both instead.\n",
            "  warnings.warn(\n",
            "Evaluating train_results_best_cer.csv: 100%|██████████| 40008/40008 [52:28<00:00, 12.71it/s]\n"
          ]
        },
        {
          "name": "stdout",
          "output_type": "stream",
          "text": [
            "Results saved to /content/drive/MyDrive/output_transformer_word/train_results_best_cer.csv\n",
            "Average CER: 0.1040\n",
            "Average WER: 0.1234\n",
            "Evaluating on validation data using best CER model...\n"
          ]
        },
        {
          "name": "stderr",
          "output_type": "stream",
          "text": [
            "Evaluating val_results_best_cer.csv: 100%|██████████| 5001/5001 [07:12<00:00, 11.56it/s]\n"
          ]
        },
        {
          "name": "stdout",
          "output_type": "stream",
          "text": [
            "Results saved to /content/drive/MyDrive/output_transformer_word/val_results_best_cer.csv\n",
            "Average CER: 0.4698\n",
            "Average WER: 0.5893\n",
            "Evaluating on test data using best CER model...\n"
          ]
        },
        {
          "name": "stderr",
          "output_type": "stream",
          "text": [
            "Evaluating test_results_best_cer.csv: 100%|██████████| 5002/5002 [07:11<00:00, 11.60it/s]\n"
          ]
        },
        {
          "name": "stdout",
          "output_type": "stream",
          "text": [
            "Results saved to /content/drive/MyDrive/output_transformer_word/test_results_best_cer.csv\n",
            "Average CER: 0.4659\n",
            "Average WER: 0.5810\n"
          ]
        }
      ],
      "source": [
        "model.load_state_dict(torch.load(BEST_CER_MODEL_PATH))\n",
        "print('Best CER model loaded.')\n",
        "\n",
        "print('Evaluating on training data using best CER model...')\n",
        "train_results = evaluate_and_save(model, train_df, train_src, train_trg, word2idx, idx2word, 'train_results_best_cer.csv')\n",
        "\n",
        "print('Evaluating on validation data using best CER model...')\n",
        "val_results = evaluate_and_save(model, val_df, val_src, val_trg, word2idx, idx2word, 'val_results_best_cer.csv')\n",
        "\n",
        "print('Evaluating on test data using best CER model...')\n",
        "test_results = evaluate_and_save(model, test_df, test_src, test_trg, word2idx, idx2word, 'test_results_best_cer.csv')"
      ]
    }
  ],
  "metadata": {
    "accelerator": "GPU",
    "colab": {
      "gpuType": "T4",
      "provenance": []
    },
    "kernelspec": {
      "display_name": "Python 3",
      "name": "python3"
    },
    "language_info": {
      "name": "python",
      "version": "3.9.19"
    }
  },
  "nbformat": 4,
  "nbformat_minor": 0
}
