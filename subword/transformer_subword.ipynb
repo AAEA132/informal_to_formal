{
  "cells": [
    {
      "cell_type": "code",
      "execution_count": null,
      "metadata": {
        "colab": {
          "base_uri": "https://localhost:8080/"
        },
        "id": "Nwri7uwXG11I",
        "outputId": "b280778a-af19-449f-8400-16576e811502"
      },
      "outputs": [
        {
          "name": "stdout",
          "output_type": "stream",
          "text": [
            "Collecting jiwer\n",
            "  Downloading jiwer-4.0.0-py3-none-any.whl.metadata (3.3 kB)\n",
            "Requirement already satisfied: click>=8.1.8 in /usr/local/lib/python3.12/dist-packages (from jiwer) (8.2.1)\n",
            "Collecting rapidfuzz>=3.9.7 (from jiwer)\n",
            "  Downloading rapidfuzz-3.14.0-cp312-cp312-manylinux_2_27_x86_64.manylinux_2_28_x86_64.whl.metadata (12 kB)\n",
            "Downloading jiwer-4.0.0-py3-none-any.whl (23 kB)\n",
            "Downloading rapidfuzz-3.14.0-cp312-cp312-manylinux_2_27_x86_64.manylinux_2_28_x86_64.whl (3.3 MB)\n",
            "\u001b[2K   \u001b[90m━━━━━━━━━━━━━━━━━━━━━━━━━━━━━━━━━━━━━━━━\u001b[0m \u001b[32m3.3/3.3 MB\u001b[0m \u001b[31m51.6 MB/s\u001b[0m eta \u001b[36m0:00:00\u001b[0m\n",
            "\u001b[?25hInstalling collected packages: rapidfuzz, jiwer\n",
            "Successfully installed jiwer-4.0.0 rapidfuzz-3.14.0\n"
          ]
        }
      ],
      "source": [
        "!pip install jiwer"
      ]
    },
    {
      "cell_type": "code",
      "execution_count": null,
      "metadata": {
        "id": "aZBlv2TKcyhB"
      },
      "outputs": [],
      "source": [
        "import os\n",
        "import time\n",
        "import random\n",
        "import numpy as np\n",
        "import pandas as pd\n",
        "import sentencepiece as spm\n",
        "import torch\n",
        "import torch.nn as nn\n",
        "import torch.optim as optim\n",
        "from torch.utils.data import Dataset, DataLoader\n",
        "from jiwer import wer, cer\n",
        "import matplotlib.pyplot as plt\n",
        "from sklearn.model_selection import train_test_split\n",
        "from tqdm import tqdm\n",
        "import pickle\n",
        "import re\n",
        "import math"
      ]
    },
    {
      "cell_type": "code",
      "execution_count": null,
      "metadata": {
        "id": "tvDXaXhRcyhC"
      },
      "outputs": [],
      "source": [
        "# Set random seeds for reproducibility\n",
        "SEED = 42\n",
        "random.seed(SEED)\n",
        "np.random.seed(SEED)\n",
        "torch.manual_seed(SEED)\n",
        "torch.cuda.manual_seed_all(SEED)"
      ]
    },
    {
      "cell_type": "code",
      "execution_count": null,
      "metadata": {
        "colab": {
          "base_uri": "https://localhost:8080/"
        },
        "id": "S-W0SzaUcyhD",
        "outputId": "c53d62bf-398a-4e55-b78d-e298c6b61712"
      },
      "outputs": [
        {
          "name": "stdout",
          "output_type": "stream",
          "text": [
            "Using device: cuda\n"
          ]
        }
      ],
      "source": [
        "# Check if GPU is available\n",
        "DEVICE = torch.device('cuda' if torch.cuda.is_available() else 'cpu')\n",
        "print(f'Using device: {DEVICE}')"
      ]
    },
    {
      "cell_type": "code",
      "execution_count": null,
      "metadata": {
        "colab": {
          "base_uri": "https://localhost:8080/"
        },
        "id": "Q4NjHO4xG_z7",
        "outputId": "6cbbee0e-3c1c-4029-a19c-23d85a3d5320"
      },
      "outputs": [
        {
          "name": "stdout",
          "output_type": "stream",
          "text": [
            "Mounted at /content/drive\n"
          ]
        }
      ],
      "source": [
        "# Create output directory\n",
        "from google.colab import drive\n",
        "drive.mount('/content/drive')\n",
        "\n",
        "OUTPUT_DIR = '/content/drive/MyDrive/output_transformer_subword/'\n",
        "os.makedirs(OUTPUT_DIR, exist_ok=True)"
      ]
    },
    {
      "cell_type": "code",
      "execution_count": null,
      "metadata": {
        "id": "4qJ9ndorcyhD"
      },
      "outputs": [],
      "source": [
        "# # Create output directory\n",
        "# OUTPUT_DIR = './output_transformer_subword/'\n",
        "# if not os.path.exists(OUTPUT_DIR):\n",
        "#     os.makedirs(OUTPUT_DIR)"
      ]
    },
    {
      "cell_type": "code",
      "execution_count": null,
      "metadata": {
        "id": "A4TNWq74cyhD"
      },
      "outputs": [],
      "source": [
        "# Paths for saving/loading\n",
        "DATASET_PATH = './exportStatements.xlsx'\n",
        "TOKENIZER_MODEL_PATH = os.path.join(OUTPUT_DIR, 'sentencepiece.model')\n",
        "TOKENIZER_VOCAB_PATH = os.path.join(OUTPUT_DIR, 'sentencepiece.vocab')\n",
        "PREPROCESSED_DATA_PATH = os.path.join(OUTPUT_DIR, 'preprocessed_data.pkl')\n",
        "BEST_MODEL_PATH = os.path.join(OUTPUT_DIR, 'best_transformer_model_subword.pt')\n",
        "BEST_CER_MODEL_PATH = os.path.join(OUTPUT_DIR, 'best_transformer_model_cer.pt')\n",
        "LOSS_PLOT_PATH = os.path.join(OUTPUT_DIR, 'transformer_loss_plot_subword.png')\n",
        "ER_PLOT_PATH = os.path.join(OUTPUT_DIR, 'er_plot_subword.png')"
      ]
    },
    {
      "cell_type": "code",
      "execution_count": null,
      "metadata": {
        "id": "rxHkqGzzcyhE"
      },
      "outputs": [],
      "source": [
        "# Load the dataset\n",
        "df = pd.read_excel(DATASET_PATH)"
      ]
    },
    {
      "cell_type": "code",
      "execution_count": null,
      "metadata": {
        "colab": {
          "base_uri": "https://localhost:8080/"
        },
        "id": "w19VkY-qcyhE",
        "outputId": "c4005e86-19b5-477d-a5c5-94b53be57e63"
      },
      "outputs": [
        {
          "name": "stdout",
          "output_type": "stream",
          "text": [
            "Missing values in 'inFormalForm': 0\n",
            "Missing values in 'FormalForm': 1\n",
            "Dropped 1 rows due to missing values.\n"
          ]
        }
      ],
      "source": [
        "# Check for missing values in 'inFormalForm' and 'FormalForm'\n",
        "print(\"Missing values in 'inFormalForm':\", df['inFormalForm'].isnull().sum())\n",
        "print(\"Missing values in 'FormalForm':\", df['FormalForm'].isnull().sum())\n",
        "\n",
        "# Drop rows with missing values in 'inFormalForm' and 'FormalForm'\n",
        "initial_length = len(df)\n",
        "df = df.dropna(subset=['inFormalForm', 'FormalForm']).reset_index(drop=True)\n",
        "final_length = len(df)\n",
        "\n",
        "df['inFormalForm'] = df['inFormalForm'].astype(str)\n",
        "df['FormalForm'] = df['FormalForm'].astype(str)\n",
        "\n",
        "print(f\"Dropped {initial_length - final_length} rows due to missing values.\")"
      ]
    },
    {
      "cell_type": "code",
      "execution_count": null,
      "metadata": {
        "id": "36mzou_rHfGq"
      },
      "outputs": [],
      "source": [
        "def clean_persian_text(text):\n",
        "    # 1. Keep only Persian letters, English letters, digits, whitespace, ZWNJ\n",
        "    text = re.sub(r\"[^\\u0600-\\u06FFa-zA-Z0-9\\u06F0-\\u06F9\\u0660-\\u0669\\u200c\\s]\", \" \", text)\n",
        "    # Remove leftover Persian punctuations explicitly (، ؛ ؟)\n",
        "    text = re.sub(r\"[،؛؟]\", \" \", text)\n",
        "    # Remove Arabic diacritics (harakat)\n",
        "    arabic_diacritics = r\"[\\u064B-\\u065F\\u0670\\u06D6-\\u06ED]\"\n",
        "    text = re.sub(arabic_diacritics, \"\", text)\n",
        "\n",
        "    # 2. Normalize Persian/Arabic digits to Western digits\n",
        "    persian_digits = \"۰۱۲۳۴۵۶۷۸۹\"\n",
        "    arabic_digits = \"٠١٢٣٤٥٦٧٨٩\"\n",
        "    for p, a, e in zip(persian_digits, arabic_digits, \"0123456789\"):\n",
        "        text = text.replace(p, e).replace(a, e)\n",
        "\n",
        "    # 3. Separate numbers stuck to Persian/English letters\n",
        "    text = re.sub(r\"(\\d+)(?=[\\u0600-\\u06FFa-zA-Z])\", r\"\\1 \", text)  # digit before letter\n",
        "    text = re.sub(r\"([\\u0600-\\u06FFa-zA-Z])(?=\\d+)\", r\"\\1 \", text)  # letter before digit\n",
        "\n",
        "    # 4. Remove underscores\n",
        "    text = re.sub(r\"_+\", \"\", text)\n",
        "\n",
        "    # 5. Normalize spaces\n",
        "    text = re.sub(r\"\\s+\", \" \", text).strip()\n",
        "\n",
        "    return text"
      ]
    },
    {
      "cell_type": "code",
      "execution_count": null,
      "metadata": {
        "id": "2mkVI6AOHgaS"
      },
      "outputs": [],
      "source": [
        "df['inFormalForm'] = df['inFormalForm'].apply(clean_persian_text)\n",
        "df['FormalForm'] = df['FormalForm'].apply(clean_persian_text)"
      ]
    },
    {
      "cell_type": "code",
      "execution_count": null,
      "metadata": {
        "id": "DrffvyeucyhE"
      },
      "outputs": [],
      "source": [
        "# Split data into training, validation, and test sets (80%, 10%, 10%)\n",
        "train_df, temp_df = train_test_split(df, test_size=0.2, random_state=SEED)\n",
        "val_df, test_df = train_test_split(temp_df, test_size=0.5, random_state=SEED)"
      ]
    },
    {
      "cell_type": "code",
      "execution_count": null,
      "metadata": {
        "colab": {
          "base_uri": "https://localhost:8080/"
        },
        "id": "dFqMKMnicyhF",
        "outputId": "230db7f7-3525-4da2-bf98-b5d8aa8d0d49"
      },
      "outputs": [
        {
          "name": "stdout",
          "output_type": "stream",
          "text": [
            "Training SentencePiece tokenizer...\n",
            "Tokenizer trained and saved.\n"
          ]
        }
      ],
      "source": [
        "# Check if tokenizer model exists\n",
        "if not os.path.exists(TOKENIZER_MODEL_PATH):\n",
        "    print('Training SentencePiece tokenizer...')\n",
        "    # Save combined sentences for tokenizer training\n",
        "    all_sentences_path = os.path.join(OUTPUT_DIR, 'all_sentences.txt')\n",
        "    with open(all_sentences_path, 'w', encoding='utf-8') as f:\n",
        "        for sent in pd.concat([train_df['inFormalForm'], train_df['FormalForm']]):\n",
        "            f.write(sent.strip() + '\\n')\n",
        "\n",
        "    # Adjusted vocab_size to 26000\n",
        "    spm.SentencePieceTrainer.Train(\n",
        "        input=all_sentences_path,\n",
        "        model_prefix=os.path.join(OUTPUT_DIR, 'sentencepiece'),\n",
        "        vocab_size=26000,\n",
        "        model_type='unigram',\n",
        "        character_coverage=1.0,\n",
        "        pad_id=0,      # ID for <pad>\n",
        "        unk_id=1,      # ID for <unk> (reserved, do not redefine)\n",
        "        bos_id=2,      # ID for <s> (reserved)\n",
        "        eos_id=3,      # ID for </s> (reserved)\n",
        "        user_defined_symbols=['<pad>']  # Only include <pad> as user-defined symbol\n",
        "    )\n",
        "    print('Tokenizer trained and saved.')\n",
        "else:\n",
        "    print('Loading existing tokenizer.')"
      ]
    },
    {
      "cell_type": "code",
      "execution_count": null,
      "metadata": {
        "colab": {
          "base_uri": "https://localhost:8080/"
        },
        "id": "TMkrv0UFcyhF",
        "outputId": "5f0f757a-cd00-4574-d348-953780230f62"
      },
      "outputs": [
        {
          "name": "stdout",
          "output_type": "stream",
          "text": [
            "Vocabulary size: 26000\n"
          ]
        },
        {
          "data": {
            "text/plain": [
              "(0, 1, 2, 3)"
            ]
          },
          "execution_count": 14,
          "metadata": {},
          "output_type": "execute_result"
        }
      ],
      "source": [
        "# Load the trained tokenizer\n",
        "sp = spm.SentencePieceProcessor()\n",
        "sp.Load(TOKENIZER_MODEL_PATH)\n",
        "print(f'Vocabulary size: {sp.get_piece_size()}')\n",
        "\n",
        "# Special token IDs\n",
        "PAD_IDX = sp.piece_to_id('<pad>')   # Should be 0\n",
        "UNK_IDX = sp.piece_to_id('<unk>')   # Should be 1\n",
        "BOS_IDX = sp.piece_to_id('<s>')     # Should be 2\n",
        "EOS_IDX = sp.piece_to_id('</s>')    # Should be 3\n",
        "\n",
        "PAD_IDX, UNK_IDX, BOS_IDX, EOS_IDX"
      ]
    },
    {
      "cell_type": "code",
      "execution_count": null,
      "metadata": {
        "colab": {
          "base_uri": "https://localhost:8080/"
        },
        "id": "0nKMtfkPcyhG",
        "outputId": "fa09edfe-c23a-4e1d-dc8b-59b8f7ee589a"
      },
      "outputs": [
        {
          "data": {
            "text/plain": [
              "96"
            ]
          },
          "execution_count": 15,
          "metadata": {},
          "output_type": "execute_result"
        }
      ],
      "source": [
        "# Maximum sequence length (based on dataset)\n",
        "def get_max_len(df_list):\n",
        "    max_len = 0\n",
        "    for df in df_list:\n",
        "        lengths_src = df['inFormalForm'].apply(lambda x: len(sp.EncodeAsIds(x)) + 2)  # +2 for BOS and EOS\n",
        "        lengths_trg = df['FormalForm'].apply(lambda x: len(sp.EncodeAsIds(x)) + 2)\n",
        "        max_len = max(max_len, lengths_src.max(), lengths_trg.max())\n",
        "    return max_len\n",
        "\n",
        "MAX_LEN = get_max_len([train_df, val_df, test_df])\n",
        "\n",
        "MAX_LEN"
      ]
    },
    {
      "cell_type": "code",
      "execution_count": null,
      "metadata": {
        "colab": {
          "base_uri": "https://localhost:8080/"
        },
        "id": "YWnbX2t_cyhG",
        "outputId": "a3dc810d-91e7-4424-90b6-1a9768c97b58"
      },
      "outputs": [
        {
          "name": "stdout",
          "output_type": "stream",
          "text": [
            "Preprocessing data...\n",
            "Preprocessed data saved.\n"
          ]
        }
      ],
      "source": [
        "# Check if preprocessed data exists\n",
        "if not os.path.exists(PREPROCESSED_DATA_PATH):\n",
        "    print('Preprocessing data...')\n",
        "    # Preprocess and tokenize all sentences\n",
        "    def preprocess_data(df, sp, max_len=MAX_LEN):\n",
        "        src_texts = df['inFormalForm'].tolist()\n",
        "        trg_texts = df['FormalForm'].tolist()\n",
        "        src_sequences = []\n",
        "        trg_sequences = []\n",
        "        for src, trg in zip(src_texts, trg_texts):\n",
        "            src_ids = [BOS_IDX] + sp.EncodeAsIds(src) + [EOS_IDX]\n",
        "            trg_ids = [BOS_IDX] + sp.EncodeAsIds(trg) + [EOS_IDX]\n",
        "            # Pad or truncate sequences\n",
        "            src_ids = src_ids[:max_len] + [PAD_IDX] * max(0, max_len - len(src_ids))\n",
        "            trg_ids = trg_ids[:max_len] + [PAD_IDX] * max(0, max_len - len(trg_ids))\n",
        "            src_sequences.append(src_ids)\n",
        "            trg_sequences.append(trg_ids)\n",
        "        return src_sequences, trg_sequences\n",
        "\n",
        "    # Tokenize and preprocess data\n",
        "    train_src, train_trg = preprocess_data(train_df, sp)\n",
        "    val_src, val_trg = preprocess_data(val_df, sp)\n",
        "    test_src, test_trg = preprocess_data(test_df, sp)\n",
        "\n",
        "    # Save preprocessed data\n",
        "    with open(PREPROCESSED_DATA_PATH, 'wb') as f:\n",
        "        pickle.dump({\n",
        "            'train_src': train_src,\n",
        "            'train_trg': train_trg,\n",
        "            'val_src': val_src,\n",
        "            'val_trg': val_trg,\n",
        "            'test_src': test_src,\n",
        "            'test_trg': test_trg,\n",
        "            'MAX_LEN': MAX_LEN\n",
        "        }, f)\n",
        "    print('Preprocessed data saved.')\n",
        "else:\n",
        "    print('Loading preprocessed data...')\n",
        "    # Load preprocessed data\n",
        "    with open(PREPROCESSED_DATA_PATH, 'rb') as f:\n",
        "        data = pickle.load(f)\n",
        "        train_src = data['train_src']\n",
        "        train_trg = data['train_trg']\n",
        "        val_src = data['val_src']\n",
        "        val_trg = data['val_trg']\n",
        "        test_src = data['test_src']\n",
        "        test_trg = data['test_trg']\n",
        "        MAX_LEN = data['MAX_LEN']"
      ]
    },
    {
      "cell_type": "code",
      "execution_count": null,
      "metadata": {
        "id": "zqweiaCXcyhG"
      },
      "outputs": [],
      "source": [
        "# Prepare datasets\n",
        "class TranslationDataset(Dataset):\n",
        "    def __init__(self, src_sequences, trg_sequences):\n",
        "        self.src_sequences = src_sequences\n",
        "        self.trg_sequences = trg_sequences\n",
        "\n",
        "    def __len__(self):\n",
        "        return len(self.src_sequences)\n",
        "\n",
        "    def __getitem__(self, idx):\n",
        "        src_ids = torch.tensor(self.src_sequences[idx], dtype=torch.long)\n",
        "        trg_ids = torch.tensor(self.trg_sequences[idx], dtype=torch.long)\n",
        "        return src_ids, trg_ids"
      ]
    },
    {
      "cell_type": "code",
      "execution_count": null,
      "metadata": {
        "id": "ek1YpSwecyhG"
      },
      "outputs": [],
      "source": [
        "# Collate function to create masks and pad sequences\n",
        "def collate_fn(batch, pad_idx):\n",
        "    src_batch, trg_batch = zip(*batch)\n",
        "    src_batch = torch.nn.utils.rnn.pad_sequence(src_batch, padding_value=pad_idx, batch_first=True)\n",
        "    trg_batch = torch.nn.utils.rnn.pad_sequence(trg_batch, padding_value=pad_idx, batch_first=True)\n",
        "    return src_batch, trg_batch"
      ]
    },
    {
      "cell_type": "code",
      "execution_count": null,
      "metadata": {
        "id": "920aHOdKcyhH"
      },
      "outputs": [],
      "source": [
        "# Create datasets and dataloaders\n",
        "batch_size = 32\n",
        "\n",
        "train_dataset = TranslationDataset(train_src, train_trg)\n",
        "val_dataset = TranslationDataset(val_src, val_trg)\n",
        "test_dataset = TranslationDataset(test_src, test_trg)\n",
        "\n",
        "train_loader = DataLoader(train_dataset, batch_size=batch_size, shuffle=True, collate_fn=lambda x: collate_fn(x, PAD_IDX))\n",
        "val_loader = DataLoader(val_dataset, batch_size=batch_size, collate_fn=lambda x: collate_fn(x, PAD_IDX))\n",
        "test_loader = DataLoader(test_dataset, batch_size=batch_size, collate_fn=lambda x: collate_fn(x, PAD_IDX))"
      ]
    },
    {
      "cell_type": "code",
      "execution_count": null,
      "metadata": {
        "id": "5BB_X2KOcyhH"
      },
      "outputs": [],
      "source": [
        "# Function to generate subsequent masks for target\n",
        "def generate_square_subsequent_mask(sz):\n",
        "    mask = torch.triu(torch.ones((sz, sz), device=DEVICE), diagonal=1).bool()\n",
        "    return mask.float().masked_fill(mask, float('-inf'))"
      ]
    },
    {
      "cell_type": "code",
      "execution_count": null,
      "metadata": {
        "id": "5w0K-mqkcyhH"
      },
      "outputs": [],
      "source": [
        "# Function to create padding masks\n",
        "def create_mask(src, tgt, pad_idx):\n",
        "    src_seq_len = src.size(1)\n",
        "    tgt_seq_len = tgt.size(1)\n",
        "\n",
        "    src_mask = torch.zeros((src_seq_len, src_seq_len), device=DEVICE).float()\n",
        "    tgt_mask = generate_square_subsequent_mask(tgt_seq_len)\n",
        "\n",
        "    src_padding_mask = (src == pad_idx)\n",
        "    tgt_padding_mask = (tgt == pad_idx)\n",
        "\n",
        "    return src_mask, tgt_mask, src_padding_mask, tgt_padding_mask"
      ]
    },
    {
      "cell_type": "code",
      "execution_count": null,
      "metadata": {
        "id": "uCtSOh9bcyhH"
      },
      "outputs": [],
      "source": [
        "# Transformer Model Definition\n",
        "class Seq2SeqTransformer(nn.Module):\n",
        "    def __init__(self, num_encoder_layers, num_decoder_layers, emb_size,\n",
        "                 nhead, src_vocab_size, tgt_vocab_size, dim_feedforward=512,\n",
        "                 dropout=0.1, max_len=MAX_LEN, pad_idx=PAD_IDX):\n",
        "        super(Seq2SeqTransformer, self).__init__()\n",
        "        self.src_vocab_size = src_vocab_size\n",
        "        self.tgt_vocab_size = tgt_vocab_size\n",
        "        self.emb_size = emb_size\n",
        "        self.pad_idx = pad_idx\n",
        "        self.max_len = max_len\n",
        "\n",
        "        # Token embedding layers\n",
        "        self.src_embedding = nn.Embedding(src_vocab_size, emb_size, padding_idx=pad_idx)\n",
        "        self.tgt_embedding = nn.Embedding(tgt_vocab_size, emb_size, padding_idx=pad_idx)\n",
        "\n",
        "        # Learned positional embeddings\n",
        "        self.src_pos_embedding = nn.Embedding(max_len, emb_size)\n",
        "        self.tgt_pos_embedding = nn.Embedding(max_len, emb_size)\n",
        "\n",
        "        # Transformer\n",
        "        self.transformer = nn.Transformer(d_model=emb_size, nhead=nhead,\n",
        "                                          num_encoder_layers=num_encoder_layers,\n",
        "                                          num_decoder_layers=num_decoder_layers,\n",
        "                                          dim_feedforward=dim_feedforward,\n",
        "                                          dropout=dropout)\n",
        "\n",
        "        # Output layer\n",
        "        self.generator = nn.Linear(emb_size, tgt_vocab_size)\n",
        "\n",
        "    def forward(self, src, tgt, src_mask, tgt_mask, src_padding_mask, tgt_padding_mask, memory_key_padding_mask):\n",
        "        # src and tgt shape: [batch_size, seq_len]\n",
        "        src_seq_len = src.size(1)\n",
        "        tgt_seq_len = tgt.size(1)\n",
        "        src_positions = torch.arange(0, src_seq_len, device=src.device).unsqueeze(0).expand(src.size(0), -1)\n",
        "        tgt_positions = torch.arange(0, tgt_seq_len, device=tgt.device).unsqueeze(0).expand(tgt.size(0), -1)\n",
        "\n",
        "        # Embed and encode source\n",
        "        src_tok = self.src_embedding(src) * math.sqrt(self.emb_size)\n",
        "        src_emb = src_tok + self.src_pos_embedding(src_positions)\n",
        "        \n",
        "        # Embed and encode target\n",
        "        tgt_tok = self.tgt_embedding(tgt) * math.sqrt(self.emb_size)\n",
        "        tgt_emb = tgt_tok + self.tgt_pos_embedding(tgt_positions)\n",
        "\n",
        "        # Transformer\n",
        "        output = self.transformer(\n",
        "            src_emb.transpose(0, 1), tgt_emb.transpose(0, 1),\n",
        "            src_mask=src_mask, tgt_mask=tgt_mask, memory_mask=None,\n",
        "            src_key_padding_mask=src_padding_mask,\n",
        "            tgt_key_padding_mask=tgt_padding_mask,\n",
        "            memory_key_padding_mask=memory_key_padding_mask\n",
        "        )\n",
        "\n",
        "        output = output.transpose(0,1)\n",
        "        logits = self.generator(output)\n",
        "        return logits\n",
        "\n",
        "    def encode(self, src, src_mask, src_key_padding_mask=None):\n",
        "        src_seq_len = src.size(1)\n",
        "        src_positions = torch.arange(0, src_seq_len, device=src.device).unsqueeze(0).expand(src.size(0), -1)\n",
        "        src_tok = self.src_embedding(src) * math.sqrt(self.emb_size)\n",
        "        src_emb = src_tok + self.src_pos_embedding(src_positions)\n",
        "        return self.transformer.encoder(\n",
        "            src_emb.transpose(0, 1),\n",
        "            mask=src_mask,\n",
        "            src_key_padding_mask=src_key_padding_mask\n",
        "        )\n",
        "\n",
        "    def decode(self, tgt, memory, tgt_mask, tgt_key_padding_mask=None, memory_key_padding_mask=None):\n",
        "        tgt_seq_len = tgt.size(1)\n",
        "        tgt_positions = torch.arange(0, tgt_seq_len, device=tgt.device).unsqueeze(0).expand(tgt.size(0), -1)\n",
        "        tgt_tok = self.tgt_embedding(tgt) * math.sqrt(self.emb_size)\n",
        "        tgt_emb = tgt_tok + self.tgt_pos_embedding(tgt_positions)\n",
        "        return self.transformer.decoder(\n",
        "            tgt_emb.transpose(0, 1), memory,\n",
        "            tgt_mask=tgt_mask,\n",
        "            tgt_key_padding_mask=tgt_key_padding_mask,\n",
        "            memory_key_padding_mask=memory_key_padding_mask\n",
        "        )"
      ]
    },
    {
      "cell_type": "code",
      "execution_count": null,
      "metadata": {
        "colab": {
          "base_uri": "https://localhost:8080/"
        },
        "id": "qIj7HidwcyhH",
        "outputId": "b8afede8-c699-4956-f715-a89927b6987b"
      },
      "outputs": [
        {
          "name": "stderr",
          "output_type": "stream",
          "text": [
            "/usr/local/lib/python3.12/dist-packages/torch/nn/modules/transformer.py:392: UserWarning: enable_nested_tensor is True, but self.use_nested_tensor is False because encoder_layer.self_attn.batch_first was not True(use batch_first for better inference performance)\n",
            "  warnings.warn(\n"
          ]
        }
      ],
      "source": [
        "# Initialize model parameters\n",
        "VOCAB_SIZE = sp.get_piece_size()\n",
        "SRC_VOCAB_SIZE = VOCAB_SIZE\n",
        "TGT_VOCAB_SIZE = VOCAB_SIZE\n",
        "\n",
        "# Hyperparameters\n",
        "num_encoder_layers = 3\n",
        "num_decoder_layers = 3\n",
        "emb_size = 256\n",
        "nhead = 8\n",
        "dim_feedforward = 256\n",
        "dropout = 0.1\n",
        "\n",
        "\n",
        "model = Seq2SeqTransformer(num_encoder_layers, num_decoder_layers, emb_size,\n",
        "                           nhead, SRC_VOCAB_SIZE, TGT_VOCAB_SIZE,\n",
        "                           dim_feedforward, dropout, MAX_LEN, PAD_IDX).to(DEVICE)"
      ]
    },
    {
      "cell_type": "code",
      "execution_count": null,
      "metadata": {
        "id": "dtf0TlUAcyhI"
      },
      "outputs": [],
      "source": [
        "# Initialize optimizer and loss function\n",
        "optimizer = optim.Adam(model.parameters(), lr=0.0005, weight_decay=1e-5)\n",
        "criterion = nn.CrossEntropyLoss(ignore_index=PAD_IDX)"
      ]
    },
    {
      "cell_type": "code",
      "execution_count": null,
      "metadata": {
        "id": "hJnJkndQq9lf"
      },
      "outputs": [],
      "source": [
        "def evaluate_wer(model, dataloader, sp, max_batches=None):\n",
        "    model.eval()\n",
        "    cer_scores = []\n",
        "    wer_scores = []\n",
        "    batches_processed = 0\n",
        "\n",
        "    with torch.no_grad():\n",
        "        for src, trg in dataloader:\n",
        "            src = src.to(DEVICE)\n",
        "            trg = trg.to(DEVICE)\n",
        "            device = src.device\n",
        "\n",
        "            src_mask, tgt_mask, src_padding_mask, tgt_padding_mask = create_mask(src, trg[:, :-1], PAD_IDX)\n",
        "\n",
        "            # encode\n",
        "            memory = model.encode(src, src_mask, src_key_padding_mask=src_padding_mask)\n",
        "\n",
        "            # start with BOS\n",
        "            ys = torch.full((src.size(0), 1), BOS_IDX, dtype=torch.long, device=device)\n",
        "\n",
        "            for _ in range(MAX_LEN - 1):\n",
        "                tgt_mask = generate_square_subsequent_mask(ys.size(1)).to(device)\n",
        "                out = model.decode(\n",
        "                    ys, memory, tgt_mask,\n",
        "                    tgt_key_padding_mask=None,\n",
        "                    memory_key_padding_mask=src_padding_mask\n",
        "                )  # shape: (tgt_len, batch, emb)\n",
        "                out = out.transpose(0, 1)                       # (batch, tgt_len, emb)\n",
        "                logits = model.generator(out[:, -1, :])         # (batch, vocab)\n",
        "                next_token = logits.argmax(dim=-1, keepdim=True)  # (batch, 1)\n",
        "                ys = torch.cat([ys, next_token], dim=1)\n",
        "                if (next_token.squeeze(1) == EOS_IDX).all():\n",
        "                    break\n",
        "\n",
        "            preds = ys\n",
        "\n",
        "            # strip BOS for text\n",
        "            pred_ids = preds[:, 1:].tolist()\n",
        "            trg_out = trg[:, 1:].tolist()  # Remove first token (<s>) for target\n",
        "\n",
        "            for pred_ids, trg_ids in zip(pred_ids, trg_out):\n",
        "                # Remove PAD and special tokens\n",
        "                pred_ids = [idx for idx in pred_ids if idx not in [PAD_IDX, EOS_IDX, BOS_IDX]]\n",
        "                trg_ids = [idx for idx in trg_ids if idx not in [PAD_IDX, EOS_IDX, BOS_IDX]]\n",
        "\n",
        "                pred_sentence = sp.DecodeIds(pred_ids)\n",
        "                trg_sentence = sp.DecodeIds(trg_ids)\n",
        "\n",
        "                cer_score = cer(trg_sentence, pred_sentence)\n",
        "                wer_score = wer(trg_sentence, pred_sentence)\n",
        "\n",
        "                cer_scores.append(cer_score)\n",
        "                wer_scores.append(wer_score)\n",
        "\n",
        "            batches_processed += 1\n",
        "            if max_batches and batches_processed >= max_batches:\n",
        "                break\n",
        "\n",
        "    avg_cer = float(np.mean(cer_scores))\n",
        "    avg_wer = float(np.mean(wer_scores))\n",
        "    return avg_cer, avg_wer"
      ]
    },
    {
      "cell_type": "code",
      "execution_count": null,
      "metadata": {
        "colab": {
          "base_uri": "https://localhost:8080/"
        },
        "id": "TiPpdobmcyhI",
        "outputId": "44ed4354-ade0-4689-ee28-ef75835d93ea"
      },
      "outputs": [
        {
          "name": "stderr",
          "output_type": "stream",
          "text": [
            "Training Epoch 1/100:   0%|          | 0/1251 [00:00<?, ?it/s]/usr/local/lib/python3.12/dist-packages/torch/nn/functional.py:6041: UserWarning: Support for mismatched src_key_padding_mask and mask is deprecated. Use same type for both instead.\n",
            "  warnings.warn(\n",
            "/usr/local/lib/python3.12/dist-packages/torch/nn/functional.py:6041: UserWarning: Support for mismatched key_padding_mask and attn_mask is deprecated. Use same type for both instead.\n",
            "  warnings.warn(\n",
            "Training Epoch 1/100: 100%|██████████| 1251/1251 [01:58<00:00, 10.58it/s]\n",
            "Validation Epoch 1/100: 100%|██████████| 157/157 [00:04<00:00, 32.86it/s]\n"
          ]
        },
        {
          "name": "stdout",
          "output_type": "stream",
          "text": [
            "\tTrain Loss: 4.492\n",
            "\tValid Loss: 4.152\n",
            "\tValid WER: 1.5641\n",
            "\tValid CER: 1.2191\n",
            "Validation loss improved. Model saved to /content/drive/MyDrive/output_transformer_subword/best_transformer_model_subword.pt.\n",
            "Validation CER improved. Model saved to /content/drive/MyDrive/output_transformer_subword/best_transformer_model_cer.pt.\n",
            "Epoch: 01 | Time: 3m 13s\n"
          ]
        },
        {
          "name": "stderr",
          "output_type": "stream",
          "text": [
            "Training Epoch 2/100: 100%|██████████| 1251/1251 [01:59<00:00, 10.49it/s]\n",
            "Validation Epoch 2/100: 100%|██████████| 157/157 [00:04<00:00, 31.64it/s]\n"
          ]
        },
        {
          "name": "stdout",
          "output_type": "stream",
          "text": [
            "\tTrain Loss: 3.769\n",
            "\tValid Loss: 3.629\n",
            "\tValid WER: 1.2265\n",
            "\tValid CER: 0.9679\n",
            "Validation loss improved. Model saved to /content/drive/MyDrive/output_transformer_subword/best_transformer_model_subword.pt.\n",
            "Validation CER improved. Model saved to /content/drive/MyDrive/output_transformer_subword/best_transformer_model_cer.pt.\n",
            "Epoch: 02 | Time: 3m 5s\n"
          ]
        },
        {
          "name": "stderr",
          "output_type": "stream",
          "text": [
            "Training Epoch 3/100: 100%|██████████| 1251/1251 [01:58<00:00, 10.56it/s]\n",
            "Validation Epoch 3/100: 100%|██████████| 157/157 [00:04<00:00, 32.82it/s]\n"
          ]
        },
        {
          "name": "stdout",
          "output_type": "stream",
          "text": [
            "\tTrain Loss: 3.155\n",
            "\tValid Loss: 3.206\n",
            "\tValid WER: 0.9680\n",
            "\tValid CER: 0.7713\n",
            "Validation loss improved. Model saved to /content/drive/MyDrive/output_transformer_subword/best_transformer_model_subword.pt.\n",
            "Validation CER improved. Model saved to /content/drive/MyDrive/output_transformer_subword/best_transformer_model_cer.pt.\n",
            "Epoch: 03 | Time: 2m 42s\n"
          ]
        },
        {
          "name": "stderr",
          "output_type": "stream",
          "text": [
            "Training Epoch 4/100: 100%|██████████| 1251/1251 [01:58<00:00, 10.53it/s]\n",
            "Validation Epoch 4/100: 100%|██████████| 157/157 [00:04<00:00, 32.27it/s]\n"
          ]
        },
        {
          "name": "stdout",
          "output_type": "stream",
          "text": [
            "\tTrain Loss: 2.639\n",
            "\tValid Loss: 2.891\n",
            "\tValid WER: 1.1002\n",
            "\tValid CER: 0.8981\n",
            "Validation loss improved. Model saved to /content/drive/MyDrive/output_transformer_subword/best_transformer_model_subword.pt.\n",
            "Epoch: 04 | Time: 2m 49s\n"
          ]
        },
        {
          "name": "stderr",
          "output_type": "stream",
          "text": [
            "Training Epoch 5/100: 100%|██████████| 1251/1251 [01:58<00:00, 10.55it/s]\n",
            "Validation Epoch 5/100: 100%|██████████| 157/157 [00:04<00:00, 32.15it/s]\n"
          ]
        },
        {
          "name": "stdout",
          "output_type": "stream",
          "text": [
            "\tTrain Loss: 2.226\n",
            "\tValid Loss: 2.645\n",
            "\tValid WER: 1.3169\n",
            "\tValid CER: 1.1067\n",
            "Validation loss improved. Model saved to /content/drive/MyDrive/output_transformer_subword/best_transformer_model_subword.pt.\n",
            "Epoch: 05 | Time: 3m 4s\n"
          ]
        },
        {
          "name": "stderr",
          "output_type": "stream",
          "text": [
            "Training Epoch 6/100: 100%|██████████| 1251/1251 [01:58<00:00, 10.53it/s]\n",
            "Validation Epoch 6/100: 100%|██████████| 157/157 [00:04<00:00, 32.43it/s]\n"
          ]
        },
        {
          "name": "stdout",
          "output_type": "stream",
          "text": [
            "\tTrain Loss: 1.897\n",
            "\tValid Loss: 2.512\n",
            "\tValid WER: 1.0265\n",
            "\tValid CER: 0.8374\n",
            "Validation loss improved. Model saved to /content/drive/MyDrive/output_transformer_subword/best_transformer_model_subword.pt.\n",
            "Epoch: 06 | Time: 2m 50s\n"
          ]
        },
        {
          "name": "stderr",
          "output_type": "stream",
          "text": [
            "Training Epoch 7/100: 100%|██████████| 1251/1251 [01:58<00:00, 10.53it/s]\n",
            "Validation Epoch 7/100: 100%|██████████| 157/157 [00:04<00:00, 32.34it/s]\n"
          ]
        },
        {
          "name": "stdout",
          "output_type": "stream",
          "text": [
            "\tTrain Loss: 1.641\n",
            "\tValid Loss: 2.382\n",
            "\tValid WER: 1.3075\n",
            "\tValid CER: 1.1226\n",
            "Validation loss improved. Model saved to /content/drive/MyDrive/output_transformer_subword/best_transformer_model_subword.pt.\n",
            "Epoch: 07 | Time: 2m 58s\n"
          ]
        },
        {
          "name": "stderr",
          "output_type": "stream",
          "text": [
            "Training Epoch 8/100: 100%|██████████| 1251/1251 [01:58<00:00, 10.56it/s]\n",
            "Validation Epoch 8/100: 100%|██████████| 157/157 [00:04<00:00, 32.30it/s]\n"
          ]
        },
        {
          "name": "stdout",
          "output_type": "stream",
          "text": [
            "\tTrain Loss: 1.447\n",
            "\tValid Loss: 2.331\n",
            "\tValid WER: 0.8671\n",
            "\tValid CER: 0.7040\n",
            "Validation loss improved. Model saved to /content/drive/MyDrive/output_transformer_subword/best_transformer_model_subword.pt.\n",
            "Validation CER improved. Model saved to /content/drive/MyDrive/output_transformer_subword/best_transformer_model_cer.pt.\n",
            "Epoch: 08 | Time: 2m 38s\n"
          ]
        },
        {
          "name": "stderr",
          "output_type": "stream",
          "text": [
            "Training Epoch 9/100: 100%|██████████| 1251/1251 [01:58<00:00, 10.54it/s]\n",
            "Validation Epoch 9/100: 100%|██████████| 157/157 [00:04<00:00, 32.19it/s]\n"
          ]
        },
        {
          "name": "stdout",
          "output_type": "stream",
          "text": [
            "\tTrain Loss: 1.287\n",
            "\tValid Loss: 2.242\n",
            "\tValid WER: 0.9387\n",
            "\tValid CER: 0.7780\n",
            "Validation loss improved. Model saved to /content/drive/MyDrive/output_transformer_subword/best_transformer_model_subword.pt.\n",
            "Epoch: 09 | Time: 2m 46s\n"
          ]
        },
        {
          "name": "stderr",
          "output_type": "stream",
          "text": [
            "Training Epoch 10/100: 100%|██████████| 1251/1251 [01:58<00:00, 10.56it/s]\n",
            "Validation Epoch 10/100: 100%|██████████| 157/157 [00:04<00:00, 32.51it/s]\n"
          ]
        },
        {
          "name": "stdout",
          "output_type": "stream",
          "text": [
            "\tTrain Loss: 1.161\n",
            "\tValid Loss: 2.169\n",
            "\tValid WER: 1.0124\n",
            "\tValid CER: 0.8746\n",
            "Validation loss improved. Model saved to /content/drive/MyDrive/output_transformer_subword/best_transformer_model_subword.pt.\n",
            "Epoch: 10 | Time: 2m 49s\n"
          ]
        },
        {
          "name": "stderr",
          "output_type": "stream",
          "text": [
            "Training Epoch 11/100: 100%|██████████| 1251/1251 [01:58<00:00, 10.55it/s]\n",
            "Validation Epoch 11/100: 100%|██████████| 157/157 [00:04<00:00, 32.41it/s]\n"
          ]
        },
        {
          "name": "stdout",
          "output_type": "stream",
          "text": [
            "\tTrain Loss: 1.053\n",
            "\tValid Loss: 2.141\n",
            "\tValid WER: 1.3112\n",
            "\tValid CER: 1.1382\n",
            "Validation loss improved. Model saved to /content/drive/MyDrive/output_transformer_subword/best_transformer_model_subword.pt.\n",
            "Epoch: 11 | Time: 3m 4s\n"
          ]
        },
        {
          "name": "stderr",
          "output_type": "stream",
          "text": [
            "Training Epoch 12/100: 100%|██████████| 1251/1251 [01:58<00:00, 10.57it/s]\n",
            "Validation Epoch 12/100: 100%|██████████| 157/157 [00:04<00:00, 32.30it/s]\n"
          ]
        },
        {
          "name": "stdout",
          "output_type": "stream",
          "text": [
            "\tTrain Loss: 0.959\n",
            "\tValid Loss: 2.140\n",
            "\tValid WER: 1.0643\n",
            "\tValid CER: 0.9050\n",
            "Validation loss improved. Model saved to /content/drive/MyDrive/output_transformer_subword/best_transformer_model_subword.pt.\n",
            "Epoch: 12 | Time: 2m 47s\n"
          ]
        },
        {
          "name": "stderr",
          "output_type": "stream",
          "text": [
            "Training Epoch 13/100: 100%|██████████| 1251/1251 [01:58<00:00, 10.57it/s]\n",
            "Validation Epoch 13/100: 100%|██████████| 157/157 [00:04<00:00, 32.65it/s]\n"
          ]
        },
        {
          "name": "stdout",
          "output_type": "stream",
          "text": [
            "\tTrain Loss: 0.883\n",
            "\tValid Loss: 2.093\n",
            "\tValid WER: 0.7394\n",
            "\tValid CER: 0.6104\n",
            "Validation loss improved. Model saved to /content/drive/MyDrive/output_transformer_subword/best_transformer_model_subword.pt.\n",
            "Validation CER improved. Model saved to /content/drive/MyDrive/output_transformer_subword/best_transformer_model_cer.pt.\n",
            "Epoch: 13 | Time: 2m 38s\n"
          ]
        },
        {
          "name": "stderr",
          "output_type": "stream",
          "text": [
            "Training Epoch 14/100: 100%|██████████| 1251/1251 [01:58<00:00, 10.51it/s]\n",
            "Validation Epoch 14/100: 100%|██████████| 157/157 [00:04<00:00, 32.34it/s]\n"
          ]
        },
        {
          "name": "stdout",
          "output_type": "stream",
          "text": [
            "\tTrain Loss: 0.812\n",
            "\tValid Loss: 2.084\n",
            "\tValid WER: 0.7179\n",
            "\tValid CER: 0.5809\n",
            "Validation loss improved. Model saved to /content/drive/MyDrive/output_transformer_subword/best_transformer_model_subword.pt.\n",
            "Validation CER improved. Model saved to /content/drive/MyDrive/output_transformer_subword/best_transformer_model_cer.pt.\n",
            "Epoch: 14 | Time: 2m 40s\n"
          ]
        },
        {
          "name": "stderr",
          "output_type": "stream",
          "text": [
            "Training Epoch 15/100: 100%|██████████| 1251/1251 [01:58<00:00, 10.52it/s]\n",
            "Validation Epoch 15/100: 100%|██████████| 157/157 [00:04<00:00, 32.36it/s]\n"
          ]
        },
        {
          "name": "stdout",
          "output_type": "stream",
          "text": [
            "\tTrain Loss: 0.754\n",
            "\tValid Loss: 2.080\n",
            "\tValid WER: 0.7161\n",
            "\tValid CER: 0.5866\n",
            "Validation loss improved. Model saved to /content/drive/MyDrive/output_transformer_subword/best_transformer_model_subword.pt.\n",
            "Epoch: 15 | Time: 2m 37s\n"
          ]
        },
        {
          "name": "stderr",
          "output_type": "stream",
          "text": [
            "Training Epoch 16/100: 100%|██████████| 1251/1251 [01:58<00:00, 10.55it/s]\n",
            "Validation Epoch 16/100: 100%|██████████| 157/157 [00:04<00:00, 32.29it/s]\n"
          ]
        },
        {
          "name": "stdout",
          "output_type": "stream",
          "text": [
            "\tTrain Loss: 0.696\n",
            "\tValid Loss: 2.051\n",
            "\tValid WER: 0.7859\n",
            "\tValid CER: 0.6450\n",
            "Validation loss improved. Model saved to /content/drive/MyDrive/output_transformer_subword/best_transformer_model_subword.pt.\n",
            "Epoch: 16 | Time: 2m 35s\n"
          ]
        },
        {
          "name": "stderr",
          "output_type": "stream",
          "text": [
            "Training Epoch 17/100: 100%|██████████| 1251/1251 [01:58<00:00, 10.57it/s]\n",
            "Validation Epoch 17/100: 100%|██████████| 157/157 [00:04<00:00, 32.24it/s]\n"
          ]
        },
        {
          "name": "stdout",
          "output_type": "stream",
          "text": [
            "\tTrain Loss: 0.650\n",
            "\tValid Loss: 2.039\n",
            "\tValid WER: 0.6740\n",
            "\tValid CER: 0.5452\n",
            "Validation loss improved. Model saved to /content/drive/MyDrive/output_transformer_subword/best_transformer_model_subword.pt.\n",
            "Validation CER improved. Model saved to /content/drive/MyDrive/output_transformer_subword/best_transformer_model_cer.pt.\n",
            "Epoch: 17 | Time: 2m 35s\n"
          ]
        },
        {
          "name": "stderr",
          "output_type": "stream",
          "text": [
            "Training Epoch 18/100: 100%|██████████| 1251/1251 [01:58<00:00, 10.56it/s]\n",
            "Validation Epoch 18/100: 100%|██████████| 157/157 [00:04<00:00, 32.40it/s]\n"
          ]
        },
        {
          "name": "stdout",
          "output_type": "stream",
          "text": [
            "\tTrain Loss: 0.608\n",
            "\tValid Loss: 2.028\n",
            "\tValid WER: 0.6115\n",
            "\tValid CER: 0.4870\n",
            "Validation loss improved. Model saved to /content/drive/MyDrive/output_transformer_subword/best_transformer_model_subword.pt.\n",
            "Validation CER improved. Model saved to /content/drive/MyDrive/output_transformer_subword/best_transformer_model_cer.pt.\n",
            "Epoch: 18 | Time: 2m 34s\n"
          ]
        },
        {
          "name": "stderr",
          "output_type": "stream",
          "text": [
            "Training Epoch 19/100: 100%|██████████| 1251/1251 [01:58<00:00, 10.53it/s]\n",
            "Validation Epoch 19/100: 100%|██████████| 157/157 [00:04<00:00, 32.64it/s]\n"
          ]
        },
        {
          "name": "stdout",
          "output_type": "stream",
          "text": [
            "\tTrain Loss: 0.571\n",
            "\tValid Loss: 2.034\n",
            "\tValid WER: 0.7560\n",
            "\tValid CER: 0.6261\n",
            "Epoch: 19 | Time: 2m 39s\n"
          ]
        },
        {
          "name": "stderr",
          "output_type": "stream",
          "text": [
            "Training Epoch 20/100: 100%|██████████| 1251/1251 [01:58<00:00, 10.56it/s]\n",
            "Validation Epoch 20/100: 100%|██████████| 157/157 [00:04<00:00, 32.34it/s]\n"
          ]
        },
        {
          "name": "stdout",
          "output_type": "stream",
          "text": [
            "\tTrain Loss: 0.538\n",
            "\tValid Loss: 2.047\n",
            "\tValid WER: 0.7786\n",
            "\tValid CER: 0.6389\n",
            "Epoch: 20 | Time: 2m 40s\n"
          ]
        },
        {
          "name": "stderr",
          "output_type": "stream",
          "text": [
            "Training Epoch 21/100: 100%|██████████| 1251/1251 [01:58<00:00, 10.52it/s]\n",
            "Validation Epoch 21/100: 100%|██████████| 157/157 [00:04<00:00, 32.68it/s]\n"
          ]
        },
        {
          "name": "stdout",
          "output_type": "stream",
          "text": [
            "\tTrain Loss: 0.507\n",
            "\tValid Loss: 2.034\n",
            "\tValid WER: 0.5790\n",
            "\tValid CER: 0.4543\n",
            "Validation CER improved. Model saved to /content/drive/MyDrive/output_transformer_subword/best_transformer_model_cer.pt.\n",
            "Epoch: 21 | Time: 2m 32s\n"
          ]
        },
        {
          "name": "stderr",
          "output_type": "stream",
          "text": [
            "Training Epoch 22/100: 100%|██████████| 1251/1251 [01:58<00:00, 10.56it/s]\n",
            "Validation Epoch 22/100: 100%|██████████| 157/157 [00:04<00:00, 32.42it/s]\n"
          ]
        },
        {
          "name": "stdout",
          "output_type": "stream",
          "text": [
            "\tTrain Loss: 0.477\n",
            "\tValid Loss: 2.025\n",
            "\tValid WER: 0.9379\n",
            "\tValid CER: 0.8013\n",
            "Validation loss improved. Model saved to /content/drive/MyDrive/output_transformer_subword/best_transformer_model_subword.pt.\n",
            "Epoch: 22 | Time: 2m 49s\n"
          ]
        },
        {
          "name": "stderr",
          "output_type": "stream",
          "text": [
            "Training Epoch 23/100: 100%|██████████| 1251/1251 [01:58<00:00, 10.53it/s]\n",
            "Validation Epoch 23/100: 100%|██████████| 157/157 [00:04<00:00, 32.52it/s]\n"
          ]
        },
        {
          "name": "stdout",
          "output_type": "stream",
          "text": [
            "\tTrain Loss: 0.452\n",
            "\tValid Loss: 2.035\n",
            "\tValid WER: 0.7772\n",
            "\tValid CER: 0.6486\n",
            "Epoch: 23 | Time: 2m 37s\n"
          ]
        },
        {
          "name": "stderr",
          "output_type": "stream",
          "text": [
            "Training Epoch 24/100: 100%|██████████| 1251/1251 [01:58<00:00, 10.53it/s]\n",
            "Validation Epoch 24/100: 100%|██████████| 157/157 [00:04<00:00, 32.36it/s]\n"
          ]
        },
        {
          "name": "stdout",
          "output_type": "stream",
          "text": [
            "\tTrain Loss: 0.429\n",
            "\tValid Loss: 2.016\n",
            "\tValid WER: 0.6127\n",
            "\tValid CER: 0.4896\n",
            "Validation loss improved. Model saved to /content/drive/MyDrive/output_transformer_subword/best_transformer_model_subword.pt.\n",
            "Epoch: 24 | Time: 2m 40s\n"
          ]
        },
        {
          "name": "stderr",
          "output_type": "stream",
          "text": [
            "Training Epoch 25/100: 100%|██████████| 1251/1251 [01:59<00:00, 10.50it/s]\n",
            "Validation Epoch 25/100: 100%|██████████| 157/157 [00:04<00:00, 32.35it/s]\n"
          ]
        },
        {
          "name": "stdout",
          "output_type": "stream",
          "text": [
            "\tTrain Loss: 0.407\n",
            "\tValid Loss: 2.051\n",
            "\tValid WER: 0.6440\n",
            "\tValid CER: 0.5172\n",
            "Epoch: 25 | Time: 2m 33s\n"
          ]
        },
        {
          "name": "stderr",
          "output_type": "stream",
          "text": [
            "Training Epoch 26/100: 100%|██████████| 1251/1251 [01:58<00:00, 10.52it/s]\n",
            "Validation Epoch 26/100: 100%|██████████| 157/157 [00:04<00:00, 32.03it/s]\n"
          ]
        },
        {
          "name": "stdout",
          "output_type": "stream",
          "text": [
            "\tTrain Loss: 0.388\n",
            "\tValid Loss: 2.017\n",
            "\tValid WER: 0.6598\n",
            "\tValid CER: 0.5344\n",
            "Epoch: 26 | Time: 2m 32s\n"
          ]
        },
        {
          "name": "stderr",
          "output_type": "stream",
          "text": [
            "Training Epoch 27/100: 100%|██████████| 1251/1251 [01:58<00:00, 10.52it/s]\n",
            "Validation Epoch 27/100: 100%|██████████| 157/157 [00:04<00:00, 32.88it/s]\n"
          ]
        },
        {
          "name": "stdout",
          "output_type": "stream",
          "text": [
            "\tTrain Loss: 0.368\n",
            "\tValid Loss: 2.040\n",
            "\tValid WER: 0.8700\n",
            "\tValid CER: 0.7463\n",
            "Epoch: 27 | Time: 2m 43s\n"
          ]
        },
        {
          "name": "stderr",
          "output_type": "stream",
          "text": [
            "Training Epoch 28/100: 100%|██████████| 1251/1251 [01:58<00:00, 10.54it/s]\n",
            "Validation Epoch 28/100: 100%|██████████| 157/157 [00:04<00:00, 32.08it/s]\n"
          ]
        },
        {
          "name": "stdout",
          "output_type": "stream",
          "text": [
            "\tTrain Loss: 0.351\n",
            "\tValid Loss: 2.056\n",
            "\tValid WER: 0.6454\n",
            "\tValid CER: 0.5227\n",
            "Epoch: 28 | Time: 2m 34s\n"
          ]
        },
        {
          "name": "stderr",
          "output_type": "stream",
          "text": [
            "Training Epoch 29/100: 100%|██████████| 1251/1251 [01:58<00:00, 10.54it/s]\n",
            "Validation Epoch 29/100: 100%|██████████| 157/157 [00:04<00:00, 32.23it/s]\n"
          ]
        },
        {
          "name": "stdout",
          "output_type": "stream",
          "text": [
            "\tTrain Loss: 0.340\n",
            "\tValid Loss: 2.038\n",
            "\tValid WER: 0.5382\n",
            "\tValid CER: 0.4225\n",
            "Early stopping triggered.\n"
          ]
        }
      ],
      "source": [
        "# Training loop\n",
        "N_EPOCHS = 100\n",
        "best_valid_loss = float('inf')\n",
        "best_valid_cer = float('inf')\n",
        "patience = 5\n",
        "counter = 0\n",
        "\n",
        "train_losses = []\n",
        "valid_losses = []\n",
        "\n",
        "train_wers = []\n",
        "valid_wers = []\n",
        "train_cers = []\n",
        "valid_cers = []\n",
        "\n",
        "for epoch in range(1, N_EPOCHS + 1):\n",
        "    start_time = time.time()\n",
        "\n",
        "    # Training\n",
        "    model.train()\n",
        "    epoch_train_loss = 0\n",
        "    for src, trg in tqdm(train_loader, desc=f'Training Epoch {epoch}/{N_EPOCHS}'):\n",
        "        src = src.to(DEVICE)\n",
        "        trg = trg.to(DEVICE)\n",
        "\n",
        "        # Create masks\n",
        "        src_mask, tgt_mask, src_padding_mask, tgt_padding_mask = create_mask(src, trg[:, :-1], PAD_IDX)\n",
        "\n",
        "        optimizer.zero_grad()\n",
        "        output = model(src, trg[:, :-1], src_mask, tgt_mask, src_padding_mask, tgt_padding_mask, src_padding_mask)\n",
        "\n",
        "        trg_out = trg[:, 1:]\n",
        "\n",
        "        output = output.reshape(-1, TGT_VOCAB_SIZE)\n",
        "        trg_out = trg_out.reshape(-1)\n",
        "\n",
        "        loss = criterion(output, trg_out)\n",
        "        loss.backward()\n",
        "\n",
        "        optimizer.step()\n",
        "\n",
        "        epoch_train_loss += loss.item()\n",
        "\n",
        "    epoch_train_loss /= len(train_loader)\n",
        "    train_losses.append(epoch_train_loss)\n",
        "\n",
        "\n",
        "    # Validation\n",
        "    model.eval()\n",
        "    epoch_valid_loss = 0\n",
        "    with torch.no_grad():\n",
        "        for src, trg in tqdm(val_loader, desc=f'Validation Epoch {epoch}/{N_EPOCHS}'):\n",
        "            src = src.to(DEVICE)\n",
        "            trg = trg.to(DEVICE)\n",
        "\n",
        "            src_mask, tgt_mask, src_padding_mask, tgt_padding_mask = create_mask(src, trg[:, :-1], PAD_IDX)\n",
        "\n",
        "            output = model(src, trg[:, :-1], src_mask, tgt_mask, src_padding_mask, tgt_padding_mask, src_padding_mask)\n",
        "\n",
        "            trg_out = trg[:, 1:]\n",
        "\n",
        "            output = output.reshape(-1, TGT_VOCAB_SIZE)\n",
        "            trg_out = trg_out.reshape(-1)\n",
        "\n",
        "            loss = criterion(output, trg_out)\n",
        "            epoch_valid_loss += loss.item()\n",
        "\n",
        "    epoch_valid_loss /= len(val_loader)\n",
        "    valid_losses.append(epoch_valid_loss)\n",
        "\n",
        "    # Evaluate WER\n",
        "    valid_cer, valid_wer = evaluate_wer(model, val_loader, sp)\n",
        "    valid_wers.append(valid_wer)\n",
        "    valid_cers.append(valid_cer)\n",
        "\n",
        "    print(f'\\tTrain Loss: {epoch_train_loss:.3f}')\n",
        "    print(f'\\tValid Loss: {epoch_valid_loss:.3f}')\n",
        "    print(f'\\tValid WER: {valid_wer:.4f}')\n",
        "    print(f'\\tValid CER: {valid_cer:.4f}')\n",
        "\n",
        "    # Early stopping check\n",
        "    if epoch_valid_loss < best_valid_loss:\n",
        "        best_valid_loss = epoch_valid_loss\n",
        "        torch.save(model.state_dict(), BEST_MODEL_PATH)\n",
        "        print(f'Validation loss improved. Model saved to {BEST_MODEL_PATH}.')\n",
        "        counter = 0\n",
        "    else:\n",
        "        counter += 1\n",
        "        if counter >= patience:\n",
        "            print('Early stopping triggered.')\n",
        "            break\n",
        "\n",
        "    if valid_cer < best_valid_cer:\n",
        "        best_valid_cer = valid_cer\n",
        "        torch.save(model.state_dict(), BEST_CER_MODEL_PATH)\n",
        "        print(f'Validation CER improved. Model saved to {BEST_CER_MODEL_PATH}.')\n",
        "\n",
        "    end_time = time.time()\n",
        "    epoch_mins, epoch_secs = divmod(int(end_time - start_time), 60)\n",
        "\n",
        "    print(f'Epoch: {epoch:02} | Time: {epoch_mins}m {epoch_secs}s')"
      ]
    },
    {
      "cell_type": "code",
      "execution_count": null,
      "metadata": {
        "colab": {
          "base_uri": "https://localhost:8080/",
          "height": 504
        },
        "id": "w9-Lz4uIcyhI",
        "outputId": "059b66d6-9064-476e-d7a3-9d729ac00911"
      },
      "outputs": [
        {
          "data": {
            "image/png": "[encoded data removed]",
            "text/plain": [
              "<Figure size 1000x500 with 1 Axes>"
            ]
          },
          "metadata": {},
          "output_type": "display_data"
        },
        {
          "name": "stdout",
          "output_type": "stream",
          "text": [
            "Loss plot saved to /content/drive/MyDrive/output_transformer_subword/transformer_loss_plot_subword.png.\n"
          ]
        }
      ],
      "source": [
        "# Plot training and validation loss\n",
        "plt.figure(figsize=(10, 5))\n",
        "plt.plot(range(1, len(train_losses) + 1), train_losses, label='Train Loss')\n",
        "plt.plot(range(1, len(valid_losses) + 1), valid_losses, label='Validation Loss')\n",
        "plt.xlabel('Epoch')\n",
        "plt.ylabel('Loss')\n",
        "plt.legend()\n",
        "plt.title('Training and Validation Loss')\n",
        "plt.savefig(LOSS_PLOT_PATH)\n",
        "plt.show()\n",
        "print(f'Loss plot saved to {LOSS_PLOT_PATH}.')"
      ]
    },
    {
      "cell_type": "code",
      "execution_count": null,
      "metadata": {
        "colab": {
          "base_uri": "https://localhost:8080/",
          "height": 504
        },
        "id": "MJgZBZOccyhI",
        "outputId": "d7554d3a-a923-4eae-d06a-5390ad19bd0b"
      },
      "outputs": [
        {
          "data": {
            "image/png": "[encoded data removed]",
            "text/plain": [
              "<Figure size 1000x500 with 1 Axes>"
            ]
          },
          "metadata": {},
          "output_type": "display_data"
        },
        {
          "name": "stdout",
          "output_type": "stream",
          "text": [
            "Plot saved to /content/drive/MyDrive/output_transformer_subword/er_plot_subword.png.\n"
          ]
        }
      ],
      "source": [
        "# Plot validation CER & WER over epochs\n",
        "plt.figure(figsize=(10, 5))\n",
        "plt.plot(range(1, len(valid_wers) + 1), valid_wers, label='Validation WER')\n",
        "plt.plot(range(1, len(valid_cers) + 1), valid_cers, label='Validation CER')\n",
        "plt.xlabel('Epoch')\n",
        "plt.ylabel('WER & CER')\n",
        "plt.legend()\n",
        "plt.title('Validation WER & CER Over Epochs')\n",
        "plt.savefig(ER_PLOT_PATH)\n",
        "\n",
        "plt.show()\n",
        "print(f'Plot saved to {ER_PLOT_PATH}.')"
      ]
    },
    {
      "cell_type": "code",
      "execution_count": null,
      "metadata": {
        "id": "aIvOteWCcyhJ"
      },
      "outputs": [],
      "source": [
        "def greedy_decode_inference(model, src, src_mask, max_len, bos_idx):\n",
        "    src = src.to(DEVICE)\n",
        "    src_mask = src_mask.to(DEVICE)\n",
        "    src_padding_mask = (src == PAD_IDX)\n",
        "\n",
        "    memory = model.encode(src, src_mask, src_key_padding_mask=src_padding_mask)\n",
        "\n",
        "    ys = torch.ones(1, 1).fill_(bos_idx).type(torch.long).to(DEVICE)\n",
        "    for i in range(max_len-1):\n",
        "        tgt_mask = generate_square_subsequent_mask(ys.size(1)).to(DEVICE)\n",
        "        out = model.decode(ys, memory, tgt_mask, tgt_key_padding_mask=None, memory_key_padding_mask=src_padding_mask)\n",
        "        out = out.transpose(0,1)\n",
        "        prob = model.generator(out[:, -1])\n",
        "        next_word = torch.argmax(prob, dim=1).item()\n",
        "        ys = torch.cat([ys, torch.ones(1, 1).type_as(src.data).fill_(next_word)], dim=1)\n",
        "        if next_word == EOS_IDX:\n",
        "            break\n",
        "    return ys"
      ]
    },
    {
      "cell_type": "code",
      "execution_count": null,
      "metadata": {
        "id": "ynSnz2QlcyhJ"
      },
      "outputs": [],
      "source": [
        "def translate_sentence(sentence, model, sp, device, max_len=MAX_LEN, decoding_strategy='greedy'):\n",
        "    model.eval()\n",
        "    tokens = [BOS_IDX] + sp.EncodeAsIds(sentence) + [EOS_IDX]\n",
        "    tokens = tokens[:max_len]\n",
        "    src = torch.tensor(tokens, dtype=torch.long).unsqueeze(0).to(device)\n",
        "    src_mask = torch.zeros((src.shape[1], src.shape[1]), device=device).float()\n",
        "    if decoding_strategy == 'greedy':\n",
        "        tgt_tokens = greedy_decode_inference(model, src, src_mask, max_len, BOS_IDX).flatten()\n",
        "    else:\n",
        "        raise ValueError(\"Invalid decoding strategy\")\n",
        "    tgt_tokens = tgt_tokens.cpu().numpy()\n",
        "    # Remove BOS token\n",
        "    tgt_tokens = tgt_tokens[1:]\n",
        "    # Stop at EOS token\n",
        "    if EOS_IDX in tgt_tokens:\n",
        "        eos_index = np.where(tgt_tokens == EOS_IDX)[0][0]\n",
        "        tgt_tokens = tgt_tokens[:eos_index]\n",
        "    translation = sp.DecodeIds(tgt_tokens.tolist())\n",
        "    return translation"
      ]
    },
    {
      "cell_type": "code",
      "execution_count": null,
      "metadata": {
        "id": "YIOqCA-gcyhJ"
      },
      "outputs": [],
      "source": [
        "def evaluate_and_save(model, df, src_sequences, trg_sequences, sp, file_name):\n",
        "    model.eval()\n",
        "    predictions = []\n",
        "    cer_scores = []\n",
        "    wer_scores = []\n",
        "\n",
        "    for src_ids, trg_ids in tqdm(zip(src_sequences, trg_sequences), total=len(src_sequences), desc=f'Evaluating {file_name}'):\n",
        "        src_sentence = sp.DecodeIds([id for id in src_ids if id not in [BOS_IDX, EOS_IDX, PAD_IDX]])\n",
        "        trg_sentence = sp.DecodeIds([id for id in trg_ids if id not in [BOS_IDX, EOS_IDX, PAD_IDX]])\n",
        "\n",
        "        pred_sentence = translate_sentence(src_sentence, model, sp, DEVICE)\n",
        "        predictions.append(pred_sentence)\n",
        "        cer_score = cer(trg_sentence, pred_sentence)\n",
        "        wer_score = wer(trg_sentence, pred_sentence)\n",
        "        cer_scores.append(cer_score)\n",
        "        wer_scores.append(wer_score)\n",
        "\n",
        "    results_df = pd.DataFrame({\n",
        "        'Source': df['inFormalForm'],\n",
        "        'Target': df['FormalForm'],\n",
        "        'Prediction': predictions,\n",
        "        'CER': cer_scores,\n",
        "        'WER': wer_scores\n",
        "    })\n",
        "\n",
        "    results_df = results_df.sort_values(by=['CER', 'WER'], ascending=[True, True])\n",
        "\n",
        "    results_path = os.path.join(OUTPUT_DIR, file_name)\n",
        "    results_df.to_csv(results_path, index=False)\n",
        "    avg_cer = np.mean(cer_scores)\n",
        "    avg_wer = np.mean(wer_scores)\n",
        "    print(f'Results saved to {results_path}')\n",
        "    print(f'Average CER: {avg_cer:.4f}')\n",
        "    print(f'Average WER: {avg_wer:.4f}')\n",
        "    return results_df"
      ]
    },
    {
      "cell_type": "code",
      "execution_count": null,
      "metadata": {
        "colab": {
          "base_uri": "https://localhost:8080/"
        },
        "id": "1VB2j8tGcyhJ",
        "outputId": "428557a3-3ea2-48ba-bf78-fb1321552804"
      },
      "outputs": [
        {
          "name": "stdout",
          "output_type": "stream",
          "text": [
            "Best model loaded.\n",
            "Evaluating on training data...\n"
          ]
        },
        {
          "name": "stderr",
          "output_type": "stream",
          "text": [
            "Evaluating train_results_subword_transformer.csv: 100%|██████████| 40008/40008 [51:01<00:00, 13.07it/s]\n"
          ]
        },
        {
          "name": "stdout",
          "output_type": "stream",
          "text": [
            "Results saved to /content/drive/MyDrive/output_transformer_subword/train_results_subword_transformer.csv\n",
            "Average CER: 0.0874\n",
            "Average WER: 0.1083\n",
            "Evaluating on validation data...\n"
          ]
        },
        {
          "name": "stderr",
          "output_type": "stream",
          "text": [
            "Evaluating val_results_subword_transformer.csv: 100%|██████████| 5001/5001 [06:32<00:00, 12.73it/s]\n"
          ]
        },
        {
          "name": "stdout",
          "output_type": "stream",
          "text": [
            "Results saved to /content/drive/MyDrive/output_transformer_subword/val_results_subword_transformer.csv\n",
            "Average CER: 0.3249\n",
            "Average WER: 0.4280\n",
            "Evaluating on test data...\n"
          ]
        },
        {
          "name": "stderr",
          "output_type": "stream",
          "text": [
            "Evaluating test_results_subword_transformer.csv: 100%|██████████| 5002/5002 [06:26<00:00, 12.93it/s]\n"
          ]
        },
        {
          "name": "stdout",
          "output_type": "stream",
          "text": [
            "Results saved to /content/drive/MyDrive/output_transformer_subword/test_results_subword_transformer.csv\n",
            "Average CER: 0.3258\n",
            "Average WER: 0.4324\n"
          ]
        }
      ],
      "source": [
        "model.load_state_dict(torch.load(BEST_MODEL_PATH))\n",
        "print('Best model loaded.')\n",
        "\n",
        "print('Evaluating on training data...')\n",
        "train_results = evaluate_and_save(model, train_df, train_src, train_trg, sp, 'train_results_subword_transformer.csv')\n",
        "\n",
        "print('Evaluating on validation data...')\n",
        "val_results = evaluate_and_save(model, val_df, val_src, val_trg, sp, 'val_results_subword_transformer.csv')\n",
        "\n",
        "print('Evaluating on test data...')\n",
        "test_results = evaluate_and_save(model, test_df, test_src, test_trg, sp, 'test_results_subword_transformer.csv')"
      ]
    },
    {
      "cell_type": "code",
      "execution_count": null,
      "metadata": {
        "colab": {
          "base_uri": "https://localhost:8080/"
        },
        "id": "tgrjNV7wKi_R",
        "outputId": "559c7411-2019-49c5-f7ec-abd1e0b730cb"
      },
      "outputs": [
        {
          "name": "stdout",
          "output_type": "stream",
          "text": [
            "Best CER model loaded.\n",
            "Evaluating on training data using best CER model...\n"
          ]
        },
        {
          "name": "stderr",
          "output_type": "stream",
          "text": [
            "Evaluating train_results_subword_best_cer.csv: 100%|██████████| 40008/40008 [49:18<00:00, 13.52it/s]\n"
          ]
        },
        {
          "name": "stdout",
          "output_type": "stream",
          "text": [
            "Results saved to /content/drive/MyDrive/output_transformer_subword/train_results_subword_best_cer.csv\n",
            "Average CER: 0.1005\n",
            "Average WER: 0.1257\n",
            "Evaluating on validation data using best CER model...\n"
          ]
        },
        {
          "name": "stderr",
          "output_type": "stream",
          "text": [
            "Evaluating val_results_subword_best_cer.csv: 100%|██████████| 5001/5001 [06:17<00:00, 13.24it/s]\n"
          ]
        },
        {
          "name": "stdout",
          "output_type": "stream",
          "text": [
            "Results saved to /content/drive/MyDrive/output_transformer_subword/val_results_subword_best_cer.csv\n",
            "Average CER: 0.3315\n",
            "Average WER: 0.4381\n",
            "Evaluating on test data using best CER model...\n"
          ]
        },
        {
          "name": "stderr",
          "output_type": "stream",
          "text": [
            "Evaluating test_results_subword_best_cer.csv: 100%|██████████| 5002/5002 [06:06<00:00, 13.65it/s]\n"
          ]
        },
        {
          "name": "stdout",
          "output_type": "stream",
          "text": [
            "Results saved to /content/drive/MyDrive/output_transformer_subword/test_results_subword_best_cer.csv\n",
            "Average CER: 0.3304\n",
            "Average WER: 0.4373\n"
          ]
        }
      ],
      "source": [
        "model.load_state_dict(torch.load(BEST_CER_MODEL_PATH))\n",
        "print('Best CER model loaded.')\n",
        "\n",
        "print('Evaluating on training data using best CER model...')\n",
        "train_results = evaluate_and_save(model, train_df, train_src, train_trg, sp, 'train_results_subword_best_cer.csv')\n",
        "\n",
        "print('Evaluating on validation data using best CER model...')\n",
        "val_results = evaluate_and_save(model, val_df, val_src, val_trg, sp, 'val_results_subword_best_cer.csv')\n",
        "\n",
        "print('Evaluating on test data using best CER model...')\n",
        "test_results = evaluate_and_save(model, test_df, test_src, test_trg, sp, 'test_results_subword_best_cer.csv')"
      ]
    }
  ],
  "metadata": {
    "accelerator": "GPU",
    "colab": {
      "gpuType": "T4",
      "provenance": []
    },
    "kernelspec": {
      "display_name": "Python 3",
      "name": "python3"
    },
    "language_info": {
      "name": "python",
      "version": "3.9.19"
    }
  },
  "nbformat": 4,
  "nbformat_minor": 0
}
