{
 "cells": [
  {
   "cell_type": "code",
   "execution_count": null,
   "metadata": {},
   "outputs": [],
   "source": [
    "import os\n",
    "import time\n",
    "import random\n",
    "import numpy as np\n",
    "import pandas as pd\n",
    "import sentencepiece as spm\n",
    "import torch\n",
    "import torch.nn as nn\n",
    "import torch.optim as optim\n",
    "from torch.utils.data import Dataset, DataLoader\n",
    "from jiwer import wer, cer\n",
    "import matplotlib.pyplot as plt\n",
    "from sklearn.model_selection import train_test_split\n",
    "from tqdm import tqdm\n",
    "import pickle\n",
    "import re"
   ]
  },
  {
   "cell_type": "code",
   "execution_count": 24,
   "metadata": {},
   "outputs": [],
   "source": [
    "# Set random seeds for reproducibility\n",
    "SEED = 42\n",
    "random.seed(SEED)\n",
    "np.random.seed(SEED)\n",
    "torch.manual_seed(SEED)\n",
    "torch.cuda.manual_seed_all(SEED)"
   ]
  },
  {
   "cell_type": "code",
   "execution_count": 25,
   "metadata": {},
   "outputs": [
    {
     "name": "stdout",
     "output_type": "stream",
     "text": [
      "Using device: cuda\n"
     ]
    }
   ],
   "source": [
    "# Check if GPU is available\n",
    "DEVICE = torch.device('cuda' if torch.cuda.is_available() else 'cpu')\n",
    "print(f'Using device: {DEVICE}')"
   ]
  },
  {
   "cell_type": "code",
   "execution_count": 26,
   "metadata": {},
   "outputs": [],
   "source": [
    "# Create output directory\n",
    "OUTPUT_DIR = './output_lstm_subword/'\n",
    "if not os.path.exists(OUTPUT_DIR):\n",
    "    os.makedirs(OUTPUT_DIR)"
   ]
  },
  {
   "cell_type": "code",
   "execution_count": 27,
   "metadata": {},
   "outputs": [],
   "source": [
    "# Paths for saving/loading\n",
    "DATASET_PATH = './exportStatements.xlsx'\n",
    "TOKENIZER_MODEL_PATH = os.path.join(OUTPUT_DIR, 'sentencepiece.model')\n",
    "TOKENIZER_VOCAB_PATH = os.path.join(OUTPUT_DIR, 'sentencepiece.vocab')\n",
    "PREPROCESSED_DATA_PATH = os.path.join(OUTPUT_DIR, 'preprocessed_data_subword.pkl')\n",
    "BEST_MODEL_PATH = os.path.join(OUTPUT_DIR, 'best_lstm_model_subword.pt')\n",
    "BEST_CER_MODEL_PATH = os.path.join(OUTPUT_DIR, 'best_lstm_model_cer.pt')\n",
    "LOSS_PLOT_PATH = os.path.join(OUTPUT_DIR, 'lstm_loss_plot_subword.png')\n",
    "ER_PLOT_PATH = os.path.join(OUTPUT_DIR, 'er_plot_subword.png')"
   ]
  },
  {
   "cell_type": "code",
   "execution_count": 28,
   "metadata": {},
   "outputs": [],
   "source": [
    "# Load the dataset\n",
    "df = pd.read_excel(DATASET_PATH)"
   ]
  },
  {
   "cell_type": "code",
   "execution_count": 29,
   "metadata": {},
   "outputs": [
    {
     "name": "stdout",
     "output_type": "stream",
     "text": [
      "Missing values in 'inFormalForm': 0\n",
      "Missing values in 'FormalForm': 1\n",
      "Dropped 1 rows due to missing values.\n"
     ]
    }
   ],
   "source": [
    "# Check for missing values in 'inFormalForm' and 'FormalForm'\n",
    "print(\"Missing values in 'inFormalForm':\", df['inFormalForm'].isnull().sum())\n",
    "print(\"Missing values in 'FormalForm':\", df['FormalForm'].isnull().sum())\n",
    "\n",
    "# Drop rows with missing values in 'inFormalForm' and 'FormalForm'\n",
    "initial_length = len(df)\n",
    "df = df.dropna(subset=['inFormalForm', 'FormalForm']).reset_index(drop=True)\n",
    "final_length = len(df)\n",
    "\n",
    "df['inFormalForm'] = df['inFormalForm'].astype(str)\n",
    "df['FormalForm'] = df['FormalForm'].astype(str)\n",
    "\n",
    "print(f\"Dropped {initial_length - final_length} rows due to missing values.\")"
   ]
  },
  {
   "cell_type": "code",
   "execution_count": 30,
   "metadata": {},
   "outputs": [],
   "source": [
    "def clean_persian_text(text):\n",
    "    # 1. Keep only Persian letters, English letters, digits, whitespace, ZWNJ\n",
    "    text = re.sub(r\"[^\\u0600-\\u06FFa-zA-Z0-9\\u06F0-\\u06F9\\u0660-\\u0669\\u200c\\s]\", \" \", text)\n",
    "    # Remove leftover Persian punctuations explicitly (، ؛ ؟)\n",
    "    text = re.sub(r\"[،؛؟]\", \" \", text)\n",
    "    # Remove Arabic diacritics (harakat)\n",
    "    arabic_diacritics = r\"[\\u064B-\\u065F\\u0670\\u06D6-\\u06ED]\"\n",
    "    text = re.sub(arabic_diacritics, \"\", text)\n",
    "\n",
    "    # 2. Normalize Persian/Arabic digits to Western digits\n",
    "    persian_digits = \"۰۱۲۳۴۵۶۷۸۹\"\n",
    "    arabic_digits = \"٠١٢٣٤٥٦٧٨٩\"\n",
    "    for p, a, e in zip(persian_digits, arabic_digits, \"0123456789\"):\n",
    "        text = text.replace(p, e).replace(a, e)\n",
    "\n",
    "    # 3. Separate numbers stuck to Persian/English letters\n",
    "    text = re.sub(r\"(\\d+)(?=[\\u0600-\\u06FFa-zA-Z])\", r\"\\1 \", text)  # digit before letter\n",
    "    text = re.sub(r\"([\\u0600-\\u06FFa-zA-Z])(?=\\d+)\", r\"\\1 \", text)  # letter before digit\n",
    "\n",
    "    # 4. Remove underscores\n",
    "    text = re.sub(r\"_+\", \"\", text)\n",
    "\n",
    "    # 5. Normalize spaces\n",
    "    text = re.sub(r\"\\s+\", \" \", text).strip()\n",
    "\n",
    "    return text"
   ]
  },
  {
   "cell_type": "code",
   "execution_count": 31,
   "metadata": {},
   "outputs": [],
   "source": [
    "df['inFormalForm'] = df['inFormalForm'].apply(clean_persian_text)\n",
    "df['FormalForm'] = df['FormalForm'].apply(clean_persian_text)"
   ]
  },
  {
   "cell_type": "code",
   "execution_count": 32,
   "metadata": {},
   "outputs": [],
   "source": [
    "# Split data into training, validation, and test sets (80%, 10%, 10%)\n",
    "train_df, temp_df = train_test_split(df, test_size=0.2, random_state=SEED)\n",
    "val_df, test_df = train_test_split(temp_df, test_size=0.5, random_state=SEED)"
   ]
  },
  {
   "cell_type": "code",
   "execution_count": null,
   "metadata": {},
   "outputs": [
    {
     "name": "stdout",
     "output_type": "stream",
     "text": [
      "Training SentencePiece tokenizer...\n",
      "Tokenizer trained and saved.\n"
     ]
    }
   ],
   "source": [
    "# Check if tokenizer model exists\n",
    "if not os.path.exists(TOKENIZER_MODEL_PATH):\n",
    "    print('Training SentencePiece tokenizer...')\n",
    "    # Save combined sentences for tokenizer training\n",
    "    all_sentences_path = os.path.join(OUTPUT_DIR, 'all_sentences.txt')\n",
    "    with open(all_sentences_path, 'w', encoding='utf-8') as f:\n",
    "        for sent in pd.concat([train_df['inFormalForm'], train_df['FormalForm']]):\n",
    "            f.write(sent.strip() + '\\n')\n",
    "\n",
    "    # Adjusted vocab_size\n",
    "    spm.SentencePieceTrainer.Train(\n",
    "        input=all_sentences_path,\n",
    "        model_prefix=os.path.join(OUTPUT_DIR, 'sentencepiece'),\n",
    "        vocab_size=10000,\n",
    "        model_type='unigram',\n",
    "        character_coverage=1.0,\n",
    "        pad_id=0,      # ID for <pad>\n",
    "        unk_id=1,      # ID for <unk> (reserved, do not redefine)\n",
    "        bos_id=2,      # ID for <s> (reserved)\n",
    "        eos_id=3,      # ID for </s> (reserved)\n",
    "    )\n",
    "    print('Tokenizer trained and saved.')\n",
    "else:\n",
    "    print('Loading existing tokenizer.')"
   ]
  },
  {
   "cell_type": "code",
   "execution_count": null,
   "metadata": {},
   "outputs": [
    {
     "name": "stdout",
     "output_type": "stream",
     "text": [
      "Vocabulary size: 10000\n"
     ]
    },
    {
     "data": {
      "text/plain": [
       "(0, 1, 2, 3, 0, 1, 2, 3)"
      ]
     },
     "execution_count": 34,
     "metadata": {},
     "output_type": "execute_result"
    }
   ],
   "source": [
    "# Load the trained tokenizer\n",
    "sp = spm.SentencePieceProcessor()\n",
    "sp.Load(TOKENIZER_MODEL_PATH)\n",
    "print(f'Vocabulary size: {sp.get_piece_size()}')\n",
    "\n",
    "# Special token IDs\n",
    "PAD_IDX = sp.piece_to_id('<pad>')   # Should be 0\n",
    "UNK_IDX = sp.piece_to_id('<unk>')   # Should be 1\n",
    "BOS_IDX = sp.piece_to_id('<s>')     # Should be 2\n",
    "EOS_IDX = sp.piece_to_id('</s>')    # Should be 3\n",
    "\n",
    "PAD_IDX, UNK_IDX, BOS_IDX, EOS_IDX, sp.pad_id(), sp.unk_id(), sp.bos_id(), sp.eos_id()"
   ]
  },
  {
   "cell_type": "code",
   "execution_count": 35,
   "metadata": {},
   "outputs": [
    {
     "data": {
      "text/plain": [
       "101"
      ]
     },
     "execution_count": 35,
     "metadata": {},
     "output_type": "execute_result"
    }
   ],
   "source": [
    "# Maximum sequence length (based on dataset)\n",
    "def get_max_len(df_list):\n",
    "    max_len = 0\n",
    "    for df in df_list:\n",
    "        lengths = df['inFormalForm'].apply(lambda x: len(sp.EncodeAsIds(x)) + 2)  # +2 for BOS and EOS\n",
    "        lengths_trg = df['FormalForm'].apply(lambda x: len(sp.EncodeAsIds(x)) + 2)\n",
    "        max_len = max(max_len, lengths.max(), lengths_trg.max())\n",
    "    return max_len\n",
    "\n",
    "MAX_LEN = get_max_len([train_df, val_df, test_df])\n",
    "MAX_LEN"
   ]
  },
  {
   "cell_type": "code",
   "execution_count": 36,
   "metadata": {},
   "outputs": [
    {
     "name": "stdout",
     "output_type": "stream",
     "text": [
      "Preprocessing data...\n",
      "Preprocessed data saved.\n"
     ]
    }
   ],
   "source": [
    "# Check if preprocessed data exists\n",
    "if not os.path.exists(PREPROCESSED_DATA_PATH):\n",
    "    print('Preprocessing data...')\n",
    "    # Preprocess and tokenize all sentences\n",
    "    def preprocess_data(df, sp, max_len=MAX_LEN):\n",
    "        src_texts = df['inFormalForm'].tolist()\n",
    "        trg_texts = df['FormalForm'].tolist()\n",
    "        src_sequences = []\n",
    "        trg_sequences = []\n",
    "        for src, trg in zip(src_texts, trg_texts):\n",
    "            src_ids = [BOS_IDX] + sp.EncodeAsIds(src) + [EOS_IDX]\n",
    "            trg_ids = [BOS_IDX] + sp.EncodeAsIds(trg) + [EOS_IDX]\n",
    "            # Pad or truncate sequences\n",
    "            src_ids = src_ids[:max_len] + [PAD_IDX] * max(0, max_len - len(src_ids))\n",
    "            trg_ids = trg_ids[:max_len] + [PAD_IDX] * max(0, max_len - len(trg_ids))\n",
    "            src_sequences.append(src_ids)\n",
    "            trg_sequences.append(trg_ids)\n",
    "        return src_sequences, trg_sequences\n",
    "    \n",
    "    # Tokenize and preprocess data\n",
    "    train_src, train_trg = preprocess_data(train_df, sp)\n",
    "    val_src, val_trg = preprocess_data(val_df, sp)\n",
    "    test_src, test_trg = preprocess_data(test_df, sp)\n",
    "\n",
    "    # Save preprocessed data\n",
    "    with open(PREPROCESSED_DATA_PATH, 'wb') as f:\n",
    "        pickle.dump({\n",
    "            'train_src': train_src,\n",
    "            'train_trg': train_trg,\n",
    "            'val_src': val_src,\n",
    "            'val_trg': val_trg,\n",
    "            'test_src': test_src,\n",
    "            'test_trg': test_trg,\n",
    "            'MAX_LEN': MAX_LEN\n",
    "        }, f)\n",
    "    print('Preprocessed data saved.')\n",
    "else:\n",
    "    print('Loading preprocessed data...')\n",
    "    # Load preprocessed data\n",
    "    with open(PREPROCESSED_DATA_PATH, 'rb') as f:\n",
    "        data = pickle.load(f)\n",
    "        train_src = data['train_src']\n",
    "        train_trg = data['train_trg']\n",
    "        val_src = data['val_src']\n",
    "        val_trg = data['val_trg']\n",
    "        test_src = data['test_src']\n",
    "        test_trg = data['test_trg']\n",
    "        MAX_LEN = data['MAX_LEN']"
   ]
  },
  {
   "cell_type": "code",
   "execution_count": 37,
   "metadata": {},
   "outputs": [],
   "source": [
    "# Prepare datasets\n",
    "class TranslationDataset(Dataset):\n",
    "    def __init__(self, src_sequences, trg_sequences):\n",
    "        self.src_sequences = src_sequences\n",
    "        self.trg_sequences = trg_sequences\n",
    "\n",
    "    def __len__(self):\n",
    "        return len(self.src_sequences)\n",
    "\n",
    "    def __getitem__(self, idx):\n",
    "        src_ids = torch.tensor(self.src_sequences[idx], dtype=torch.long)\n",
    "        trg_ids = torch.tensor(self.trg_sequences[idx], dtype=torch.long)\n",
    "        return src_ids, trg_ids"
   ]
  },
  {
   "cell_type": "code",
   "execution_count": null,
   "metadata": {},
   "outputs": [],
   "source": [
    "# Create datasets and dataloaders\n",
    "batch_size = 32\n",
    "\n",
    "train_dataset = TranslationDataset(train_src, train_trg)\n",
    "val_dataset = TranslationDataset(val_src, val_trg)\n",
    "test_dataset = TranslationDataset(test_src, test_trg)\n",
    "\n",
    "train_loader = DataLoader(train_dataset, batch_size=batch_size, shuffle=True)\n",
    "val_loader = DataLoader(val_dataset, batch_size=batch_size)\n",
    "test_loader = DataLoader(test_dataset, batch_size=batch_size)"
   ]
  },
  {
   "cell_type": "code",
   "execution_count": null,
   "metadata": {},
   "outputs": [],
   "source": [
    "# Define the LSTM-based Seq2Seq model\n",
    "class Seq2Seq(nn.Module):\n",
    "    def __init__(self, vocab_size, emb_dim, hid_dim, n_layers, dropout, pad_idx):\n",
    "        super().__init__()\n",
    "        self.vocab_size = vocab_size\n",
    "        self.pad_idx = pad_idx\n",
    "\n",
    "        self.embedding = nn.Embedding(vocab_size, emb_dim, padding_idx=pad_idx)\n",
    "        self.encoder = nn.LSTM(emb_dim, hid_dim, n_layers, dropout=dropout, batch_first=True)\n",
    "        self.decoder = nn.LSTM(emb_dim, hid_dim, n_layers, dropout=dropout, batch_first=True)\n",
    "        self.fc_out = nn.Linear(hid_dim, vocab_size)\n",
    "        self.dropout = nn.Dropout(dropout)\n",
    "\n",
    "    def forward(self, src, trg):\n",
    "        # Embed source and target sequences\n",
    "        embedded_src = self.dropout(self.embedding(src))\n",
    "        embedded_trg = self.dropout(self.embedding(trg[:, :-1]))  # Remove last token for decoder input\n",
    "\n",
    "        # Encode source sequence\n",
    "        _, (hidden, cell) = self.encoder(embedded_src)\n",
    "\n",
    "        # Decode target sequence\n",
    "        outputs, _ = self.decoder(embedded_trg, (hidden, cell))\n",
    "        predictions = self.fc_out(outputs)\n",
    "\n",
    "        return predictions\n",
    "\n",
    "    def predict(self, src, max_len=MAX_LEN):\n",
    "        # Embed source sequence\n",
    "        embedded_src = self.dropout(self.embedding(src))\n",
    "\n",
    "        # Encode source sequence\n",
    "        _, (hidden, cell) = self.encoder(embedded_src)\n",
    "\n",
    "        # Initialize target sequence with <s>\n",
    "        inputs = torch.tensor([BOS_IDX] * src.size(0), dtype=torch.long).unsqueeze(1).to(src.device)\n",
    "        outputs = []\n",
    "        finished = torch.zeros(src.size(0), dtype=torch.bool, device=src.device)\n",
    "        for _ in range(max_len):\n",
    "            embedded = self.dropout(self.embedding(inputs))\n",
    "            output, (hidden, cell) = self.decoder(embedded, (hidden, cell))\n",
    "            prediction = self.fc_out(output.squeeze(1))\n",
    "            top1 = prediction.argmax(1)\n",
    "            outputs.append(top1.unsqueeze(1))\n",
    "            inputs = top1.unsqueeze(1)\n",
    "            finished = finished | (top1 == EOS_IDX)\n",
    "            if finished.all():\n",
    "                break\n",
    "        outputs = torch.cat(outputs, dim=1)\n",
    "        return outputs"
   ]
  },
  {
   "cell_type": "code",
   "execution_count": 40,
   "metadata": {},
   "outputs": [],
   "source": [
    "# Initialize model parameters\n",
    "VOCAB_SIZE = sp.get_piece_size()\n",
    "EMB_DIM = 256\n",
    "HID_DIM = 512\n",
    "N_LAYERS = 2\n",
    "DROPOUT = 0.2\n",
    "\n",
    "model = Seq2Seq(VOCAB_SIZE, EMB_DIM, HID_DIM, N_LAYERS, DROPOUT, PAD_IDX).to(DEVICE)"
   ]
  },
  {
   "cell_type": "code",
   "execution_count": 41,
   "metadata": {},
   "outputs": [],
   "source": [
    "# Initialize optimizer and loss function\n",
    "optimizer = optim.Adam(model.parameters(), lr=0.0001, weight_decay=1e-5)\n",
    "criterion = nn.CrossEntropyLoss(ignore_index=PAD_IDX)"
   ]
  },
  {
   "cell_type": "code",
   "execution_count": null,
   "metadata": {},
   "outputs": [],
   "source": [
    "def evaluate_wer(model, dataloader, sp, max_batches=None):\n",
    "    model.eval()\n",
    "    cer_scores = []\n",
    "    wer_scores = []\n",
    "    batches_processed = 0\n",
    "\n",
    "    with torch.no_grad():\n",
    "        for src, trg in dataloader:\n",
    "            src = src.to(DEVICE)\n",
    "            trg = trg.to(DEVICE)\n",
    "\n",
    "            outputs = model.predict(src, max_len=MAX_LEN)\n",
    "            outputs = outputs.cpu().tolist()\n",
    "            trg = trg.cpu().tolist()\n",
    "\n",
    "            for pred_ids, trg_ids in zip(outputs, trg):\n",
    "                \n",
    "                pred_ids = [i for i in pred_ids if i not in (PAD_IDX, EOS_IDX)]\n",
    "                trg_ids  = [i for i in trg_ids if i not in (PAD_IDX, EOS_IDX, BOS_IDX)]\n",
    "\n",
    "                pred_sentence = sp.DecodeIds(pred_ids)\n",
    "                trg_sentence = sp.DecodeIds(trg_ids)\n",
    "\n",
    "                cer_score = cer(trg_sentence, pred_sentence)\n",
    "                wer_score = wer(trg_sentence, pred_sentence)\n",
    "\n",
    "                cer_scores.append(cer_score)\n",
    "                wer_scores.append(wer_score)\n",
    "\n",
    "            batches_processed += 1\n",
    "            if max_batches and batches_processed >= max_batches:\n",
    "                break\n",
    "\n",
    "    avg_cer = float(np.mean(cer_scores))\n",
    "    avg_wer = float(np.mean(wer_scores))\n",
    "    return avg_cer, avg_wer"
   ]
  },
  {
   "cell_type": "code",
   "execution_count": null,
   "metadata": {},
   "outputs": [
    {
     "name": "stderr",
     "output_type": "stream",
     "text": [
      "Training Epoch 1/100: 100%|██████████| 1251/1251 [03:07<00:00,  6.69it/s]\n",
      "Validation Epoch 1/100: 100%|██████████| 157/157 [00:09<00:00, 16.80it/s]\n"
     ]
    },
    {
     "name": "stdout",
     "output_type": "stream",
     "text": [
      "\tTrain Loss: 6.353\n",
      "\tValid Loss: 6.013\n",
      "\tValid WER: 0.9482\n",
      "\tValid CER: 0.7752\n",
      "Validation loss improved. Model saved to ./output_lstm_subword/best_lstm_model_subword.pt.\n",
      "Validation CER improved. Model saved to ./output_lstm_subword/best_lstm_model_cer.pt.\n",
      "Epoch: 01 | Time: 3m 22s\n"
     ]
    },
    {
     "name": "stderr",
     "output_type": "stream",
     "text": [
      "Training Epoch 2/100: 100%|██████████| 1251/1251 [03:09<00:00,  6.60it/s]\n",
      "Validation Epoch 2/100: 100%|██████████| 157/157 [00:09<00:00, 16.84it/s]\n"
     ]
    },
    {
     "name": "stdout",
     "output_type": "stream",
     "text": [
      "\tTrain Loss: 5.878\n",
      "\tValid Loss: 5.738\n",
      "\tValid WER: 1.0575\n",
      "\tValid CER: 0.6991\n",
      "Validation loss improved. Model saved to ./output_lstm_subword/best_lstm_model_subword.pt.\n",
      "Validation CER improved. Model saved to ./output_lstm_subword/best_lstm_model_cer.pt.\n",
      "Epoch: 02 | Time: 3m 27s\n"
     ]
    },
    {
     "name": "stderr",
     "output_type": "stream",
     "text": [
      "Training Epoch 3/100: 100%|██████████| 1251/1251 [03:13<00:00,  6.48it/s]\n",
      "Validation Epoch 3/100: 100%|██████████| 157/157 [00:09<00:00, 16.65it/s]\n"
     ]
    },
    {
     "name": "stdout",
     "output_type": "stream",
     "text": [
      "\tTrain Loss: 5.650\n",
      "\tValid Loss: 5.584\n",
      "\tValid WER: 1.2605\n",
      "\tValid CER: 0.7681\n",
      "Validation loss improved. Model saved to ./output_lstm_subword/best_lstm_model_subword.pt.\n",
      "Epoch: 03 | Time: 3m 33s\n"
     ]
    },
    {
     "name": "stderr",
     "output_type": "stream",
     "text": [
      "Training Epoch 4/100: 100%|██████████| 1251/1251 [03:17<00:00,  6.34it/s]\n",
      "Validation Epoch 4/100: 100%|██████████| 157/157 [00:09<00:00, 16.42it/s]\n"
     ]
    },
    {
     "name": "stdout",
     "output_type": "stream",
     "text": [
      "\tTrain Loss: 5.517\n",
      "\tValid Loss: 5.475\n",
      "\tValid WER: 1.2323\n",
      "\tValid CER: 0.7504\n",
      "Validation loss improved. Model saved to ./output_lstm_subword/best_lstm_model_subword.pt.\n",
      "Epoch: 04 | Time: 3m 37s\n"
     ]
    },
    {
     "name": "stderr",
     "output_type": "stream",
     "text": [
      "Training Epoch 5/100: 100%|██████████| 1251/1251 [03:15<00:00,  6.40it/s]\n",
      "Validation Epoch 5/100: 100%|██████████| 157/157 [00:09<00:00, 16.41it/s]\n"
     ]
    },
    {
     "name": "stdout",
     "output_type": "stream",
     "text": [
      "\tTrain Loss: 5.411\n",
      "\tValid Loss: 5.384\n",
      "\tValid WER: 1.3991\n",
      "\tValid CER: 0.8393\n",
      "Validation loss improved. Model saved to ./output_lstm_subword/best_lstm_model_subword.pt.\n",
      "Epoch: 05 | Time: 3m 37s\n"
     ]
    },
    {
     "name": "stderr",
     "output_type": "stream",
     "text": [
      "Training Epoch 6/100: 100%|██████████| 1251/1251 [03:17<00:00,  6.34it/s]\n",
      "Validation Epoch 6/100: 100%|██████████| 157/157 [00:09<00:00, 16.46it/s]\n"
     ]
    },
    {
     "name": "stdout",
     "output_type": "stream",
     "text": [
      "\tTrain Loss: 5.315\n",
      "\tValid Loss: 5.299\n",
      "\tValid WER: 1.3997\n",
      "\tValid CER: 0.8414\n",
      "Validation loss improved. Model saved to ./output_lstm_subword/best_lstm_model_subword.pt.\n",
      "Epoch: 06 | Time: 3m 38s\n"
     ]
    },
    {
     "name": "stderr",
     "output_type": "stream",
     "text": [
      "Training Epoch 7/100: 100%|██████████| 1251/1251 [03:15<00:00,  6.38it/s]\n",
      "Validation Epoch 7/100: 100%|██████████| 157/157 [00:09<00:00, 16.49it/s]\n"
     ]
    },
    {
     "name": "stdout",
     "output_type": "stream",
     "text": [
      "\tTrain Loss: 5.225\n",
      "\tValid Loss: 5.225\n",
      "\tValid WER: 1.3651\n",
      "\tValid CER: 0.8618\n",
      "Validation loss improved. Model saved to ./output_lstm_subword/best_lstm_model_subword.pt.\n",
      "Epoch: 07 | Time: 3m 36s\n"
     ]
    },
    {
     "name": "stderr",
     "output_type": "stream",
     "text": [
      "Training Epoch 8/100: 100%|██████████| 1251/1251 [03:17<00:00,  6.33it/s]\n",
      "Validation Epoch 8/100: 100%|██████████| 157/157 [00:09<00:00, 16.46it/s]\n"
     ]
    },
    {
     "name": "stdout",
     "output_type": "stream",
     "text": [
      "\tTrain Loss: 5.145\n",
      "\tValid Loss: 5.166\n",
      "\tValid WER: 1.2954\n",
      "\tValid CER: 0.8099\n",
      "Validation loss improved. Model saved to ./output_lstm_subword/best_lstm_model_subword.pt.\n",
      "Epoch: 08 | Time: 3m 38s\n"
     ]
    },
    {
     "name": "stderr",
     "output_type": "stream",
     "text": [
      "Training Epoch 9/100: 100%|██████████| 1251/1251 [03:14<00:00,  6.44it/s]\n",
      "Validation Epoch 9/100: 100%|██████████| 157/157 [00:09<00:00, 17.12it/s]\n"
     ]
    },
    {
     "name": "stdout",
     "output_type": "stream",
     "text": [
      "\tTrain Loss: 5.071\n",
      "\tValid Loss: 5.098\n",
      "\tValid WER: 1.3481\n",
      "\tValid CER: 0.8611\n",
      "Validation loss improved. Model saved to ./output_lstm_subword/best_lstm_model_subword.pt.\n",
      "Epoch: 09 | Time: 3m 34s\n"
     ]
    },
    {
     "name": "stderr",
     "output_type": "stream",
     "text": [
      "Training Epoch 10/100: 100%|██████████| 1251/1251 [03:09<00:00,  6.61it/s]\n",
      "Validation Epoch 10/100: 100%|██████████| 157/157 [00:09<00:00, 17.26it/s]\n"
     ]
    },
    {
     "name": "stdout",
     "output_type": "stream",
     "text": [
      "\tTrain Loss: 4.991\n",
      "\tValid Loss: 5.029\n",
      "\tValid WER: 1.3798\n",
      "\tValid CER: 0.8591\n",
      "Validation loss improved. Model saved to ./output_lstm_subword/best_lstm_model_subword.pt.\n",
      "Epoch: 10 | Time: 3m 29s\n"
     ]
    },
    {
     "name": "stderr",
     "output_type": "stream",
     "text": [
      "Training Epoch 11/100: 100%|██████████| 1251/1251 [03:09<00:00,  6.61it/s]\n",
      "Validation Epoch 11/100: 100%|██████████| 157/157 [00:09<00:00, 17.29it/s]\n"
     ]
    },
    {
     "name": "stdout",
     "output_type": "stream",
     "text": [
      "\tTrain Loss: 4.910\n",
      "\tValid Loss: 4.966\n",
      "\tValid WER: 1.4000\n",
      "\tValid CER: 0.8686\n",
      "Validation loss improved. Model saved to ./output_lstm_subword/best_lstm_model_subword.pt.\n",
      "Epoch: 11 | Time: 3m 29s\n"
     ]
    },
    {
     "name": "stderr",
     "output_type": "stream",
     "text": [
      "Training Epoch 12/100: 100%|██████████| 1251/1251 [03:08<00:00,  6.62it/s]\n",
      "Validation Epoch 12/100: 100%|██████████| 157/157 [00:09<00:00, 17.27it/s]\n"
     ]
    },
    {
     "name": "stdout",
     "output_type": "stream",
     "text": [
      "\tTrain Loss: 4.823\n",
      "\tValid Loss: 4.884\n",
      "\tValid WER: 1.3372\n",
      "\tValid CER: 0.8334\n",
      "Validation loss improved. Model saved to ./output_lstm_subword/best_lstm_model_subword.pt.\n",
      "Epoch: 12 | Time: 3m 29s\n"
     ]
    },
    {
     "name": "stderr",
     "output_type": "stream",
     "text": [
      "Training Epoch 13/100: 100%|██████████| 1251/1251 [03:09<00:00,  6.60it/s]\n",
      "Validation Epoch 13/100: 100%|██████████| 157/157 [00:09<00:00, 17.29it/s]\n"
     ]
    },
    {
     "name": "stdout",
     "output_type": "stream",
     "text": [
      "\tTrain Loss: 4.734\n",
      "\tValid Loss: 4.810\n",
      "\tValid WER: 1.2830\n",
      "\tValid CER: 0.8215\n",
      "Validation loss improved. Model saved to ./output_lstm_subword/best_lstm_model_subword.pt.\n",
      "Epoch: 13 | Time: 3m 29s\n"
     ]
    },
    {
     "name": "stderr",
     "output_type": "stream",
     "text": [
      "Training Epoch 14/100: 100%|██████████| 1251/1251 [03:09<00:00,  6.61it/s]\n",
      "Validation Epoch 14/100: 100%|██████████| 157/157 [00:09<00:00, 17.22it/s]\n"
     ]
    },
    {
     "name": "stdout",
     "output_type": "stream",
     "text": [
      "\tTrain Loss: 4.644\n",
      "\tValid Loss: 4.736\n",
      "\tValid WER: 1.2428\n",
      "\tValid CER: 0.8084\n",
      "Validation loss improved. Model saved to ./output_lstm_subword/best_lstm_model_subword.pt.\n",
      "Epoch: 14 | Time: 3m 29s\n"
     ]
    },
    {
     "name": "stderr",
     "output_type": "stream",
     "text": [
      "Training Epoch 15/100: 100%|██████████| 1251/1251 [03:09<00:00,  6.61it/s]\n",
      "Validation Epoch 15/100: 100%|██████████| 157/157 [00:09<00:00, 17.27it/s]\n"
     ]
    },
    {
     "name": "stdout",
     "output_type": "stream",
     "text": [
      "\tTrain Loss: 4.555\n",
      "\tValid Loss: 4.660\n",
      "\tValid WER: 1.2708\n",
      "\tValid CER: 0.8320\n",
      "Validation loss improved. Model saved to ./output_lstm_subword/best_lstm_model_subword.pt.\n",
      "Epoch: 15 | Time: 3m 29s\n"
     ]
    },
    {
     "name": "stderr",
     "output_type": "stream",
     "text": [
      "Training Epoch 16/100: 100%|██████████| 1251/1251 [03:12<00:00,  6.48it/s]\n",
      "Validation Epoch 16/100: 100%|██████████| 157/157 [00:09<00:00, 17.38it/s]\n"
     ]
    },
    {
     "name": "stdout",
     "output_type": "stream",
     "text": [
      "\tTrain Loss: 4.469\n",
      "\tValid Loss: 4.586\n",
      "\tValid WER: 1.3097\n",
      "\tValid CER: 0.8532\n",
      "Validation loss improved. Model saved to ./output_lstm_subword/best_lstm_model_subword.pt.\n",
      "Epoch: 16 | Time: 3m 33s\n"
     ]
    },
    {
     "name": "stderr",
     "output_type": "stream",
     "text": [
      "Training Epoch 17/100: 100%|██████████| 1251/1251 [03:05<00:00,  6.73it/s]\n",
      "Validation Epoch 17/100: 100%|██████████| 157/157 [00:09<00:00, 17.40it/s]\n"
     ]
    },
    {
     "name": "stdout",
     "output_type": "stream",
     "text": [
      "\tTrain Loss: 4.385\n",
      "\tValid Loss: 4.519\n",
      "\tValid WER: 1.2246\n",
      "\tValid CER: 0.8046\n",
      "Validation loss improved. Model saved to ./output_lstm_subword/best_lstm_model_subword.pt.\n",
      "Epoch: 17 | Time: 3m 25s\n"
     ]
    },
    {
     "name": "stderr",
     "output_type": "stream",
     "text": [
      "Training Epoch 18/100: 100%|██████████| 1251/1251 [03:05<00:00,  6.76it/s]\n",
      "Validation Epoch 18/100: 100%|██████████| 157/157 [00:09<00:00, 17.39it/s]\n"
     ]
    },
    {
     "name": "stdout",
     "output_type": "stream",
     "text": [
      "\tTrain Loss: 4.302\n",
      "\tValid Loss: 4.456\n",
      "\tValid WER: 1.2189\n",
      "\tValid CER: 0.7987\n",
      "Validation loss improved. Model saved to ./output_lstm_subword/best_lstm_model_subword.pt.\n",
      "Epoch: 18 | Time: 3m 24s\n"
     ]
    },
    {
     "name": "stderr",
     "output_type": "stream",
     "text": [
      "Training Epoch 19/100: 100%|██████████| 1251/1251 [03:04<00:00,  6.79it/s]\n",
      "Validation Epoch 19/100: 100%|██████████| 157/157 [00:08<00:00, 17.51it/s]\n"
     ]
    },
    {
     "name": "stdout",
     "output_type": "stream",
     "text": [
      "\tTrain Loss: 4.225\n",
      "\tValid Loss: 4.390\n",
      "\tValid WER: 1.2292\n",
      "\tValid CER: 0.8057\n",
      "Validation loss improved. Model saved to ./output_lstm_subword/best_lstm_model_subword.pt.\n",
      "Epoch: 19 | Time: 3m 24s\n"
     ]
    },
    {
     "name": "stderr",
     "output_type": "stream",
     "text": [
      "Training Epoch 20/100: 100%|██████████| 1251/1251 [03:06<00:00,  6.72it/s]\n",
      "Validation Epoch 20/100: 100%|██████████| 157/157 [00:09<00:00, 17.27it/s]\n"
     ]
    },
    {
     "name": "stdout",
     "output_type": "stream",
     "text": [
      "\tTrain Loss: 4.148\n",
      "\tValid Loss: 4.334\n",
      "\tValid WER: 1.1969\n",
      "\tValid CER: 0.7872\n",
      "Validation loss improved. Model saved to ./output_lstm_subword/best_lstm_model_subword.pt.\n",
      "Epoch: 20 | Time: 3m 25s\n"
     ]
    },
    {
     "name": "stderr",
     "output_type": "stream",
     "text": [
      "Training Epoch 21/100: 100%|██████████| 1251/1251 [03:07<00:00,  6.68it/s]\n",
      "Validation Epoch 21/100: 100%|██████████| 157/157 [00:09<00:00, 17.26it/s]\n"
     ]
    },
    {
     "name": "stdout",
     "output_type": "stream",
     "text": [
      "\tTrain Loss: 4.073\n",
      "\tValid Loss: 4.280\n",
      "\tValid WER: 1.1896\n",
      "\tValid CER: 0.7917\n",
      "Validation loss improved. Model saved to ./output_lstm_subword/best_lstm_model_subword.pt.\n",
      "Epoch: 21 | Time: 3m 27s\n"
     ]
    },
    {
     "name": "stderr",
     "output_type": "stream",
     "text": [
      "Training Epoch 22/100: 100%|██████████| 1251/1251 [03:08<00:00,  6.62it/s]\n",
      "Validation Epoch 22/100: 100%|██████████| 157/157 [00:09<00:00, 17.24it/s]\n"
     ]
    },
    {
     "name": "stdout",
     "output_type": "stream",
     "text": [
      "\tTrain Loss: 4.001\n",
      "\tValid Loss: 4.220\n",
      "\tValid WER: 1.1868\n",
      "\tValid CER: 0.7865\n",
      "Validation loss improved. Model saved to ./output_lstm_subword/best_lstm_model_subword.pt.\n",
      "Epoch: 22 | Time: 3m 29s\n"
     ]
    },
    {
     "name": "stderr",
     "output_type": "stream",
     "text": [
      "Training Epoch 23/100: 100%|██████████| 1251/1251 [03:08<00:00,  6.63it/s]\n",
      "Validation Epoch 23/100: 100%|██████████| 157/157 [00:09<00:00, 17.25it/s]\n"
     ]
    },
    {
     "name": "stdout",
     "output_type": "stream",
     "text": [
      "\tTrain Loss: 3.929\n",
      "\tValid Loss: 4.179\n",
      "\tValid WER: 1.1559\n",
      "\tValid CER: 0.7651\n",
      "Validation loss improved. Model saved to ./output_lstm_subword/best_lstm_model_subword.pt.\n",
      "Epoch: 23 | Time: 3m 28s\n"
     ]
    },
    {
     "name": "stderr",
     "output_type": "stream",
     "text": [
      "Training Epoch 24/100: 100%|██████████| 1251/1251 [03:10<00:00,  6.57it/s]\n",
      "Validation Epoch 24/100: 100%|██████████| 157/157 [00:09<00:00, 16.56it/s]\n"
     ]
    },
    {
     "name": "stdout",
     "output_type": "stream",
     "text": [
      "\tTrain Loss: 3.860\n",
      "\tValid Loss: 4.120\n",
      "\tValid WER: 1.1499\n",
      "\tValid CER: 0.7682\n",
      "Validation loss improved. Model saved to ./output_lstm_subword/best_lstm_model_subword.pt.\n",
      "Epoch: 24 | Time: 3m 30s\n"
     ]
    },
    {
     "name": "stderr",
     "output_type": "stream",
     "text": [
      "Training Epoch 25/100: 100%|██████████| 1251/1251 [03:15<00:00,  6.40it/s]\n",
      "Validation Epoch 25/100: 100%|██████████| 157/157 [00:09<00:00, 16.50it/s]\n"
     ]
    },
    {
     "name": "stdout",
     "output_type": "stream",
     "text": [
      "\tTrain Loss: 3.793\n",
      "\tValid Loss: 4.077\n",
      "\tValid WER: 1.1047\n",
      "\tValid CER: 0.7477\n",
      "Validation loss improved. Model saved to ./output_lstm_subword/best_lstm_model_subword.pt.\n",
      "Epoch: 25 | Time: 3m 35s\n"
     ]
    },
    {
     "name": "stderr",
     "output_type": "stream",
     "text": [
      "Training Epoch 26/100: 100%|██████████| 1251/1251 [03:16<00:00,  6.37it/s]\n",
      "Validation Epoch 26/100: 100%|██████████| 157/157 [00:09<00:00, 16.35it/s]\n"
     ]
    },
    {
     "name": "stdout",
     "output_type": "stream",
     "text": [
      "\tTrain Loss: 3.728\n",
      "\tValid Loss: 4.031\n",
      "\tValid WER: 1.0797\n",
      "\tValid CER: 0.7369\n",
      "Validation loss improved. Model saved to ./output_lstm_subword/best_lstm_model_subword.pt.\n",
      "Epoch: 26 | Time: 3m 36s\n"
     ]
    },
    {
     "name": "stderr",
     "output_type": "stream",
     "text": [
      "Training Epoch 27/100: 100%|██████████| 1251/1251 [03:08<00:00,  6.63it/s]\n",
      "Validation Epoch 27/100: 100%|██████████| 157/157 [00:09<00:00, 17.16it/s]\n"
     ]
    },
    {
     "name": "stdout",
     "output_type": "stream",
     "text": [
      "\tTrain Loss: 3.664\n",
      "\tValid Loss: 3.984\n",
      "\tValid WER: 1.1358\n",
      "\tValid CER: 0.7621\n",
      "Validation loss improved. Model saved to ./output_lstm_subword/best_lstm_model_subword.pt.\n",
      "Epoch: 27 | Time: 3m 28s\n"
     ]
    },
    {
     "name": "stderr",
     "output_type": "stream",
     "text": [
      "Training Epoch 28/100: 100%|██████████| 1251/1251 [03:06<00:00,  6.71it/s]\n",
      "Validation Epoch 28/100: 100%|██████████| 157/157 [00:09<00:00, 17.34it/s]\n"
     ]
    },
    {
     "name": "stdout",
     "output_type": "stream",
     "text": [
      "\tTrain Loss: 3.603\n",
      "\tValid Loss: 3.947\n",
      "\tValid WER: 1.0791\n",
      "\tValid CER: 0.7323\n",
      "Validation loss improved. Model saved to ./output_lstm_subword/best_lstm_model_subword.pt.\n",
      "Epoch: 28 | Time: 3m 25s\n"
     ]
    },
    {
     "name": "stderr",
     "output_type": "stream",
     "text": [
      "Training Epoch 29/100: 100%|██████████| 1251/1251 [03:06<00:00,  6.71it/s]\n",
      "Validation Epoch 29/100: 100%|██████████| 157/157 [00:09<00:00, 17.34it/s]\n"
     ]
    },
    {
     "name": "stdout",
     "output_type": "stream",
     "text": [
      "\tTrain Loss: 3.542\n",
      "\tValid Loss: 3.905\n",
      "\tValid WER: 1.0882\n",
      "\tValid CER: 0.7407\n",
      "Validation loss improved. Model saved to ./output_lstm_subword/best_lstm_model_subword.pt.\n",
      "Epoch: 29 | Time: 3m 26s\n"
     ]
    },
    {
     "name": "stderr",
     "output_type": "stream",
     "text": [
      "Training Epoch 30/100: 100%|██████████| 1251/1251 [03:06<00:00,  6.72it/s]\n",
      "Validation Epoch 30/100: 100%|██████████| 157/157 [00:09<00:00, 17.43it/s]\n"
     ]
    },
    {
     "name": "stdout",
     "output_type": "stream",
     "text": [
      "\tTrain Loss: 3.482\n",
      "\tValid Loss: 3.870\n",
      "\tValid WER: 1.0853\n",
      "\tValid CER: 0.7413\n",
      "Validation loss improved. Model saved to ./output_lstm_subword/best_lstm_model_subword.pt.\n",
      "Epoch: 30 | Time: 3m 25s\n"
     ]
    },
    {
     "name": "stderr",
     "output_type": "stream",
     "text": [
      "Training Epoch 31/100: 100%|██████████| 1251/1251 [03:06<00:00,  6.72it/s]\n",
      "Validation Epoch 31/100: 100%|██████████| 157/157 [00:09<00:00, 17.32it/s]\n"
     ]
    },
    {
     "name": "stdout",
     "output_type": "stream",
     "text": [
      "\tTrain Loss: 3.425\n",
      "\tValid Loss: 3.829\n",
      "\tValid WER: 1.0611\n",
      "\tValid CER: 0.7290\n",
      "Validation loss improved. Model saved to ./output_lstm_subword/best_lstm_model_subword.pt.\n",
      "Epoch: 31 | Time: 3m 26s\n"
     ]
    },
    {
     "name": "stderr",
     "output_type": "stream",
     "text": [
      "Training Epoch 32/100: 100%|██████████| 1251/1251 [03:05<00:00,  6.75it/s]\n",
      "Validation Epoch 32/100: 100%|██████████| 157/157 [00:09<00:00, 17.33it/s]\n"
     ]
    },
    {
     "name": "stdout",
     "output_type": "stream",
     "text": [
      "\tTrain Loss: 3.367\n",
      "\tValid Loss: 3.793\n",
      "\tValid WER: 1.0174\n",
      "\tValid CER: 0.7059\n",
      "Validation loss improved. Model saved to ./output_lstm_subword/best_lstm_model_subword.pt.\n",
      "Epoch: 32 | Time: 3m 24s\n"
     ]
    },
    {
     "name": "stderr",
     "output_type": "stream",
     "text": [
      "Training Epoch 33/100: 100%|██████████| 1251/1251 [03:04<00:00,  6.77it/s]\n",
      "Validation Epoch 33/100: 100%|██████████| 157/157 [00:09<00:00, 17.42it/s]\n"
     ]
    },
    {
     "name": "stdout",
     "output_type": "stream",
     "text": [
      "\tTrain Loss: 3.313\n",
      "\tValid Loss: 3.761\n",
      "\tValid WER: 1.0270\n",
      "\tValid CER: 0.7128\n",
      "Validation loss improved. Model saved to ./output_lstm_subword/best_lstm_model_subword.pt.\n",
      "Epoch: 33 | Time: 3m 24s\n"
     ]
    },
    {
     "name": "stderr",
     "output_type": "stream",
     "text": [
      "Training Epoch 34/100: 100%|██████████| 1251/1251 [03:04<00:00,  6.77it/s]\n",
      "Validation Epoch 34/100: 100%|██████████| 157/157 [00:09<00:00, 16.54it/s]\n"
     ]
    },
    {
     "name": "stdout",
     "output_type": "stream",
     "text": [
      "\tTrain Loss: 3.260\n",
      "\tValid Loss: 3.724\n",
      "\tValid WER: 1.0173\n",
      "\tValid CER: 0.7078\n",
      "Validation loss improved. Model saved to ./output_lstm_subword/best_lstm_model_subword.pt.\n",
      "Epoch: 34 | Time: 3m 24s\n"
     ]
    },
    {
     "name": "stderr",
     "output_type": "stream",
     "text": [
      "Training Epoch 35/100: 100%|██████████| 1251/1251 [03:08<00:00,  6.64it/s]\n",
      "Validation Epoch 35/100: 100%|██████████| 157/157 [00:09<00:00, 17.33it/s]\n"
     ]
    },
    {
     "name": "stdout",
     "output_type": "stream",
     "text": [
      "\tTrain Loss: 3.207\n",
      "\tValid Loss: 3.700\n",
      "\tValid WER: 1.0090\n",
      "\tValid CER: 0.7033\n",
      "Validation loss improved. Model saved to ./output_lstm_subword/best_lstm_model_subword.pt.\n",
      "Epoch: 35 | Time: 3m 27s\n"
     ]
    },
    {
     "name": "stderr",
     "output_type": "stream",
     "text": [
      "Training Epoch 36/100: 100%|██████████| 1251/1251 [03:04<00:00,  6.79it/s]\n",
      "Validation Epoch 36/100: 100%|██████████| 157/157 [00:08<00:00, 17.60it/s]\n"
     ]
    },
    {
     "name": "stdout",
     "output_type": "stream",
     "text": [
      "\tTrain Loss: 3.154\n",
      "\tValid Loss: 3.670\n",
      "\tValid WER: 1.0008\n",
      "\tValid CER: 0.6981\n",
      "Validation loss improved. Model saved to ./output_lstm_subword/best_lstm_model_subword.pt.\n",
      "Validation CER improved. Model saved to ./output_lstm_subword/best_lstm_model_cer.pt.\n",
      "Epoch: 36 | Time: 3m 23s\n"
     ]
    },
    {
     "name": "stderr",
     "output_type": "stream",
     "text": [
      "Training Epoch 37/100: 100%|██████████| 1251/1251 [03:03<00:00,  6.81it/s]\n",
      "Validation Epoch 37/100: 100%|██████████| 157/157 [00:08<00:00, 17.64it/s]\n"
     ]
    },
    {
     "name": "stdout",
     "output_type": "stream",
     "text": [
      "\tTrain Loss: 3.104\n",
      "\tValid Loss: 3.644\n",
      "\tValid WER: 0.9807\n",
      "\tValid CER: 0.6889\n",
      "Validation loss improved. Model saved to ./output_lstm_subword/best_lstm_model_subword.pt.\n",
      "Validation CER improved. Model saved to ./output_lstm_subword/best_lstm_model_cer.pt.\n",
      "Epoch: 37 | Time: 3m 22s\n"
     ]
    },
    {
     "name": "stderr",
     "output_type": "stream",
     "text": [
      "Training Epoch 38/100: 100%|██████████| 1251/1251 [03:08<00:00,  6.63it/s]\n",
      "Validation Epoch 38/100: 100%|██████████| 157/157 [00:09<00:00, 16.90it/s]\n"
     ]
    },
    {
     "name": "stdout",
     "output_type": "stream",
     "text": [
      "\tTrain Loss: 3.055\n",
      "\tValid Loss: 3.621\n",
      "\tValid WER: 0.9662\n",
      "\tValid CER: 0.6836\n",
      "Validation loss improved. Model saved to ./output_lstm_subword/best_lstm_model_subword.pt.\n",
      "Validation CER improved. Model saved to ./output_lstm_subword/best_lstm_model_cer.pt.\n",
      "Epoch: 38 | Time: 3m 28s\n"
     ]
    },
    {
     "name": "stderr",
     "output_type": "stream",
     "text": [
      "Training Epoch 39/100: 100%|██████████| 1251/1251 [03:07<00:00,  6.68it/s]\n",
      "Validation Epoch 39/100: 100%|██████████| 157/157 [00:09<00:00, 17.26it/s]\n"
     ]
    },
    {
     "name": "stdout",
     "output_type": "stream",
     "text": [
      "\tTrain Loss: 3.008\n",
      "\tValid Loss: 3.592\n",
      "\tValid WER: 0.9824\n",
      "\tValid CER: 0.6884\n",
      "Validation loss improved. Model saved to ./output_lstm_subword/best_lstm_model_subword.pt.\n",
      "Epoch: 39 | Time: 3m 27s\n"
     ]
    },
    {
     "name": "stderr",
     "output_type": "stream",
     "text": [
      "Training Epoch 40/100: 100%|██████████| 1251/1251 [03:08<00:00,  6.65it/s]\n",
      "Validation Epoch 40/100: 100%|██████████| 157/157 [00:09<00:00, 17.19it/s]\n"
     ]
    },
    {
     "name": "stdout",
     "output_type": "stream",
     "text": [
      "\tTrain Loss: 2.960\n",
      "\tValid Loss: 3.564\n",
      "\tValid WER: 1.0194\n",
      "\tValid CER: 0.7158\n",
      "Validation loss improved. Model saved to ./output_lstm_subword/best_lstm_model_subword.pt.\n",
      "Epoch: 40 | Time: 3m 27s\n"
     ]
    },
    {
     "name": "stderr",
     "output_type": "stream",
     "text": [
      "Training Epoch 41/100: 100%|██████████| 1251/1251 [03:08<00:00,  6.62it/s]\n",
      "Validation Epoch 41/100: 100%|██████████| 157/157 [00:09<00:00, 17.23it/s]\n"
     ]
    },
    {
     "name": "stdout",
     "output_type": "stream",
     "text": [
      "\tTrain Loss: 2.913\n",
      "\tValid Loss: 3.548\n",
      "\tValid WER: 1.0765\n",
      "\tValid CER: 0.7494\n",
      "Validation loss improved. Model saved to ./output_lstm_subword/best_lstm_model_subword.pt.\n",
      "Epoch: 41 | Time: 3m 28s\n"
     ]
    },
    {
     "name": "stderr",
     "output_type": "stream",
     "text": [
      "Training Epoch 42/100: 100%|██████████| 1251/1251 [03:09<00:00,  6.61it/s]\n",
      "Validation Epoch 42/100: 100%|██████████| 157/157 [00:09<00:00, 17.14it/s]\n"
     ]
    },
    {
     "name": "stdout",
     "output_type": "stream",
     "text": [
      "\tTrain Loss: 2.867\n",
      "\tValid Loss: 3.523\n",
      "\tValid WER: 1.0796\n",
      "\tValid CER: 0.7513\n",
      "Validation loss improved. Model saved to ./output_lstm_subword/best_lstm_model_subword.pt.\n",
      "Epoch: 42 | Time: 3m 28s\n"
     ]
    },
    {
     "name": "stderr",
     "output_type": "stream",
     "text": [
      "Training Epoch 43/100: 100%|██████████| 1251/1251 [03:10<00:00,  6.57it/s]\n",
      "Validation Epoch 43/100: 100%|██████████| 157/157 [00:09<00:00, 17.24it/s]\n"
     ]
    },
    {
     "name": "stdout",
     "output_type": "stream",
     "text": [
      "\tTrain Loss: 2.820\n",
      "\tValid Loss: 3.502\n",
      "\tValid WER: 0.9404\n",
      "\tValid CER: 0.6702\n",
      "Validation loss improved. Model saved to ./output_lstm_subword/best_lstm_model_subword.pt.\n",
      "Validation CER improved. Model saved to ./output_lstm_subword/best_lstm_model_cer.pt.\n",
      "Epoch: 43 | Time: 3m 29s\n"
     ]
    },
    {
     "name": "stderr",
     "output_type": "stream",
     "text": [
      "Training Epoch 44/100: 100%|██████████| 1251/1251 [03:09<00:00,  6.61it/s]\n",
      "Validation Epoch 44/100: 100%|██████████| 157/157 [00:09<00:00, 17.17it/s]\n"
     ]
    },
    {
     "name": "stdout",
     "output_type": "stream",
     "text": [
      "\tTrain Loss: 2.778\n",
      "\tValid Loss: 3.481\n",
      "\tValid WER: 0.9632\n",
      "\tValid CER: 0.6860\n",
      "Validation loss improved. Model saved to ./output_lstm_subword/best_lstm_model_subword.pt.\n",
      "Epoch: 44 | Time: 3m 28s\n"
     ]
    },
    {
     "name": "stderr",
     "output_type": "stream",
     "text": [
      "Training Epoch 45/100: 100%|██████████| 1251/1251 [03:09<00:00,  6.61it/s]\n",
      "Validation Epoch 45/100: 100%|██████████| 157/157 [00:09<00:00, 17.27it/s]\n"
     ]
    },
    {
     "name": "stdout",
     "output_type": "stream",
     "text": [
      "\tTrain Loss: 2.734\n",
      "\tValid Loss: 3.465\n",
      "\tValid WER: 0.9781\n",
      "\tValid CER: 0.6966\n",
      "Validation loss improved. Model saved to ./output_lstm_subword/best_lstm_model_subword.pt.\n",
      "Epoch: 45 | Time: 3m 28s\n"
     ]
    },
    {
     "name": "stderr",
     "output_type": "stream",
     "text": [
      "Training Epoch 46/100: 100%|██████████| 1251/1251 [03:17<00:00,  6.33it/s]\n",
      "Validation Epoch 46/100: 100%|██████████| 157/157 [00:09<00:00, 16.32it/s]\n"
     ]
    },
    {
     "name": "stdout",
     "output_type": "stream",
     "text": [
      "\tTrain Loss: 2.691\n",
      "\tValid Loss: 3.441\n",
      "\tValid WER: 0.9103\n",
      "\tValid CER: 0.6561\n",
      "Validation loss improved. Model saved to ./output_lstm_subword/best_lstm_model_subword.pt.\n",
      "Validation CER improved. Model saved to ./output_lstm_subword/best_lstm_model_cer.pt.\n",
      "Epoch: 46 | Time: 3m 37s\n"
     ]
    },
    {
     "name": "stderr",
     "output_type": "stream",
     "text": [
      "Training Epoch 47/100: 100%|██████████| 1251/1251 [03:17<00:00,  6.33it/s]\n",
      "Validation Epoch 47/100: 100%|██████████| 157/157 [00:09<00:00, 16.51it/s]\n"
     ]
    },
    {
     "name": "stdout",
     "output_type": "stream",
     "text": [
      "\tTrain Loss: 2.650\n",
      "\tValid Loss: 3.423\n",
      "\tValid WER: 0.9067\n",
      "\tValid CER: 0.6536\n",
      "Validation loss improved. Model saved to ./output_lstm_subword/best_lstm_model_subword.pt.\n",
      "Validation CER improved. Model saved to ./output_lstm_subword/best_lstm_model_cer.pt.\n",
      "Epoch: 47 | Time: 3m 37s\n"
     ]
    },
    {
     "name": "stderr",
     "output_type": "stream",
     "text": [
      "Training Epoch 48/100: 100%|██████████| 1251/1251 [03:17<00:00,  6.32it/s]\n",
      "Validation Epoch 48/100: 100%|██████████| 157/157 [00:09<00:00, 16.55it/s]\n"
     ]
    },
    {
     "name": "stdout",
     "output_type": "stream",
     "text": [
      "\tTrain Loss: 2.610\n",
      "\tValid Loss: 3.410\n",
      "\tValid WER: 0.9123\n",
      "\tValid CER: 0.6605\n",
      "Validation loss improved. Model saved to ./output_lstm_subword/best_lstm_model_subword.pt.\n",
      "Epoch: 48 | Time: 3m 37s\n"
     ]
    },
    {
     "name": "stderr",
     "output_type": "stream",
     "text": [
      "Training Epoch 49/100: 100%|██████████| 1251/1251 [03:18<00:00,  6.31it/s]\n",
      "Validation Epoch 49/100: 100%|██████████| 157/157 [00:09<00:00, 16.47it/s]\n"
     ]
    },
    {
     "name": "stdout",
     "output_type": "stream",
     "text": [
      "\tTrain Loss: 2.569\n",
      "\tValid Loss: 3.389\n",
      "\tValid WER: 0.9269\n",
      "\tValid CER: 0.6680\n",
      "Validation loss improved. Model saved to ./output_lstm_subword/best_lstm_model_subword.pt.\n",
      "Epoch: 49 | Time: 3m 38s\n"
     ]
    },
    {
     "name": "stderr",
     "output_type": "stream",
     "text": [
      "Training Epoch 50/100: 100%|██████████| 1251/1251 [03:17<00:00,  6.34it/s]\n",
      "Validation Epoch 50/100: 100%|██████████| 157/157 [00:09<00:00, 16.47it/s]\n"
     ]
    },
    {
     "name": "stdout",
     "output_type": "stream",
     "text": [
      "\tTrain Loss: 2.530\n",
      "\tValid Loss: 3.374\n",
      "\tValid WER: 0.9041\n",
      "\tValid CER: 0.6624\n",
      "Validation loss improved. Model saved to ./output_lstm_subword/best_lstm_model_subword.pt.\n",
      "Epoch: 50 | Time: 3m 37s\n"
     ]
    },
    {
     "name": "stderr",
     "output_type": "stream",
     "text": [
      "Training Epoch 51/100: 100%|██████████| 1251/1251 [03:17<00:00,  6.35it/s]\n",
      "Validation Epoch 51/100: 100%|██████████| 157/157 [00:09<00:00, 16.59it/s]\n"
     ]
    },
    {
     "name": "stdout",
     "output_type": "stream",
     "text": [
      "\tTrain Loss: 2.490\n",
      "\tValid Loss: 3.356\n",
      "\tValid WER: 0.9029\n",
      "\tValid CER: 0.6568\n",
      "Validation loss improved. Model saved to ./output_lstm_subword/best_lstm_model_subword.pt.\n",
      "Epoch: 51 | Time: 3m 36s\n"
     ]
    },
    {
     "name": "stderr",
     "output_type": "stream",
     "text": [
      "Training Epoch 52/100: 100%|██████████| 1251/1251 [03:17<00:00,  6.34it/s]\n",
      "Validation Epoch 52/100: 100%|██████████| 157/157 [00:09<00:00, 16.54it/s]\n"
     ]
    },
    {
     "name": "stdout",
     "output_type": "stream",
     "text": [
      "\tTrain Loss: 2.454\n",
      "\tValid Loss: 3.345\n",
      "\tValid WER: 0.9551\n",
      "\tValid CER: 0.6981\n",
      "Validation loss improved. Model saved to ./output_lstm_subword/best_lstm_model_subword.pt.\n",
      "Epoch: 52 | Time: 3m 36s\n"
     ]
    },
    {
     "name": "stderr",
     "output_type": "stream",
     "text": [
      "Training Epoch 53/100: 100%|██████████| 1251/1251 [03:17<00:00,  6.34it/s]\n",
      "Validation Epoch 53/100: 100%|██████████| 157/157 [00:09<00:00, 16.53it/s]\n"
     ]
    },
    {
     "name": "stdout",
     "output_type": "stream",
     "text": [
      "\tTrain Loss: 2.415\n",
      "\tValid Loss: 3.336\n",
      "\tValid WER: 0.9947\n",
      "\tValid CER: 0.7352\n",
      "Validation loss improved. Model saved to ./output_lstm_subword/best_lstm_model_subword.pt.\n",
      "Epoch: 53 | Time: 3m 37s\n"
     ]
    },
    {
     "name": "stderr",
     "output_type": "stream",
     "text": [
      "Training Epoch 54/100: 100%|██████████| 1251/1251 [03:17<00:00,  6.34it/s]\n",
      "Validation Epoch 54/100: 100%|██████████| 157/157 [00:09<00:00, 16.51it/s]\n"
     ]
    },
    {
     "name": "stdout",
     "output_type": "stream",
     "text": [
      "\tTrain Loss: 2.377\n",
      "\tValid Loss: 3.326\n",
      "\tValid WER: 0.9959\n",
      "\tValid CER: 0.7348\n",
      "Validation loss improved. Model saved to ./output_lstm_subword/best_lstm_model_subword.pt.\n",
      "Epoch: 54 | Time: 3m 37s\n"
     ]
    },
    {
     "name": "stderr",
     "output_type": "stream",
     "text": [
      "Training Epoch 55/100: 100%|██████████| 1251/1251 [03:17<00:00,  6.33it/s]\n",
      "Validation Epoch 55/100: 100%|██████████| 157/157 [00:09<00:00, 16.49it/s]\n"
     ]
    },
    {
     "name": "stdout",
     "output_type": "stream",
     "text": [
      "\tTrain Loss: 2.341\n",
      "\tValid Loss: 3.308\n",
      "\tValid WER: 1.0417\n",
      "\tValid CER: 0.7607\n",
      "Validation loss improved. Model saved to ./output_lstm_subword/best_lstm_model_subword.pt.\n",
      "Epoch: 55 | Time: 3m 37s\n"
     ]
    },
    {
     "name": "stderr",
     "output_type": "stream",
     "text": [
      "Training Epoch 56/100: 100%|██████████| 1251/1251 [03:17<00:00,  6.32it/s]\n",
      "Validation Epoch 56/100: 100%|██████████| 157/157 [00:09<00:00, 16.44it/s]\n"
     ]
    },
    {
     "name": "stdout",
     "output_type": "stream",
     "text": [
      "\tTrain Loss: 2.306\n",
      "\tValid Loss: 3.299\n",
      "\tValid WER: 1.1028\n",
      "\tValid CER: 0.8497\n",
      "Validation loss improved. Model saved to ./output_lstm_subword/best_lstm_model_subword.pt.\n",
      "Epoch: 56 | Time: 3m 37s\n"
     ]
    },
    {
     "name": "stderr",
     "output_type": "stream",
     "text": [
      "Training Epoch 57/100: 100%|██████████| 1251/1251 [03:18<00:00,  6.30it/s]\n",
      "Validation Epoch 57/100: 100%|██████████| 157/157 [00:09<00:00, 16.52it/s]\n"
     ]
    },
    {
     "name": "stdout",
     "output_type": "stream",
     "text": [
      "\tTrain Loss: 2.270\n",
      "\tValid Loss: 3.291\n",
      "\tValid WER: 1.0428\n",
      "\tValid CER: 0.7959\n",
      "Validation loss improved. Model saved to ./output_lstm_subword/best_lstm_model_subword.pt.\n",
      "Epoch: 57 | Time: 3m 38s\n"
     ]
    },
    {
     "name": "stderr",
     "output_type": "stream",
     "text": [
      "Training Epoch 58/100: 100%|██████████| 1251/1251 [03:17<00:00,  6.33it/s]\n",
      "Validation Epoch 58/100: 100%|██████████| 157/157 [00:09<00:00, 16.51it/s]\n"
     ]
    },
    {
     "name": "stdout",
     "output_type": "stream",
     "text": [
      "\tTrain Loss: 2.236\n",
      "\tValid Loss: 3.271\n",
      "\tValid WER: 1.0200\n",
      "\tValid CER: 0.7596\n",
      "Validation loss improved. Model saved to ./output_lstm_subword/best_lstm_model_subword.pt.\n",
      "Epoch: 58 | Time: 3m 37s\n"
     ]
    },
    {
     "name": "stderr",
     "output_type": "stream",
     "text": [
      "Training Epoch 59/100: 100%|██████████| 1251/1251 [03:17<00:00,  6.33it/s]\n",
      "Validation Epoch 59/100: 100%|██████████| 157/157 [00:09<00:00, 16.50it/s]\n"
     ]
    },
    {
     "name": "stdout",
     "output_type": "stream",
     "text": [
      "\tTrain Loss: 2.202\n",
      "\tValid Loss: 3.271\n",
      "\tValid WER: 1.0030\n",
      "\tValid CER: 0.7350\n",
      "Epoch: 59 | Time: 3m 37s\n"
     ]
    },
    {
     "name": "stderr",
     "output_type": "stream",
     "text": [
      "Training Epoch 60/100: 100%|██████████| 1251/1251 [03:17<00:00,  6.33it/s]\n",
      "Validation Epoch 60/100: 100%|██████████| 157/157 [00:09<00:00, 16.50it/s]\n"
     ]
    },
    {
     "name": "stdout",
     "output_type": "stream",
     "text": [
      "\tTrain Loss: 2.171\n",
      "\tValid Loss: 3.262\n",
      "\tValid WER: 0.9613\n",
      "\tValid CER: 0.7188\n",
      "Validation loss improved. Model saved to ./output_lstm_subword/best_lstm_model_subword.pt.\n",
      "Epoch: 60 | Time: 3m 37s\n"
     ]
    },
    {
     "name": "stderr",
     "output_type": "stream",
     "text": [
      "Training Epoch 61/100: 100%|██████████| 1251/1251 [03:17<00:00,  6.33it/s]\n",
      "Validation Epoch 61/100: 100%|██████████| 157/157 [00:09<00:00, 16.38it/s]\n"
     ]
    },
    {
     "name": "stdout",
     "output_type": "stream",
     "text": [
      "\tTrain Loss: 2.135\n",
      "\tValid Loss: 3.248\n",
      "\tValid WER: 1.1146\n",
      "\tValid CER: 0.8459\n",
      "Validation loss improved. Model saved to ./output_lstm_subword/best_lstm_model_subword.pt.\n",
      "Epoch: 61 | Time: 3m 37s\n"
     ]
    },
    {
     "name": "stderr",
     "output_type": "stream",
     "text": [
      "Training Epoch 62/100: 100%|██████████| 1251/1251 [03:17<00:00,  6.33it/s]\n",
      "Validation Epoch 62/100: 100%|██████████| 157/157 [00:09<00:00, 16.46it/s]\n"
     ]
    },
    {
     "name": "stdout",
     "output_type": "stream",
     "text": [
      "\tTrain Loss: 2.102\n",
      "\tValid Loss: 3.241\n",
      "\tValid WER: 0.9611\n",
      "\tValid CER: 0.7237\n",
      "Validation loss improved. Model saved to ./output_lstm_subword/best_lstm_model_subword.pt.\n",
      "Epoch: 62 | Time: 3m 36s\n"
     ]
    },
    {
     "name": "stderr",
     "output_type": "stream",
     "text": [
      "Training Epoch 63/100: 100%|██████████| 1251/1251 [03:16<00:00,  6.37it/s]\n",
      "Validation Epoch 63/100: 100%|██████████| 157/157 [00:09<00:00, 17.19it/s]\n"
     ]
    },
    {
     "name": "stdout",
     "output_type": "stream",
     "text": [
      "\tTrain Loss: 2.071\n",
      "\tValid Loss: 3.235\n",
      "\tValid WER: 0.9178\n",
      "\tValid CER: 0.6849\n",
      "Validation loss improved. Model saved to ./output_lstm_subword/best_lstm_model_subword.pt.\n",
      "Epoch: 63 | Time: 3m 35s\n"
     ]
    },
    {
     "name": "stderr",
     "output_type": "stream",
     "text": [
      "Training Epoch 64/100: 100%|██████████| 1251/1251 [03:09<00:00,  6.60it/s]\n",
      "Validation Epoch 64/100: 100%|██████████| 157/157 [00:09<00:00, 17.21it/s]\n"
     ]
    },
    {
     "name": "stdout",
     "output_type": "stream",
     "text": [
      "\tTrain Loss: 2.041\n",
      "\tValid Loss: 3.230\n",
      "\tValid WER: 0.9704\n",
      "\tValid CER: 0.7326\n",
      "Validation loss improved. Model saved to ./output_lstm_subword/best_lstm_model_subword.pt.\n",
      "Epoch: 64 | Time: 3m 28s\n"
     ]
    },
    {
     "name": "stderr",
     "output_type": "stream",
     "text": [
      "Training Epoch 65/100: 100%|██████████| 1251/1251 [03:15<00:00,  6.40it/s]\n",
      "Validation Epoch 65/100: 100%|██████████| 157/157 [00:09<00:00, 16.41it/s]\n"
     ]
    },
    {
     "name": "stdout",
     "output_type": "stream",
     "text": [
      "\tTrain Loss: 2.009\n",
      "\tValid Loss: 3.229\n",
      "\tValid WER: 1.0545\n",
      "\tValid CER: 0.7930\n",
      "Validation loss improved. Model saved to ./output_lstm_subword/best_lstm_model_subword.pt.\n",
      "Epoch: 65 | Time: 3m 35s\n"
     ]
    },
    {
     "name": "stderr",
     "output_type": "stream",
     "text": [
      "Training Epoch 66/100: 100%|██████████| 1251/1251 [03:17<00:00,  6.33it/s]\n",
      "Validation Epoch 66/100: 100%|██████████| 157/157 [00:09<00:00, 16.51it/s]\n"
     ]
    },
    {
     "name": "stdout",
     "output_type": "stream",
     "text": [
      "\tTrain Loss: 1.980\n",
      "\tValid Loss: 3.216\n",
      "\tValid WER: 1.0129\n",
      "\tValid CER: 0.7746\n",
      "Validation loss improved. Model saved to ./output_lstm_subword/best_lstm_model_subword.pt.\n",
      "Epoch: 66 | Time: 3m 37s\n"
     ]
    },
    {
     "name": "stderr",
     "output_type": "stream",
     "text": [
      "Training Epoch 67/100: 100%|██████████| 1251/1251 [03:17<00:00,  6.34it/s]\n",
      "Validation Epoch 67/100: 100%|██████████| 157/157 [00:09<00:00, 16.54it/s]\n"
     ]
    },
    {
     "name": "stdout",
     "output_type": "stream",
     "text": [
      "\tTrain Loss: 1.950\n",
      "\tValid Loss: 3.217\n",
      "\tValid WER: 1.0628\n",
      "\tValid CER: 0.8263\n",
      "Epoch: 67 | Time: 3m 36s\n"
     ]
    },
    {
     "name": "stderr",
     "output_type": "stream",
     "text": [
      "Training Epoch 68/100: 100%|██████████| 1251/1251 [03:17<00:00,  6.33it/s]\n",
      "Validation Epoch 68/100: 100%|██████████| 157/157 [00:09<00:00, 16.43it/s]\n"
     ]
    },
    {
     "name": "stdout",
     "output_type": "stream",
     "text": [
      "\tTrain Loss: 1.920\n",
      "\tValid Loss: 3.211\n",
      "\tValid WER: 1.1230\n",
      "\tValid CER: 0.8810\n",
      "Validation loss improved. Model saved to ./output_lstm_subword/best_lstm_model_subword.pt.\n",
      "Epoch: 68 | Time: 3m 37s\n"
     ]
    },
    {
     "name": "stderr",
     "output_type": "stream",
     "text": [
      "Training Epoch 69/100: 100%|██████████| 1251/1251 [03:17<00:00,  6.33it/s]\n",
      "Validation Epoch 69/100: 100%|██████████| 157/157 [00:09<00:00, 16.54it/s]\n"
     ]
    },
    {
     "name": "stdout",
     "output_type": "stream",
     "text": [
      "\tTrain Loss: 1.889\n",
      "\tValid Loss: 3.204\n",
      "\tValid WER: 1.0565\n",
      "\tValid CER: 0.8157\n",
      "Validation loss improved. Model saved to ./output_lstm_subword/best_lstm_model_subword.pt.\n",
      "Epoch: 69 | Time: 3m 37s\n"
     ]
    },
    {
     "name": "stderr",
     "output_type": "stream",
     "text": [
      "Training Epoch 70/100: 100%|██████████| 1251/1251 [03:17<00:00,  6.32it/s]\n",
      "Validation Epoch 70/100: 100%|██████████| 157/157 [00:09<00:00, 16.51it/s]\n"
     ]
    },
    {
     "name": "stdout",
     "output_type": "stream",
     "text": [
      "\tTrain Loss: 1.864\n",
      "\tValid Loss: 3.199\n",
      "\tValid WER: 1.1217\n",
      "\tValid CER: 0.8649\n",
      "Validation loss improved. Model saved to ./output_lstm_subword/best_lstm_model_subword.pt.\n",
      "Epoch: 70 | Time: 3m 37s\n"
     ]
    },
    {
     "name": "stderr",
     "output_type": "stream",
     "text": [
      "Training Epoch 71/100: 100%|██████████| 1251/1251 [03:17<00:00,  6.34it/s]\n",
      "Validation Epoch 71/100: 100%|██████████| 157/157 [00:09<00:00, 16.41it/s]\n"
     ]
    },
    {
     "name": "stdout",
     "output_type": "stream",
     "text": [
      "\tTrain Loss: 1.834\n",
      "\tValid Loss: 3.196\n",
      "\tValid WER: 1.1833\n",
      "\tValid CER: 0.9137\n",
      "Validation loss improved. Model saved to ./output_lstm_subword/best_lstm_model_subword.pt.\n",
      "Epoch: 71 | Time: 3m 37s\n"
     ]
    },
    {
     "name": "stderr",
     "output_type": "stream",
     "text": [
      "Training Epoch 72/100: 100%|██████████| 1251/1251 [03:17<00:00,  6.33it/s]\n",
      "Validation Epoch 72/100: 100%|██████████| 157/157 [00:09<00:00, 16.47it/s]\n"
     ]
    },
    {
     "name": "stdout",
     "output_type": "stream",
     "text": [
      "\tTrain Loss: 1.807\n",
      "\tValid Loss: 3.196\n",
      "\tValid WER: 1.0905\n",
      "\tValid CER: 0.8461\n",
      "Epoch: 72 | Time: 3m 37s\n"
     ]
    },
    {
     "name": "stderr",
     "output_type": "stream",
     "text": [
      "Training Epoch 73/100: 100%|██████████| 1251/1251 [03:17<00:00,  6.33it/s]\n",
      "Validation Epoch 73/100: 100%|██████████| 157/157 [00:09<00:00, 16.40it/s]\n"
     ]
    },
    {
     "name": "stdout",
     "output_type": "stream",
     "text": [
      "\tTrain Loss: 1.779\n",
      "\tValid Loss: 3.191\n",
      "\tValid WER: 1.1799\n",
      "\tValid CER: 0.8974\n",
      "Validation loss improved. Model saved to ./output_lstm_subword/best_lstm_model_subword.pt.\n",
      "Epoch: 73 | Time: 3m 37s\n"
     ]
    },
    {
     "name": "stderr",
     "output_type": "stream",
     "text": [
      "Training Epoch 74/100: 100%|██████████| 1251/1251 [03:18<00:00,  6.31it/s]\n",
      "Validation Epoch 74/100: 100%|██████████| 157/157 [00:09<00:00, 16.43it/s]\n"
     ]
    },
    {
     "name": "stdout",
     "output_type": "stream",
     "text": [
      "\tTrain Loss: 1.753\n",
      "\tValid Loss: 3.189\n",
      "\tValid WER: 1.0832\n",
      "\tValid CER: 0.8318\n",
      "Validation loss improved. Model saved to ./output_lstm_subword/best_lstm_model_subword.pt.\n",
      "Epoch: 74 | Time: 3m 38s\n"
     ]
    },
    {
     "name": "stderr",
     "output_type": "stream",
     "text": [
      "Training Epoch 75/100: 100%|██████████| 1251/1251 [03:17<00:00,  6.34it/s]\n",
      "Validation Epoch 75/100: 100%|██████████| 157/157 [00:09<00:00, 16.50it/s]\n"
     ]
    },
    {
     "name": "stdout",
     "output_type": "stream",
     "text": [
      "\tTrain Loss: 1.727\n",
      "\tValid Loss: 3.191\n",
      "\tValid WER: 1.0286\n",
      "\tValid CER: 0.7870\n",
      "Epoch: 75 | Time: 3m 36s\n"
     ]
    },
    {
     "name": "stderr",
     "output_type": "stream",
     "text": [
      "Training Epoch 76/100: 100%|██████████| 1251/1251 [03:17<00:00,  6.33it/s]\n",
      "Validation Epoch 76/100: 100%|██████████| 157/157 [00:09<00:00, 16.41it/s]\n"
     ]
    },
    {
     "name": "stdout",
     "output_type": "stream",
     "text": [
      "\tTrain Loss: 1.699\n",
      "\tValid Loss: 3.188\n",
      "\tValid WER: 1.0266\n",
      "\tValid CER: 0.7875\n",
      "Validation loss improved. Model saved to ./output_lstm_subword/best_lstm_model_subword.pt.\n",
      "Epoch: 76 | Time: 3m 37s\n"
     ]
    },
    {
     "name": "stderr",
     "output_type": "stream",
     "text": [
      "Training Epoch 77/100: 100%|██████████| 1251/1251 [03:17<00:00,  6.33it/s]\n",
      "Validation Epoch 77/100: 100%|██████████| 157/157 [00:09<00:00, 16.33it/s]\n"
     ]
    },
    {
     "name": "stdout",
     "output_type": "stream",
     "text": [
      "\tTrain Loss: 1.675\n",
      "\tValid Loss: 3.190\n",
      "\tValid WER: 0.9205\n",
      "\tValid CER: 0.6966\n",
      "Epoch: 77 | Time: 3m 37s\n"
     ]
    },
    {
     "name": "stderr",
     "output_type": "stream",
     "text": [
      "Training Epoch 78/100: 100%|██████████| 1251/1251 [03:17<00:00,  6.33it/s]\n",
      "Validation Epoch 78/100: 100%|██████████| 157/157 [00:09<00:00, 16.58it/s]\n"
     ]
    },
    {
     "name": "stdout",
     "output_type": "stream",
     "text": [
      "\tTrain Loss: 1.650\n",
      "\tValid Loss: 3.185\n",
      "\tValid WER: 0.9257\n",
      "\tValid CER: 0.6991\n",
      "Validation loss improved. Model saved to ./output_lstm_subword/best_lstm_model_subword.pt.\n",
      "Epoch: 78 | Time: 3m 37s\n"
     ]
    },
    {
     "name": "stderr",
     "output_type": "stream",
     "text": [
      "Training Epoch 79/100: 100%|██████████| 1251/1251 [03:17<00:00,  6.33it/s]\n",
      "Validation Epoch 79/100: 100%|██████████| 157/157 [00:09<00:00, 17.17it/s]\n"
     ]
    },
    {
     "name": "stdout",
     "output_type": "stream",
     "text": [
      "\tTrain Loss: 1.623\n",
      "\tValid Loss: 3.187\n",
      "\tValid WER: 0.9468\n",
      "\tValid CER: 0.7244\n",
      "Epoch: 79 | Time: 3m 36s\n"
     ]
    },
    {
     "name": "stderr",
     "output_type": "stream",
     "text": [
      "Training Epoch 80/100: 100%|██████████| 1251/1251 [03:13<00:00,  6.48it/s]\n",
      "Validation Epoch 80/100: 100%|██████████| 157/157 [00:09<00:00, 17.16it/s]\n"
     ]
    },
    {
     "name": "stdout",
     "output_type": "stream",
     "text": [
      "\tTrain Loss: 1.601\n",
      "\tValid Loss: 3.178\n",
      "\tValid WER: 0.9187\n",
      "\tValid CER: 0.6957\n",
      "Validation loss improved. Model saved to ./output_lstm_subword/best_lstm_model_subword.pt.\n",
      "Epoch: 80 | Time: 3m 32s\n"
     ]
    },
    {
     "name": "stderr",
     "output_type": "stream",
     "text": [
      "Training Epoch 81/100: 100%|██████████| 1251/1251 [03:13<00:00,  6.47it/s]\n",
      "Validation Epoch 81/100: 100%|██████████| 157/157 [00:09<00:00, 16.38it/s]\n"
     ]
    },
    {
     "name": "stdout",
     "output_type": "stream",
     "text": [
      "\tTrain Loss: 1.576\n",
      "\tValid Loss: 3.180\n",
      "\tValid WER: 0.9435\n",
      "\tValid CER: 0.7130\n",
      "Epoch: 81 | Time: 3m 33s\n"
     ]
    },
    {
     "name": "stderr",
     "output_type": "stream",
     "text": [
      "Training Epoch 82/100: 100%|██████████| 1251/1251 [03:17<00:00,  6.34it/s]\n",
      "Validation Epoch 82/100: 100%|██████████| 157/157 [00:09<00:00, 16.42it/s]\n"
     ]
    },
    {
     "name": "stdout",
     "output_type": "stream",
     "text": [
      "\tTrain Loss: 1.553\n",
      "\tValid Loss: 3.179\n",
      "\tValid WER: 0.8884\n",
      "\tValid CER: 0.6728\n",
      "Epoch: 82 | Time: 3m 36s\n"
     ]
    },
    {
     "name": "stderr",
     "output_type": "stream",
     "text": [
      "Training Epoch 83/100: 100%|██████████| 1251/1251 [03:14<00:00,  6.42it/s]\n",
      "Validation Epoch 83/100: 100%|██████████| 157/157 [00:09<00:00, 17.14it/s]\n"
     ]
    },
    {
     "name": "stdout",
     "output_type": "stream",
     "text": [
      "\tTrain Loss: 1.530\n",
      "\tValid Loss: 3.183\n",
      "\tValid WER: 0.8453\n",
      "\tValid CER: 0.6328\n",
      "Validation CER improved. Model saved to ./output_lstm_subword/best_lstm_model_cer.pt.\n",
      "Epoch: 83 | Time: 3m 33s\n"
     ]
    },
    {
     "name": "stderr",
     "output_type": "stream",
     "text": [
      "Training Epoch 84/100: 100%|██████████| 1251/1251 [03:16<00:00,  6.37it/s]\n",
      "Validation Epoch 84/100: 100%|██████████| 157/157 [00:09<00:00, 17.16it/s]\n"
     ]
    },
    {
     "name": "stdout",
     "output_type": "stream",
     "text": [
      "\tTrain Loss: 1.507\n",
      "\tValid Loss: 3.182\n",
      "\tValid WER: 0.8803\n",
      "\tValid CER: 0.6658\n",
      "Epoch: 84 | Time: 3m 35s\n"
     ]
    },
    {
     "name": "stderr",
     "output_type": "stream",
     "text": [
      "Training Epoch 85/100: 100%|██████████| 1251/1251 [03:13<00:00,  6.46it/s]\n",
      "Validation Epoch 85/100: 100%|██████████| 157/157 [00:09<00:00, 16.43it/s]\n"
     ]
    },
    {
     "name": "stdout",
     "output_type": "stream",
     "text": [
      "\tTrain Loss: 1.484\n",
      "\tValid Loss: 3.182\n",
      "\tValid WER: 0.8763\n",
      "\tValid CER: 0.6626\n",
      "Early stopping triggered.\n"
     ]
    }
   ],
   "source": [
    "# Training loop\n",
    "N_EPOCHS = 100\n",
    "best_valid_loss = float('inf')\n",
    "best_valid_cer = float('inf')\n",
    "patience = 5\n",
    "counter = 0\n",
    "\n",
    "train_losses = []\n",
    "valid_losses = []\n",
    "\n",
    "train_wers = []\n",
    "valid_wers = []\n",
    "train_cers = []\n",
    "valid_cers = []\n",
    "\n",
    "for epoch in range(1, N_EPOCHS + 1):\n",
    "    start_time = time.time()\n",
    "\n",
    "    # Training\n",
    "    model.train()\n",
    "    epoch_train_loss = 0\n",
    "    for src, trg in tqdm(train_loader, desc=f'Training Epoch {epoch}/{N_EPOCHS}'):\n",
    "        src = src.to(DEVICE)\n",
    "        trg = trg.to(DEVICE)\n",
    "\n",
    "        optimizer.zero_grad()\n",
    "        output = model(src, trg)\n",
    "\n",
    "        # Reshape for loss computation\n",
    "        output = output.reshape(-1, VOCAB_SIZE)\n",
    "        trg = trg[:, 1:].reshape(-1)  # Remove first token (<s>) for target\n",
    "\n",
    "        loss = criterion(output, trg)\n",
    "        loss.backward()\n",
    "\n",
    "        optimizer.step()\n",
    "\n",
    "        epoch_train_loss += loss.item()\n",
    "\n",
    "    epoch_train_loss /= len(train_loader)\n",
    "    train_losses.append(epoch_train_loss)\n",
    "\n",
    "    # Validation\n",
    "    model.eval()\n",
    "    epoch_valid_loss = 0\n",
    "    with torch.no_grad():\n",
    "        for src, trg in tqdm(val_loader, desc=f'Validation Epoch {epoch}/{N_EPOCHS}'):\n",
    "            src = src.to(DEVICE)\n",
    "            trg = trg.to(DEVICE)\n",
    "\n",
    "            output = model(src, trg)\n",
    "\n",
    "            output = output.reshape(-1, VOCAB_SIZE)\n",
    "            trg = trg[:, 1:].reshape(-1)  # Remove <BOS>\n",
    "\n",
    "            loss = criterion(output, trg)\n",
    "            epoch_valid_loss += loss.item()\n",
    "\n",
    "    epoch_valid_loss /= len(val_loader)\n",
    "    valid_losses.append(epoch_valid_loss)\n",
    "    \n",
    "    valid_cer, valid_wer = evaluate_wer(model, val_loader, sp)\n",
    "    valid_wers.append(valid_wer)\n",
    "    valid_cers.append(valid_cer)\n",
    "    \n",
    "    print(f'\\tTrain Loss: {epoch_train_loss:.3f}')\n",
    "    print(f'\\tValid Loss: {epoch_valid_loss:.3f}')\n",
    "    print(f'\\tValid WER: {valid_wer:.4f}')\n",
    "    print(f'\\tValid CER: {valid_cer:.4f}')\n",
    "    \n",
    "    # Early stopping check\n",
    "    if epoch_valid_loss < best_valid_loss:\n",
    "        best_valid_loss = epoch_valid_loss\n",
    "        torch.save(model.state_dict(), BEST_MODEL_PATH)\n",
    "        print(f'Validation loss improved. Model saved to {BEST_MODEL_PATH}.')\n",
    "        counter = 0\n",
    "    else:\n",
    "        counter += 1\n",
    "        if counter >= patience:\n",
    "            print('Early stopping triggered.')\n",
    "            break\n",
    "\n",
    "    if valid_cer < best_valid_cer:\n",
    "        best_valid_cer = valid_cer\n",
    "        torch.save(model.state_dict(), BEST_CER_MODEL_PATH)\n",
    "        print(f'Validation CER improved. Model saved to {BEST_CER_MODEL_PATH}.')\n",
    "\n",
    "    end_time = time.time()\n",
    "    epoch_mins, epoch_secs = divmod(int(end_time - start_time), 60)\n",
    "\n",
    "    print(f'Epoch: {epoch:02} | Time: {epoch_mins}m {epoch_secs}s')"
   ]
  },
  {
   "cell_type": "code",
   "execution_count": null,
   "metadata": {},
   "outputs": [
    {
     "data": {
      "image/png": "[encoded data removed]",
      "text/plain": [
       "<Figure size 1000x500 with 1 Axes>"
      ]
     },
     "metadata": {},
     "output_type": "display_data"
    },
    {
     "name": "stdout",
     "output_type": "stream",
     "text": [
      "Loss plot saved to ./output_lstm_subword/lstm_loss_plot_subword.png.\n"
     ]
    }
   ],
   "source": [
    "# Plot training and validation loss\n",
    "plt.figure(figsize=(10, 5))\n",
    "plt.plot(range(1, len(train_losses) + 1), train_losses, label='Train Loss')\n",
    "plt.plot(range(1, len(valid_losses) + 1), valid_losses, label='Validation Loss')\n",
    "plt.xlabel('Epoch')\n",
    "plt.ylabel('Loss')\n",
    "plt.legend()\n",
    "plt.title('Training and Validation Loss')\n",
    "plt.savefig(LOSS_PLOT_PATH)\n",
    "plt.show()\n",
    "print(f'Loss plot saved to {LOSS_PLOT_PATH}.')"
   ]
  },
  {
   "cell_type": "code",
   "execution_count": null,
   "metadata": {},
   "outputs": [
    {
     "data": {
      "image/png": "[encoded data removed]",
      "text/plain": [
       "<Figure size 1000x500 with 1 Axes>"
      ]
     },
     "metadata": {},
     "output_type": "display_data"
    },
    {
     "name": "stdout",
     "output_type": "stream",
     "text": [
      "Plot saved to ./output_lstm_subword/er_plot_subword.png.\n"
     ]
    }
   ],
   "source": [
    "# Plot validation CER & WER over epochs\n",
    "plt.figure(figsize=(10, 5))\n",
    "plt.plot(range(1, len(valid_wers) + 1), valid_wers, label='Validation WER')\n",
    "plt.plot(range(1, len(valid_cers) + 1), valid_cers, label='Validation CER')\n",
    "plt.xlabel('Epoch')\n",
    "plt.ylabel('WER & CER')\n",
    "plt.legend()\n",
    "plt.title('Validation WER & CER Over Epochs')\n",
    "plt.savefig(ER_PLOT_PATH)\n",
    "\n",
    "plt.show()\n",
    "print(f'Plot saved to {ER_PLOT_PATH}.')"
   ]
  },
  {
   "cell_type": "code",
   "execution_count": null,
   "metadata": {},
   "outputs": [],
   "source": [
    "def translate_sentence(sentence, model, sp, device, max_len=MAX_LEN):\n",
    "    model.eval()\n",
    "    tokens = [BOS_IDX] + sp.EncodeAsIds(sentence) + [EOS_IDX]\n",
    "    tokens = tokens[:max_len] + [PAD_IDX] * max(0, max_len - len(tokens))\n",
    "    src_tensor = torch.tensor(tokens, dtype=torch.long).unsqueeze(0).to(device)\n",
    "\n",
    "    with torch.no_grad():\n",
    "        outputs = model.predict(src_tensor, max_len)\n",
    "    outputs = outputs.squeeze(0).tolist()\n",
    "\n",
    "    # Stop at EOS token\n",
    "    if EOS_IDX in outputs:\n",
    "        eos_index = outputs.index(EOS_IDX)\n",
    "        outputs = outputs[:eos_index]\n",
    "    # Remove PAD and EOS tokens\n",
    "    outputs = [idx for idx in outputs if idx not in [PAD_IDX, EOS_IDX]]\n",
    "    translation = sp.DecodeIds(outputs)\n",
    "    return translation"
   ]
  },
  {
   "cell_type": "code",
   "execution_count": null,
   "metadata": {},
   "outputs": [],
   "source": [
    "def evaluate_and_save(model, df, src_sequences, trg_sequences, sp, file_name):\n",
    "    model.eval()\n",
    "    predictions = []\n",
    "    cer_scores = []\n",
    "    wer_scores = []\n",
    "\n",
    "    for src_ids, trg_ids in tqdm(zip(src_sequences, trg_sequences), total=len(src_sequences), desc=f'Evaluating {file_name}'):\n",
    "        src_sentence = sp.DecodeIds([id for id in src_ids if id not in [BOS_IDX, EOS_IDX, PAD_IDX]])\n",
    "        trg_sentence = sp.DecodeIds([id for id in trg_ids if id not in [BOS_IDX, EOS_IDX, PAD_IDX]])\n",
    "\n",
    "        pred_sentence = translate_sentence(src_sentence, model, sp, DEVICE)\n",
    "        predictions.append(pred_sentence)\n",
    "        cer_score = cer(trg_sentence, pred_sentence)\n",
    "        wer_score = wer(trg_sentence, pred_sentence)\n",
    "        cer_scores.append(cer_score)\n",
    "        wer_scores.append(wer_score)\n",
    "\n",
    "    results_df = pd.DataFrame({\n",
    "        'Source': df['inFormalForm'],\n",
    "        'Target': df['FormalForm'],\n",
    "        'Prediction': predictions,\n",
    "        'CER': cer_scores,\n",
    "        'WER': wer_scores\n",
    "    })\n",
    "\n",
    "    results_df = results_df.sort_values(by=['CER', 'WER'], ascending=[True, True])\n",
    "\n",
    "    results_path = os.path.join(OUTPUT_DIR, file_name)\n",
    "    results_df.to_csv(results_path, index=False)\n",
    "    avg_cer = np.mean(cer_scores)\n",
    "    avg_wer = np.mean(wer_scores)\n",
    "    print(f'Results saved to {results_path}')\n",
    "    print(f'Average CER: {avg_cer:.4f}')\n",
    "    print(f'Average WER: {avg_wer:.4f}')\n",
    "    return results_df"
   ]
  },
  {
   "cell_type": "code",
   "execution_count": null,
   "metadata": {},
   "outputs": [
    {
     "name": "stderr",
     "output_type": "stream",
     "text": [
      "C:\\Users\\HiRaD\\AppData\\Local\\Temp\\ipykernel_16068\\4093574819.py:2: FutureWarning: You are using `torch.load` with `weights_only=False` (the current default value), which uses the default pickle module implicitly. It is possible to construct malicious pickle data which will execute arbitrary code during unpickling (See https://github.com/pytorch/pytorch/blob/main/SECURITY.md#untrusted-models for more details). In a future release, the default value for `weights_only` will be flipped to `True`. This limits the functions that could be executed during unpickling. Arbitrary objects will no longer be allowed to be loaded via this mode unless they are explicitly allowlisted by the user via `torch.serialization.add_safe_globals`. We recommend you start setting `weights_only=True` for any use case where you don't have full control of the loaded file. Please open an issue on GitHub for any issues related to this experimental feature.\n",
      "  model.load_state_dict(torch.load(BEST_MODEL_PATH))\n"
     ]
    },
    {
     "name": "stdout",
     "output_type": "stream",
     "text": [
      "Best model loaded.\n",
      "Evaluating on training data...\n"
     ]
    },
    {
     "name": "stderr",
     "output_type": "stream",
     "text": [
      "Evaluating train_results_subword_lstm.csv: 100%|██████████| 40008/40008 [12:37<00:00, 52.80it/s]\n"
     ]
    },
    {
     "name": "stdout",
     "output_type": "stream",
     "text": [
      "Results saved to ./output_lstm_subword/train_results_subword_lstm.csv\n",
      "Average CER: 0.4539\n",
      "Average WER: 0.6047\n",
      "Evaluating on validation data...\n"
     ]
    },
    {
     "name": "stderr",
     "output_type": "stream",
     "text": [
      "Evaluating val_results_subword_lstm.csv: 100%|██████████| 5001/5001 [01:35<00:00, 52.52it/s]\n"
     ]
    },
    {
     "name": "stdout",
     "output_type": "stream",
     "text": [
      "Results saved to ./output_lstm_subword/val_results_subword_lstm.csv\n",
      "Average CER: 0.5979\n",
      "Average WER: 0.7995\n",
      "Evaluating on test data...\n"
     ]
    },
    {
     "name": "stderr",
     "output_type": "stream",
     "text": [
      "Evaluating test_results_subword_lstm.csv: 100%|██████████| 5002/5002 [01:38<00:00, 50.83it/s]\n"
     ]
    },
    {
     "name": "stdout",
     "output_type": "stream",
     "text": [
      "Results saved to ./output_lstm_subword/test_results_subword_lstm.csv\n",
      "Average CER: 0.5941\n",
      "Average WER: 0.7964\n"
     ]
    }
   ],
   "source": [
    "model.load_state_dict(torch.load(BEST_MODEL_PATH))\n",
    "print('Best model loaded.')\n",
    "\n",
    "print('Evaluating on training data...')\n",
    "train_results = evaluate_and_save(model, train_df, train_src, train_trg, sp, 'train_results_subword_lstm.csv')\n",
    "\n",
    "print('Evaluating on validation data...')\n",
    "val_results = evaluate_and_save(model, val_df, val_src, val_trg, sp, 'val_results_subword_lstm.csv')\n",
    "\n",
    "print('Evaluating on test data...')\n",
    "test_results = evaluate_and_save(model, test_df, test_src, test_trg, sp, 'test_results_subword_lstm.csv')"
   ]
  },
  {
   "cell_type": "code",
   "execution_count": null,
   "metadata": {},
   "outputs": [
    {
     "name": "stderr",
     "output_type": "stream",
     "text": [
      "C:\\Users\\HiRaD\\AppData\\Local\\Temp\\ipykernel_16068\\2110300272.py:2: FutureWarning: You are using `torch.load` with `weights_only=False` (the current default value), which uses the default pickle module implicitly. It is possible to construct malicious pickle data which will execute arbitrary code during unpickling (See https://github.com/pytorch/pytorch/blob/main/SECURITY.md#untrusted-models for more details). In a future release, the default value for `weights_only` will be flipped to `True`. This limits the functions that could be executed during unpickling. Arbitrary objects will no longer be allowed to be loaded via this mode unless they are explicitly allowlisted by the user via `torch.serialization.add_safe_globals`. We recommend you start setting `weights_only=True` for any use case where you don't have full control of the loaded file. Please open an issue on GitHub for any issues related to this experimental feature.\n",
      "  model.load_state_dict(torch.load(BEST_CER_MODEL_PATH))\n"
     ]
    },
    {
     "name": "stdout",
     "output_type": "stream",
     "text": [
      "Best CER model loaded.\n",
      "Evaluating on training data using best CER model...\n"
     ]
    },
    {
     "name": "stderr",
     "output_type": "stream",
     "text": [
      "Evaluating train_results_subword_best_cer.csv: 100%|██████████| 40008/40008 [12:43<00:00, 52.39it/s]\n"
     ]
    },
    {
     "name": "stdout",
     "output_type": "stream",
     "text": [
      "Results saved to ./output_lstm_subword/train_results_subword_best_cer.csv\n",
      "Average CER: 0.4445\n",
      "Average WER: 0.5930\n",
      "Evaluating on validation data using best CER model...\n"
     ]
    },
    {
     "name": "stderr",
     "output_type": "stream",
     "text": [
      "Evaluating val_results_subword_best_cer.csv: 100%|██████████| 5001/5001 [01:34<00:00, 52.99it/s]\n"
     ]
    },
    {
     "name": "stdout",
     "output_type": "stream",
     "text": [
      "Results saved to ./output_lstm_subword/val_results_subword_best_cer.csv\n",
      "Average CER: 0.5975\n",
      "Average WER: 0.8010\n",
      "Evaluating on test data using best CER model...\n"
     ]
    },
    {
     "name": "stderr",
     "output_type": "stream",
     "text": [
      "Evaluating test_results_subword_best_cer.csv: 100%|██████████| 5002/5002 [01:35<00:00, 52.53it/s]"
     ]
    },
    {
     "name": "stdout",
     "output_type": "stream",
     "text": [
      "Results saved to ./output_lstm_subword/test_results_subword_best_cer.csv\n",
      "Average CER: 0.5970\n",
      "Average WER: 0.8017\n"
     ]
    },
    {
     "name": "stderr",
     "output_type": "stream",
     "text": [
      "\n"
     ]
    }
   ],
   "source": [
    "model.load_state_dict(torch.load(BEST_CER_MODEL_PATH))\n",
    "print('Best CER model loaded.')\n",
    "\n",
    "print('Evaluating on training data using best CER model...')\n",
    "train_results = evaluate_and_save(model, train_df, train_src, train_trg, sp, 'train_results_subword_best_cer.csv')\n",
    "\n",
    "print('Evaluating on validation data using best CER model...')\n",
    "val_results = evaluate_and_save(model, val_df, val_src, val_trg, sp, 'val_results_subword_best_cer.csv')\n",
    "\n",
    "print('Evaluating on test data using best CER model...')\n",
    "test_results = evaluate_and_save(model, test_df, test_src, test_trg, sp, 'test_results_subword_best_cer.csv')"
   ]
  }
 ],
 "metadata": {
  "kernelspec": {
   "display_name": "quera",
   "language": "python",
   "name": "python3"
  },
  "language_info": {
   "codemirror_mode": {
    "name": "ipython",
    "version": 3
   },
   "file_extension": ".py",
   "mimetype": "text/x-python",
   "name": "python",
   "nbconvert_exporter": "python",
   "pygments_lexer": "ipython3",
   "version": "3.9.19"
  }
 },
 "nbformat": 4,
 "nbformat_minor": 2
}
